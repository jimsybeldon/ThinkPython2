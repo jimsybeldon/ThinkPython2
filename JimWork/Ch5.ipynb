{
 "cells": [
  {
   "attachments": {},
   "cell_type": "markdown",
   "metadata": {},
   "source": [
    "# Chapter 5  Conditionals and recursion\n",
    "\n",
    "5.1  Floor division and modulus\n",
    "The floor division operator, //, divides two numbers and rounds down to an integer."
   ]
  },
  {
   "cell_type": "code",
   "execution_count": 1,
   "metadata": {},
   "outputs": [
    {
     "data": {
      "text/plain": [
       "1.75"
      ]
     },
     "execution_count": 1,
     "metadata": {},
     "output_type": "execute_result"
    }
   ],
   "source": [
    "minutes = 105\n",
    "minutes / 60"
   ]
  },
  {
   "attachments": {},
   "cell_type": "markdown",
   "metadata": {},
   "source": [
    "Normal division means normal decimal places.  // rounds down to the whole number."
   ]
  },
  {
   "cell_type": "code",
   "execution_count": 2,
   "metadata": {},
   "outputs": [
    {
     "data": {
      "text/plain": [
       "1"
      ]
     },
     "execution_count": 2,
     "metadata": {},
     "output_type": "execute_result"
    }
   ],
   "source": [
    "hours = minutes // 60\n",
    "hours"
   ]
  },
  {
   "attachments": {},
   "cell_type": "markdown",
   "metadata": {},
   "source": [
    "The concept of remainder works out to be:"
   ]
  },
  {
   "cell_type": "code",
   "execution_count": 3,
   "metadata": {},
   "outputs": [
    {
     "name": "stdout",
     "output_type": "stream",
     "text": [
      "45  minutes\n"
     ]
    }
   ],
   "source": [
    "remainder = minutes - hours*60\n",
    "print(remainder,\" minutes\")"
   ]
  },
  {
   "attachments": {},
   "cell_type": "markdown",
   "metadata": {},
   "source": [
    "python does provide the modulus command ---"
   ]
  },
  {
   "cell_type": "code",
   "execution_count": null,
   "metadata": {},
   "outputs": [],
   "source": [
    "remainder60 = minutes %60\n",
    "print(remainder60)\n",
    "print(minutes)"
   ]
  },
  {
   "attachments": {},
   "cell_type": "markdown",
   "metadata": {},
   "source": [
    "# 5.2 Boolean Expressions\n",
    "use ==, >=, <=, >, <, or !=  These must be typed in the order shown"
   ]
  },
  {
   "cell_type": "code",
   "execution_count": null,
   "metadata": {},
   "outputs": [],
   "source": [
    "5 == 5"
   ]
  },
  {
   "cell_type": "code",
   "execution_count": null,
   "metadata": {},
   "outputs": [],
   "source": [
    "6 == 5"
   ]
  },
  {
   "cell_type": "code",
   "execution_count": null,
   "metadata": {},
   "outputs": [],
   "source": [
    "n=6\n",
    "print(n)\n",
    "print(n%2,' mod 2 remainder')\n",
    "print(n%3,' mod 3 remainder')\n",
    "n%2 == n%3"
   ]
  },
  {
   "cell_type": "code",
   "execution_count": null,
   "metadata": {},
   "outputs": [],
   "source": [
    "n=4\n",
    "print(n)\n",
    "print(n%2,' mod 2 remainder')\n",
    "print(n%3,' mod 3 remainder')\n",
    "n%2 == n%3"
   ]
  },
  {
   "cell_type": "code",
   "execution_count": null,
   "metadata": {},
   "outputs": [],
   "source": [
    "n=9\n",
    "print(n)\n",
    "print(n%2,' mod 2 remainder')\n",
    "print(n%3,' mod 3 remainder')\n",
    "n%2 == n%3"
   ]
  },
  {
   "cell_type": "code",
   "execution_count": null,
   "metadata": {},
   "outputs": [],
   "source": [
    "n=13\n",
    "print(n)\n",
    "print(n%2,' mod 2 remainder')\n",
    "print(n%3,' mod 3 remainder')\n",
    "n%2 == n%3"
   ]
  },
  {
   "attachments": {},
   "cell_type": "markdown",
   "metadata": {},
   "source": [
    "Interestingly the modulust of a negative number is not\n",
    "negative.  The floor of -8 mod 3 is -9 meaning the remainder is +1 !!!!\n",
    "\n",
    "The else statement will never be run in this particular case."
   ]
  },
  {
   "cell_type": "code",
   "execution_count": 4,
   "metadata": {},
   "outputs": [
    {
     "name": "stdout",
     "output_type": "stream",
     "text": [
      "2\n",
      "you have a remainder of  2\n"
     ]
    }
   ],
   "source": [
    "x = -10\n",
    "modulus = 3\n",
    "print(x%modulus)\n",
    "if (x%modulus) > 0:\n",
    "    print(\"you have a remainder of \",x%modulus)\n",
    "elif (x%modulus) == 0:\n",
    "    print(\"the number is divisable by the modulus\")\n",
    "else:\n",
    "    print(\"no negative numbers nimrod\")\n",
    "    pass"
   ]
  },
  {
   "attachments": {},
   "cell_type": "markdown",
   "metadata": {},
   "source": [
    "## 5.7  Nested conditionals"
   ]
  }
 ],
 "metadata": {
  "kernelspec": {
   "display_name": "Python 3",
   "language": "python",
   "name": "python3"
  },
  "language_info": {
   "codemirror_mode": {
    "name": "ipython",
    "version": 3
   },
   "file_extension": ".py",
   "mimetype": "text/x-python",
   "name": "python",
   "nbconvert_exporter": "python",
   "pygments_lexer": "ipython3",
   "version": "3.9.2"
  },
  "orig_nbformat": 4,
  "vscode": {
   "interpreter": {
    "hash": "e7370f93d1d0cde622a1f8e1c04877d8463912d04d973331ad4851f04de6915a"
   }
  }
 },
 "nbformat": 4,
 "nbformat_minor": 2
}
