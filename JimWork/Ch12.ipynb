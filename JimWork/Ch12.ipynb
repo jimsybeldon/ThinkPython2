{
 "cells": [
  {
   "cell_type": "markdown",
   "id": "17d477e1-de4c-4120-82f9-d86b45c9de8d",
   "metadata": {},
   "source": [
    "Buy this book at Amazon.com\n",
    "\n",
    "    Chapter 12  Tuples\n",
    "\n",
    "This chapter presents one more built-in type, the tuple, and then shows how lists, dictionaries, and tuples work together. I also present a useful feature for variable-length argument lists, the gather and scatter operators.\n",
    "\n",
    "One note: there is no consensus on how to pronounce “tuple”. Some people say “tuh-ple”, which rhymes with “supple”. But in the context of programming, most people say “too-ple”, which rhymes with “quadruple”.\n",
    "\n",
    "    12.1  Tuples are immutable\n",
    "\n",
    "A tuple is a sequence of values. The values can be any type, and they are indexed by integers, so in that respect tuples are a lot like lists. \n",
    "\n",
    "            The important difference is that tuples are immutable.\n",
    "\n",
    "Syntactically, a tuple is a comma-separated list of values:"
   ]
  },
  {
   "cell_type": "code",
   "execution_count": 62,
   "id": "48472618-3aff-4a5a-9ca1-90afb7731cd5",
   "metadata": {},
   "outputs": [
    {
     "data": {
      "text/plain": [
       "('a', 'b', 'c', 'd', 'e')"
      ]
     },
     "execution_count": 62,
     "metadata": {},
     "output_type": "execute_result"
    }
   ],
   "source": [
    "t = 'a', 'b', 'c', 'd', 'e'\n",
    "t"
   ]
  },
  {
   "cell_type": "markdown",
   "id": "7642dd53-37d0-43f5-aac5-4b4c1f10c071",
   "metadata": {},
   "source": [
    "Although it is not necessary, it is common to enclose tuples in parentheses:"
   ]
  },
  {
   "cell_type": "code",
   "execution_count": 63,
   "id": "cb94b18f-c36f-451e-b541-39b8efe74217",
   "metadata": {},
   "outputs": [
    {
     "data": {
      "text/plain": [
       "('a', 'b', 'c', 'd', 'e')"
      ]
     },
     "execution_count": 63,
     "metadata": {},
     "output_type": "execute_result"
    }
   ],
   "source": [
    "t = ('a', 'b', 'c', 'd', 'e')\n",
    "t"
   ]
  },
  {
   "cell_type": "markdown",
   "id": "3fe96391-173e-4bef-8f33-b49522ed3904",
   "metadata": {},
   "source": [
    "To create a tuple with a single element, you have to include a final comma:"
   ]
  },
  {
   "cell_type": "code",
   "execution_count": 64,
   "id": "8441933a-53f7-4c5e-961f-71fb1a7d747d",
   "metadata": {},
   "outputs": [
    {
     "data": {
      "text/plain": [
       "tuple"
      ]
     },
     "execution_count": 64,
     "metadata": {},
     "output_type": "execute_result"
    }
   ],
   "source": [
    "t1 = 'a',\n",
    "type(t1)"
   ]
  },
  {
   "cell_type": "markdown",
   "id": "cb5c9211-bc5a-4c9d-ad7b-c0cbf2bb5dc2",
   "metadata": {},
   "source": [
    "A value in parentheses is not a tuple:"
   ]
  },
  {
   "cell_type": "code",
   "execution_count": 65,
   "id": "2913ef84-3334-456a-8468-98bdb97d137a",
   "metadata": {},
   "outputs": [
    {
     "data": {
      "text/plain": [
       "str"
      ]
     },
     "execution_count": 65,
     "metadata": {},
     "output_type": "execute_result"
    }
   ],
   "source": [
    "t2 = ('a')\n",
    "type(t2)"
   ]
  },
  {
   "cell_type": "markdown",
   "id": "9908e99e-0efc-43f2-9642-f08c13e6a743",
   "metadata": {},
   "source": [
    "<class 'str'>\n",
    "Another way to create a tuple is the built-in function tuple. With no argument, it creates an empty tuple:"
   ]
  },
  {
   "cell_type": "code",
   "execution_count": 66,
   "id": "d394f460-92ab-4557-94b1-9f4a667550c9",
   "metadata": {},
   "outputs": [
    {
     "data": {
      "text/plain": [
       "()"
      ]
     },
     "execution_count": 66,
     "metadata": {},
     "output_type": "execute_result"
    }
   ],
   "source": [
    "t = tuple()\n",
    "t"
   ]
  },
  {
   "cell_type": "markdown",
   "id": "e77f0625-814c-4600-a1d9-8ebf0d9931fd",
   "metadata": {},
   "source": [
    "()\n",
    "If the argument is a sequence (string, list or tuple), \n",
    "\n",
    "        the result is a tuple with the elements of the sequence:"
   ]
  },
  {
   "cell_type": "code",
   "execution_count": 67,
   "id": "292619c7-e7fc-4818-bb85-babf8e8af287",
   "metadata": {},
   "outputs": [
    {
     "data": {
      "text/plain": [
       "('l', 'u', 'p', 'i', 'n', 's')"
      ]
     },
     "execution_count": 67,
     "metadata": {},
     "output_type": "execute_result"
    }
   ],
   "source": [
    "t = tuple('lupins')\n",
    "t"
   ]
  },
  {
   "cell_type": "markdown",
   "id": "adfbc1b6-ee3a-47aa-9445-ac6dd4dcbb9f",
   "metadata": {},
   "source": [
    "('l', 'u', 'p', 'i', 'n', 's')\n",
    "Because tuple is the name of a built-in function, you should avoid using it as a variable name.\n",
    "\n",
    "Most list operators also work on tuples. The bracket operator indexes an element:"
   ]
  },
  {
   "cell_type": "code",
   "execution_count": 68,
   "id": "a01f4f41-7fb3-4832-86e9-5d3291992d30",
   "metadata": {},
   "outputs": [
    {
     "data": {
      "text/plain": [
       "'a'"
      ]
     },
     "execution_count": 68,
     "metadata": {},
     "output_type": "execute_result"
    }
   ],
   "source": [
    "t = ('a', 'b', 'c', 'd', 'e')\n",
    "t[0]"
   ]
  },
  {
   "cell_type": "markdown",
   "id": "186d372d-7878-480a-8500-63180d0be4cd",
   "metadata": {},
   "source": [
    "'a'\n",
    "And the slice operator selects a range of elements."
   ]
  },
  {
   "cell_type": "code",
   "execution_count": 69,
   "id": "a823feff-58d4-410f-a6d4-02b8169c26b3",
   "metadata": {},
   "outputs": [
    {
     "data": {
      "text/plain": [
       "('b', 'c')"
      ]
     },
     "execution_count": 69,
     "metadata": {},
     "output_type": "execute_result"
    }
   ],
   "source": [
    "t[1:3]"
   ]
  },
  {
   "cell_type": "markdown",
   "id": "a783aee0-580d-4306-ad87-dc2cc401b26e",
   "metadata": {},
   "source": [
    "('b', 'c')\n",
    "But if you try to modify one of the elements of the tuple, you get an error:"
   ]
  },
  {
   "cell_type": "code",
   "execution_count": 70,
   "id": "54091089-b5ff-464b-af9c-cd54ae8d2280",
   "metadata": {},
   "outputs": [
    {
     "ename": "TypeError",
     "evalue": "'tuple' object does not support item assignment",
     "output_type": "error",
     "traceback": [
      "\u001b[1;31m---------------------------------------------------------------------------\u001b[0m",
      "\u001b[1;31mTypeError\u001b[0m                                 Traceback (most recent call last)",
      "\u001b[1;32m~\\AppData\\Local\\Temp\\ipykernel_140200\\3054271853.py\u001b[0m in \u001b[0;36m<module>\u001b[1;34m\u001b[0m\n\u001b[1;32m----> 1\u001b[1;33m \u001b[0mt\u001b[0m\u001b[1;33m[\u001b[0m\u001b[1;36m0\u001b[0m\u001b[1;33m]\u001b[0m \u001b[1;33m=\u001b[0m \u001b[1;34m'A'\u001b[0m\u001b[1;33m\u001b[0m\u001b[1;33m\u001b[0m\u001b[0m\n\u001b[0m",
      "\u001b[1;31mTypeError\u001b[0m: 'tuple' object does not support item assignment"
     ]
    }
   ],
   "source": [
    "t[0] = 'A'"
   ]
  },
  {
   "cell_type": "markdown",
   "id": "83751461-82ff-4e9a-9f3e-67da1674f6b9",
   "metadata": {},
   "source": [
    "TypeError: object doesn't support item assignment\n",
    "Because tuples are immutable, you can’t modify the elements. But you can replace one tuple with another:"
   ]
  },
  {
   "cell_type": "code",
   "execution_count": null,
   "id": "78b39557-b03d-4e02-9e16-9342a6bab75d",
   "metadata": {},
   "outputs": [],
   "source": [
    "t = ('A',) + t[1:]\n",
    "t"
   ]
  },
  {
   "cell_type": "markdown",
   "id": "4277d9ce-e89d-49a9-8608-70fd6618b534",
   "metadata": {},
   "source": [
    "('A', 'b', 'c', 'd', 'e')\n",
    "This statement makes a new tuple and then makes t refer to it.\n",
    "\n",
    "The relational operators work with tuples and other sequences; Python starts by comparing the first element from each sequence. If they are equal, it goes on to the next elements, and so on, until it finds elements that differ. Subsequent elements are not considered (even if they are really big)."
   ]
  },
  {
   "cell_type": "code",
   "execution_count": null,
   "id": "5690b52f-cce1-4ffa-8ac2-8498fafff882",
   "metadata": {},
   "outputs": [],
   "source": [
    "(0, 1, 2) < (0, 3, 4)"
   ]
  },
  {
   "cell_type": "code",
   "execution_count": null,
   "id": "87ce8656-b869-4a66-ad97-72374e743e81",
   "metadata": {},
   "outputs": [],
   "source": [
    "(0, 1, 2000000) < (0, 3, 4)"
   ]
  },
  {
   "cell_type": "markdown",
   "id": "8604b269-20b7-46a5-b57a-34aee3cd6d25",
   "metadata": {},
   "source": [
    "    12.2  Tuple assignment\n",
    "\n",
    "It is often useful to swap the values of two variables. With conventional assignments, you have to use a temporary variable. For example, to swap a and b:"
   ]
  },
  {
   "cell_type": "code",
   "execution_count": null,
   "id": "ea9941c0-61e8-44c5-8d3d-7f7e79fe1c7b",
   "metadata": {},
   "outputs": [],
   "source": [
    "a=tuple('jim')\n",
    "b=tuple('james')\n",
    "temp = a\n",
    "a = b\n",
    "b= temp\n",
    "print(a)\n",
    "print(b)"
   ]
  },
  {
   "cell_type": "markdown",
   "id": "355c125c-373f-4189-8685-5ced92be42b9",
   "metadata": {},
   "source": [
    "This solution is cumbersome; tuple assignment is more elegant:"
   ]
  },
  {
   "cell_type": "code",
   "execution_count": null,
   "id": "6090a1d8-eaed-44f8-b6f1-334ec3dfe0a3",
   "metadata": {},
   "outputs": [],
   "source": [
    "print(a,'=a               ',b,'=b   ')\n",
    "a, b = b, a\n",
    "print(a,'=a               ',b,'=b  ')"
   ]
  },
  {
   "cell_type": "markdown",
   "id": "ddd52886-4b6d-497d-ad16-b24a40201cd1",
   "metadata": {},
   "source": [
    "The left side is a tuple of variables; the right side is a tuple of expressions. Each value is assigned to its respective variable. All the expressions on the right side are evaluated before any of the assignments.\n",
    "\n",
    "The number of variables on the left and the number of values on the right have to be the same:"
   ]
  },
  {
   "cell_type": "code",
   "execution_count": null,
   "id": "408387b3-8106-4ed6-b863-4f8b32cee787",
   "metadata": {},
   "outputs": [],
   "source": [
    "a, b = 1, 2, 3"
   ]
  },
  {
   "cell_type": "markdown",
   "id": "ff83d70f-1af9-486d-8c52-b05b9e42b7d4",
   "metadata": {},
   "source": [
    "More generally, the right side can be any kind of sequence (string, list or tuple). For example, to split an email address into a user name and a domain, you could write:"
   ]
  },
  {
   "cell_type": "code",
   "execution_count": null,
   "id": "4a0a5b30-b9e8-4a57-b63b-fa4b43f9abc7",
   "metadata": {},
   "outputs": [],
   "source": [
    "addr = 'monty@python.org'\n",
    "uname, domain = addr.split('@')\n",
    "print(uname)\n",
    "print(domain)"
   ]
  },
  {
   "cell_type": "markdown",
   "id": "4f282324-4798-453e-9441-27d64601e53b",
   "metadata": {},
   "source": [
    "The return value from split is a list with two elements; \n",
    "    \n",
    "    the first element is assigned to uname, \n",
    "    the second to domain.\n",
    "\n",
    "\n",
    "Strictly speaking, a function can only return one value, but if the value is a tuple, the effect is the same as returning multiple values. For example, if you want to divide two integers and compute the quotient and remainder, it is inefficient to compute x//y and then x%y. It is better to compute them both at the same time.\n",
    "\n",
    "The built-in function divmod takes two arguments and returns a tuple of two values, the quotient and remainder. You can store the result as a tuple:"
   ]
  },
  {
   "cell_type": "code",
   "execution_count": null,
   "id": "2bd96b9a-96b4-4ec2-9e90-755d1b5f47e8",
   "metadata": {},
   "outputs": [],
   "source": [
    "t = divmod(7, 3)\n",
    "t"
   ]
  },
  {
   "cell_type": "markdown",
   "id": "230963b1-5c45-4ec0-909a-19dd73040157",
   "metadata": {},
   "source": [
    "Or use tuple assignment to store the elements separately:"
   ]
  },
  {
   "cell_type": "code",
   "execution_count": null,
   "id": "a8ecbaa5-1501-4bec-ade5-1de2fd005de7",
   "metadata": {},
   "outputs": [],
   "source": [
    "quot, rem = divmod(7, 3)\n",
    "print(quot, rem)"
   ]
  },
  {
   "cell_type": "markdown",
   "id": "0193ae61-34e6-4c4a-b1ba-07193fd41d97",
   "metadata": {},
   "source": [
    "Here is an example of a function that returns a tuple:"
   ]
  },
  {
   "cell_type": "code",
   "execution_count": null,
   "id": "07a598ea-38b5-4499-a10b-061207858950",
   "metadata": {},
   "outputs": [],
   "source": [
    "t = divmod(7, 3)\n",
    "def min_max(t):\n",
    "    return min(t), max(t)\n",
    "min_max(t)"
   ]
  },
  {
   "cell_type": "markdown",
   "id": "24316462-6681-412e-8a06-8f77b3478a40",
   "metadata": {},
   "source": [
    "max and min are built-in functions that find the largest and smallest elements of a sequence. min_max computes both and returns a tuple of two values.\n",
    "\n",
    "    12.4  Variable-length argument tuples\n",
    "\n",
    "Functions can take a variable number of arguments. A parameter name that begins with * gathers arguments into a tuple. For example, printall takes any number of arguments and prints them:"
   ]
  },
  {
   "cell_type": "code",
   "execution_count": null,
   "id": "98175be0-5bdd-4c0b-b3ee-cda51fb8ff01",
   "metadata": {
    "tags": []
   },
   "outputs": [],
   "source": [
    "def printall(*args):\n",
    "    print(args)"
   ]
  },
  {
   "cell_type": "markdown",
   "id": "3a9f410f-eb04-4a23-830f-764f9440e66d",
   "metadata": {},
   "source": [
    "The gather parameter can have any name you like, but args is conventional. Here’s how the function works:"
   ]
  },
  {
   "cell_type": "code",
   "execution_count": null,
   "id": "f9ab5116-7a49-40a7-a6f9-ac66d73eebfc",
   "metadata": {},
   "outputs": [],
   "source": [
    "printall(1, 2.0, '3')"
   ]
  },
  {
   "cell_type": "markdown",
   "id": "d7502671-7ee2-41f2-8df0-5307149ab558",
   "metadata": {},
   "source": [
    "The complement of gather is scatter. If you have a sequence of values and you want to pass it to a function as multiple arguments, you can use the * operator. For example, divmod takes exactly two arguments; it doesn’t work with a tuple:"
   ]
  },
  {
   "cell_type": "code",
   "execution_count": null,
   "id": "31430cd1-28f1-4104-a6b2-899a4a282037",
   "metadata": {},
   "outputs": [],
   "source": [
    "t = (7, 3)\n",
    "divmod(t)"
   ]
  },
  {
   "cell_type": "markdown",
   "id": "bea697af-d302-436e-b1d6-3fb7117d79ad",
   "metadata": {},
   "source": [
    "TypeError: divmod expected 2 arguments, got 1\n",
    "But if you scatter the tuple, it works:"
   ]
  },
  {
   "cell_type": "code",
   "execution_count": null,
   "id": "281369c0-f82e-4cb5-9900-c2374c273439",
   "metadata": {},
   "outputs": [],
   "source": [
    "divmod(*t)"
   ]
  },
  {
   "cell_type": "markdown",
   "id": "e516b91a-1e5a-4dbb-9878-8540660625b4",
   "metadata": {},
   "source": [
    "(2, 1)\n",
    "Many of the built-in functions use variable-length argument tuples. For example, max and min can take any number of arguments:"
   ]
  },
  {
   "cell_type": "code",
   "execution_count": null,
   "id": "bcf17d40-19ef-4f85-8776-fb7b759e8201",
   "metadata": {},
   "outputs": [],
   "source": [
    "max(1, 2, 3)"
   ]
  },
  {
   "cell_type": "markdown",
   "id": "49e7d779-67d3-43ea-a122-0aa3499ed0aa",
   "metadata": {},
   "source": [
    "3\n",
    "But sum does not."
   ]
  },
  {
   "cell_type": "code",
   "execution_count": null,
   "id": "96c4ad37-fa40-4db6-969d-320d2fe268b6",
   "metadata": {},
   "outputs": [],
   "source": [
    "sum(1, 2, 3)"
   ]
  },
  {
   "cell_type": "markdown",
   "id": "c933b065-08b3-474b-b14f-af76e52f7a91",
   "metadata": {},
   "source": [
    "TypeError: sum expected at most 2 arguments, got 3\n",
    "As an exercise, write a function called sum_all that takes any number of arguments and returns their sum.\n",
    "\n",
    "    12.5  Lists and tuples\n",
    "\n",
    "zip is a built-in function that takes two or more sequences and interleaves them. The name of the function refers to a zipper, which interleaves two rows of teeth.\n",
    "\n",
    "This example zips a string and a list:"
   ]
  },
  {
   "cell_type": "code",
   "execution_count": null,
   "id": "249b81c0-85c7-4f0f-91f7-8e2555185237",
   "metadata": {},
   "outputs": [],
   "source": [
    "s = 'abc'\n",
    "t = [0, 1, 2]\n",
    "zip(s, t)"
   ]
  },
  {
   "cell_type": "markdown",
   "id": "1fbb057a-0514-401a-9c48-84029db2a991",
   "metadata": {},
   "source": [
    "<zip object at 0x7f7d0a9e7c48>\n",
    "The result is a zip object that knows how to iterate through the pairs. The most common use of zip is in a for loop:"
   ]
  },
  {
   "cell_type": "code",
   "execution_count": null,
   "id": "6f2b7753-a728-41b2-8a67-8cb7e0f07198",
   "metadata": {},
   "outputs": [],
   "source": [
    " for pair in zip(s, t):\n",
    "     print(pair)\n"
   ]
  },
  {
   "cell_type": "markdown",
   "id": "66fd4cf2-f4da-47dd-9fae-1dd580ab2ef6",
   "metadata": {},
   "source": [
    "('a', 0)\n",
    "('b', 1)\n",
    "('c', 2)\n",
    "A zip object is a kind of iterator, which is any object that iterates through a sequence. Iterators are similar to lists in some ways, but unlike lists, you can’t use an index to select an element from an iterator.\n",
    "\n",
    "If you want to use list operators and methods, you can use a zip object to make a list:"
   ]
  },
  {
   "cell_type": "code",
   "execution_count": null,
   "id": "3967b4b8-6496-42e6-a307-c4074e8cb99d",
   "metadata": {},
   "outputs": [],
   "source": [
    "list(zip(s, t))"
   ]
  },
  {
   "cell_type": "markdown",
   "id": "6329453b-7ab3-4e26-b894-30a62e2fe524",
   "metadata": {},
   "source": [
    "[('a', 0), ('b', 1), ('c', 2)]\n",
    "The result is a list of tuples; in this example, each tuple contains a character from the string and the corresponding element from the list.\n",
    "\n",
    "If the sequences are not the same length, the result has the length of the shorter one."
   ]
  },
  {
   "cell_type": "code",
   "execution_count": null,
   "id": "39ca30d3-67f8-4b3c-9a59-a6c940022aaf",
   "metadata": {},
   "outputs": [],
   "source": [
    "list(zip('Anne', 'Elk'))"
   ]
  },
  {
   "cell_type": "markdown",
   "id": "10b18bcb-8c0b-42c9-ae23-59cb11bd40fe",
   "metadata": {},
   "source": [
    "[('A', 'E'), ('n', 'l'), ('n', 'k')]\n",
    "\n",
    "You can use tuple assignment in a for loop to traverse a list of tuples:"
   ]
  },
  {
   "cell_type": "code",
   "execution_count": null,
   "id": "f7c9a4f2-b35e-4eb2-8fcc-1988b190c7fb",
   "metadata": {},
   "outputs": [],
   "source": [
    "t = [('a', 0), ('b', 1), ('c', 2)]\n",
    "for letter, number in t:\n",
    "    print(number, letter)"
   ]
  },
  {
   "cell_type": "markdown",
   "id": "0ffdcbfd-9623-44d6-afc4-a72ac61d1ca7",
   "metadata": {},
   "source": [
    "Each time through the loop, Python selects the next tuple in the list and assigns the elements to letter and number. The output of this loop is:\n",
    "\n",
    "0 a\n",
    "1 b\n",
    "2 c\n",
    "\n",
    "If you combine zip, for and tuple assignment, you get a useful idiom for traversing two (or more) sequences at the same time. For example, has_match takes two sequences, t1 and t2, and returns True if there is an index i such that t1[i] == t2[i]:"
   ]
  },
  {
   "cell_type": "code",
   "execution_count": null,
   "id": "073b8194-a95b-4b49-b9ff-de1ae8144efd",
   "metadata": {},
   "outputs": [],
   "source": [
    "def has_match(t1, t2):\n",
    "    for x, y in zip(t1, t2):\n",
    "        if x == y:\n",
    "            return True\n",
    "    return False"
   ]
  },
  {
   "cell_type": "markdown",
   "id": "ff7341b6-b098-406e-882a-eba159bffb9a",
   "metadata": {},
   "source": [
    "If you need to traverse the elements of a sequence and their indices, you can use the built-in function enumerate:"
   ]
  },
  {
   "cell_type": "code",
   "execution_count": null,
   "id": "a5d21a10-3857-4594-832a-b2facc5b344d",
   "metadata": {},
   "outputs": [],
   "source": [
    "for index, element in enumerate('abc'):\n",
    "    print(index, element)"
   ]
  },
  {
   "cell_type": "markdown",
   "id": "9c2bf86f-43c4-4c2c-81eb-753fc9c42199",
   "metadata": {},
   "source": [
    "The result from enumerate is an enumerate object, which iterates a sequence of pairs; each pair contains an index (starting from 0) and an element from the given sequence. In this example, the output is\n",
    "\n",
    "0 a\n",
    "1 b\n",
    "2 c\n",
    "Again.\n",
    "\n",
    "    12.6  Dictionaries and tuples\n",
    "\n",
    "Dictionaries have a method called items that returns a sequence of tuples, where each tuple is a key-value pair."
   ]
  },
  {
   "cell_type": "code",
   "execution_count": null,
   "id": "475fed9d-52e0-41cf-a771-05bcb5c7e388",
   "metadata": {},
   "outputs": [],
   "source": [
    "d = {'a':0, 'b':1, 'c':2}\n",
    "t = d.items()\n",
    "t"
   ]
  },
  {
   "cell_type": "markdown",
   "id": "b41126b1-e4fc-42b5-a348-c7f78abdf1c5",
   "metadata": {},
   "source": [
    "dict_items([('c', 2), ('a', 0), ('b', 1)])\n",
    "The result is a dict_items object, which is an iterator that iterates the key-value pairs. You can use it in a for loop like this:"
   ]
  },
  {
   "cell_type": "code",
   "execution_count": null,
   "id": "bd44fe3f-ce67-4ae9-accc-07e098baf67d",
   "metadata": {},
   "outputs": [],
   "source": [
    "for key, value in d.items():\n",
    "    print(key, value)"
   ]
  },
  {
   "cell_type": "markdown",
   "id": "d73212e6-0ca6-4870-bef5-84740d215b0a",
   "metadata": {},
   "source": [
    "c 2\n",
    "a 0\n",
    "b 1\n",
    "As you should expect from a dictionary, the items are in no particular order.\n",
    "\n",
    "Going in the other direction, you can use a list of tuples to initialize a new dictionary:"
   ]
  },
  {
   "cell_type": "code",
   "execution_count": null,
   "id": "8723b4db-05dd-4cac-b23a-fa829325f035",
   "metadata": {},
   "outputs": [],
   "source": [
    "t = [('a', 0), ('c', 2), ('b', 1)]\n",
    "d = dict(t)\n",
    "d"
   ]
  },
  {
   "cell_type": "markdown",
   "id": "59f5bb69-9425-4d51-accb-fa1a2f2bdfaa",
   "metadata": {},
   "source": [
    "{'a': 0, 'c': 2, 'b': 1}\n",
    "Combining dict with zip yields a concise way to create a dictionary:"
   ]
  },
  {
   "cell_type": "code",
   "execution_count": null,
   "id": "c9726b80-d30b-46d6-afe4-054c88401c17",
   "metadata": {},
   "outputs": [],
   "source": [
    "d = dict(zip('abcd', range(4)))\n",
    "d"
   ]
  },
  {
   "attachments": {
    "00af1fe3-3aed-41fc-9a70-2aa5c208382a.png": {
     "image/png": "[encoded data removed]"
    },
    "155d713f-8211-4e99-a23c-68e2b3e9be7f.png": {
     "image/png": "[encoded data removed]"
    },
    "7e0f3880-62a2-4ecb-af85-bf85a6f07541.png": {
     "image/png": "[encoded data removed]"
    },
    "e520318a-8624-4625-8448-1151e5f42801.png": {
     "image/png": "[encoded data removed]"
    }
   },
   "cell_type": "markdown",
   "id": "4c020a03-4f6a-44ac-947a-a7babffa673a",
   "metadata": {},
   "source": [
    "{'a': 0, 'c': 2, 'b': 1}\n",
    "The dictionary method update also takes a list of tuples and adds them, as key-value pairs, to an existing dictionary.\n",
    "\n",
    "It is common to use tuples as keys in dictionaries (primarily because you can’t use lists). For example, a telephone directory might map from last-name, first-name pairs to telephone numbers. Assuming that we have defined last, first and number, we could write:\n",
    "\n",
    "directory[last, first] = number\n",
    "The expression in brackets is a tuple. We could use tuple assignment to traverse this dictionary.\n",
    "\n",
    "for last, first in directory:\n",
    "    print(first, last, directory[last,first])\n",
    "This loop traverses the keys in directory, which are tuples. It assigns the elements of each tuple to last and first, then prints the name and corresponding telephone number.\n",
    "\n",
    "There are two ways to represent tuples in a state diagram. The more detailed version shows the indices and elements just as they appear in a list. For example, the tuple ('Cleese', 'John') would appear as in Figure 12.1.\n",
    "\n",
    "![image.png](attachment:e520318a-8624-4625-8448-1151e5f42801.png)![image.png](attachment:7e0f3880-62a2-4ecb-af85-bf85a6f07541.png)\n",
    "\n",
    "Figure 12.1: State diagram.\n",
    "But in a larger diagram you might want to leave out the details. For example, a diagram of the telephone directory might appear as in Figure 12.2.\n",
    "\n",
    "\n",
    "Figure 12.2: State diagram.\n",
    "\n",
    "![image.png](attachment:00af1fe3-3aed-41fc-9a70-2aa5c208382a.png)![image.png](attachment:155d713f-8211-4e99-a23c-68e2b3e9be7f.png)\n",
    "\n",
    "Here the tuples are shown using Python syntax as a graphical shorthand. The telephone number in the diagram is the complaints line for the BBC, so please don’t call it.\n",
    "\n",
    "    12.7  Sequences of sequences\n",
    "\n",
    "I have focused on lists of tuples, but almost all of the examples in this chapter also work with lists of lists, tuples of tuples, and tuples of lists. To avoid enumerating the possible combinations, it is sometimes easier to talk about sequences of sequences.\n",
    "\n",
    "In many contexts, the different kinds of sequences (strings, lists and tuples) can be used interchangeably. So how should you choose one over the others?\n",
    "\n",
    "To start with the obvious, strings are more limited than other sequences because the elements have to be characters. They are also immutable. If you need the ability to change the characters in a string (as opposed to creating a new string), you might want to use a list of characters instead.\n",
    "\n",
    "Lists are more common than tuples, mostly because they are mutable. But there are a few cases where you might prefer tuples:\n",
    "\n",
    "In some contexts, like a return statement, it is syntactically simpler to create a tuple than a list.\n",
    "If you want to use a sequence as a dictionary key, you have to use an immutable type like a tuple or string.\n",
    "If you are passing a sequence as an argument to a function, using tuples reduces the potential for unexpected behavior due to aliasing.\n",
    "Because tuples are immutable, they don’t provide methods like sort and reverse, which modify existing lists. But Python provides the built-in function sorted, which takes any sequence and returns a new list with the same elements in sorted order, and reversed, which takes a sequence and returns an iterator that traverses the list in reverse order.\n",
    "\n",
    "12.8  Debugging\n",
    "\n",
    "Lists, dictionaries and tuples are examples of data structures; in this chapter we are starting to see compound data structures, like lists of tuples, or dictionaries that contain tuples as keys and lists as values. Compound data structures are useful, but they are prone to what I call shape errors; that is, errors caused when a data structure has the wrong type, size, or structure. For example, if you are expecting a list with one integer and I give you a plain old integer (not in a list), it won’t work.\n",
    "\n",
    "To help debug these kinds of errors, I have written a module called structshape that provides a function, also called structshape, that takes any kind of data structure as an argument and returns a string that summarizes its shape. You can download it from http://thinkpython2.com/code/structshape.py\n",
    "\n",
    "Here’s the result for a simple list:"
   ]
  },
  {
   "cell_type": "code",
   "execution_count": null,
   "id": "9dde4ebd-5cfb-457a-ac17-4b3d970e81f3",
   "metadata": {
    "tags": []
   },
   "outputs": [],
   "source": [
    "from structshape import structshape\n",
    "t = [1, 2, 3]\n",
    "structshape(t)"
   ]
  },
  {
   "cell_type": "markdown",
   "id": "7993e9d5-5319-44df-b6bb-711e8ab42708",
   "metadata": {},
   "source": [
    "A fancier program might write “list of 3 ints”, but it was easier not to deal with plurals. Here’s a list of lists:"
   ]
  },
  {
   "cell_type": "code",
   "execution_count": null,
   "id": "52d4b279-5392-4b9e-bb88-d55cc111463b",
   "metadata": {},
   "outputs": [],
   "source": [
    "t2 = [[1,2], [3,4], [5,6]]\n",
    "structshape(t2)"
   ]
  },
  {
   "cell_type": "markdown",
   "id": "7b9f01a1-ee87-4d57-bd95-b2d69d754c26",
   "metadata": {},
   "source": [
    "'list of 3 list of 2 int'\n",
    "If the elements of the list are not the same type, structshape groups them, in order, by type:"
   ]
  },
  {
   "cell_type": "code",
   "execution_count": null,
   "id": "cd10bb3b-35b6-4817-8245-8ca51e7a3680",
   "metadata": {},
   "outputs": [],
   "source": [
    "t3 = [1, 2, 3, 4.0, '5', '6', [7], [8], 9]\n",
    "structshape(t3)"
   ]
  },
  {
   "cell_type": "markdown",
   "id": "a4006949-71da-4295-8977-8ce1e0e2ff4f",
   "metadata": {},
   "source": [
    "'list of (3 int, float, 2 str, 2 list of int, int)'\n",
    "Here’s a list of tuples:"
   ]
  },
  {
   "cell_type": "code",
   "execution_count": null,
   "id": "33f972ee-221b-4b10-b2d2-dbdb252e3f01",
   "metadata": {},
   "outputs": [],
   "source": [
    "s = 'abc'\n",
    "print(t)\n",
    "lt = list(zip(t, s))\n",
    "structshape(lt)"
   ]
  },
  {
   "cell_type": "code",
   "execution_count": null,
   "id": "e2d3dc80-960f-4614-b484-de33ca4e4ddc",
   "metadata": {},
   "outputs": [],
   "source": [
    "print(lt)"
   ]
  },
  {
   "cell_type": "markdown",
   "id": "80eae68c-1606-480d-8f52-cfd50dc22d0f",
   "metadata": {},
   "source": [
    "'list of 3 tuple of (int, str)'\n",
    "And here’s a dictionary with 3 items that map integers to strings."
   ]
  },
  {
   "cell_type": "code",
   "execution_count": null,
   "id": "ff0186e4-61aa-4485-bafc-b68c3d65c54f",
   "metadata": {},
   "outputs": [],
   "source": [
    "d = dict(lt) \n",
    "structshape(d)"
   ]
  },
  {
   "cell_type": "code",
   "execution_count": null,
   "id": "06eba207-4224-4d1a-a1fd-6e5b2a283098",
   "metadata": {},
   "outputs": [],
   "source": [
    "print(d)"
   ]
  },
  {
   "cell_type": "markdown",
   "id": "17cc3f6e-683e-442f-bcd7-623ed6dafe01",
   "metadata": {},
   "source": [
    "'dict of 3 int->str'\n",
    "If you are having trouble keeping track of your data structures, structshape can help.\n",
    "\n",
    "12.9  Glossary\n",
    "tuple:\n",
    "An immutable sequence of elements.\n",
    "tuple assignment:\n",
    "An assignment with a sequence on the right side and a tuple of variables on the left. The right side is evaluated and then its elements are assigned to the variables on the left.\n",
    "gather:\n",
    "An operation that collects multiple arguments into a tuple.\n",
    "scatter:\n",
    "An operation that makes a sequence behave like multiple arguments.\n",
    "zip object:\n",
    "The result of calling a built-in function zip; an object that iterates through a sequence of tuples.\n",
    "iterator:\n",
    "An object that can iterate through a sequence, but which does not provide list operators and methods.\n",
    "data structure:\n",
    "A collection of related values, often organized in lists, dictionaries, tuples, etc.\n",
    "shape error:\n",
    "An error caused because a value has the wrong shape; that is, the wrong type or size.\n",
    "12.10  Exercises\n",
    "Exercise 1  \n",
    "Write a function called most_frequent that takes a string and prints the letters in decreasing order of frequency. Find text samples from several different languages and see how letter frequency varies between languages. Compare your results with the tables at http://en.wikipedia.org/wiki/Letter_frequencies. Solution: http://thinkpython2.com/code/most_frequent.py.\n",
    "\n",
    "Exercise 2  \n",
    "More anagrams!\n",
    "\n",
    "Write a program that reads a word list from a file (see Section 9.1) and prints all the sets of words that are anagrams.\n",
    "Here is an example of what the output might look like:\n",
    "\n",
    "['deltas', 'desalt', 'lasted', 'salted', 'slated', 'staled']\n",
    "['retainers', 'ternaries']\n",
    "['generating', 'greatening']\n",
    "['resmelts', 'smelters', 'termless']\n",
    "Hint: you might want to build a dictionary that maps from a collection of letters to a list of words that can be spelled with those letters. The question is, how can you represent the collection of letters in a way that can be used as a key?\n",
    "\n",
    "Modify the previous program so that it prints the longest list of anagrams first, followed by the second longest, and so on.\n",
    "In Scrabble a “bingo” is when you play all seven tiles in your rack, along with a letter on the board, to form an eight-letter word. What collection of 8 letters forms the most possible bingos?\n",
    "Solution: http://thinkpython2.com/code/anagram_sets.py.\n",
    "\n",
    "Exercise 3  \n",
    "Two words form a “metathesis pair” if you can transform one into the other by swapping two letters; for example, “converse” and “conserve”. Write a program that finds all of the metathesis pairs in the dictionary. Hint: don’t test all pairs of words, and don’t test all possible swaps. Solution: http://thinkpython2.com/code/metathesis.py. Credit: This exercise is inspired by an example at http://puzzlers.org.\n",
    "\n",
    "Exercise 4  \n",
    "Here’s another Car Talk Puzzler (http://www.cartalk.com/content/puzzlers):\n",
    "\n",
    "What is the longest English word, that remains a valid English word, as you remove its letters one at a time?\n",
    "Now, letters can be removed from either end, or the middle, but you can’t rearrange any of the letters. Every time you drop a letter, you wind up with another English word. If you do that, you’re eventually going to wind up with one letter and that too is going to be an English word—one that’s found in the dictionary. I want to know what’s the longest word and how many letters does it have?\n",
    "\n",
    "I’m going to give you a little modest example: Sprite. Ok? You start off with sprite, you take a letter off, one from the interior of the word, take the r away, and we’re left with the word spite, then we take the e off the end, we’re left with spit, we take the s off, we’re left with pit, it, and I.\n",
    "\n",
    "\n",
    "Write a program to find all words that can be reduced in this way, and then find the longest one.\n",
    "\n",
    "This exercise is a little more challenging than most, so here are some suggestions:\n",
    "\n",
    "You might want to write a function that takes a word and computes a list of all the words that can be formed by removing one letter. These are the “children” of the word.\n",
    "Recursively, a word is reducible if any of its children are reducible. As a base case, you can consider the empty string reducible.\n",
    "The wordlist I provided, words.txt, doesn’t contain single letter words. So you might want to add “I”, “a”, and the empty string.\n",
    "To improve the performance of your program, you might want to memoize the words that are known to be reducible.\n",
    "Solution: http://thinkpython2.com/code/reducible.py.\n",
    "\n",
    "Buy this book at Amazon.com\n",
    "\n",
    "Contribute\n",
    "If you would like to make a contribution to support my books, you can use the button below and pay with PayPal. Thank you!\n",
    "Pay what you want:\n",
    "\n",
    "Small $1.00 USD\n",
    "PayPal - The safer, easier way to pay online!\n",
    "Are you using one of our books in a class?\n",
    "We'd like to know about it. Please consider filling out this short survey.\n",
    "\n",
    "Think DSP\n",
    "\n",
    "\n",
    "\n",
    "Think Java\n",
    "\n",
    "\n",
    "\n",
    "Think Bayes\n",
    "\n",
    "\n",
    "\n",
    "Think Python 2e\n",
    "\n",
    "\n",
    "\n",
    "Think Stats 2e\n",
    "\n",
    "\n",
    "\n",
    "Think Complexity"
   ]
  },
  {
   "cell_type": "code",
   "execution_count": null,
   "id": "280b62fc-dd3f-49b0-b85f-7e12de4b3534",
   "metadata": {},
   "outputs": [],
   "source": []
  }
 ],
 "metadata": {
  "kernelspec": {
   "display_name": "Python 3 (ipykernel)",
   "language": "python",
   "name": "python3"
  },
  "language_info": {
   "codemirror_mode": {
    "name": "ipython",
    "version": 3
   },
   "file_extension": ".py",
   "mimetype": "text/x-python",
   "name": "python",
   "nbconvert_exporter": "python",
   "pygments_lexer": "ipython3",
   "version": "3.9.13"
  },
  "vscode": {
   "interpreter": {
    "hash": "631e1f049cd2d2d8180e86c795294feb9c61d2aee0f8a54a46db8f780f364367"
   }
  }
 },
 "nbformat": 4,
 "nbformat_minor": 5
}
