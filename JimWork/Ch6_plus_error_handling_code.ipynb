{
 "cells": [
  {
   "cell_type": "code",
   "execution_count": null,
   "metadata": {},
   "outputs": [],
   "source": [
    "def is_divisible(x, y):\n",
    "    if x % y == 0:\n",
    "        return True\n",
    "    else:\n",
    "        return False\n",
    "\n",
    "state_info=is_divisible(4,8)\n",
    "print(state_info)"
   ]
  },
  {
   "cell_type": "code",
   "execution_count": null,
   "metadata": {},
   "outputs": [],
   "source": [
    "def is_divisible(x, y):\n",
    "    return x % y == 0\n",
    "\n",
    "print(is_divisible(4,4))"
   ]
  },
  {
   "cell_type": "code",
   "execution_count": null,
   "metadata": {},
   "outputs": [],
   "source": [
    "if is_divisible(4, 3):\n",
    "    print('x is divisible by y')\n",
    "else:\n",
    "    print('x is NOT divisible by y')"
   ]
  },
  {
   "cell_type": "code",
   "execution_count": null,
   "metadata": {},
   "outputs": [],
   "source": [
    "def is_between(a,b,c):\n",
    "    if a<=b<=c:\n",
    "        return True\n",
    "    else:\n",
    "        return False\n",
    "\n",
    "print(is_between(1,5,3))\n"
   ]
  },
  {
   "attachments": {},
   "cell_type": "markdown",
   "metadata": {},
   "source": [
    "If you saw that definition in the dictionary, you might be annoyed. On the other hand, if you looked up the definition of the factorial function, denoted with the symbol !, you might get something like this:\n",
    "\n",
    " \t \t0! = 1 \n",
    " \t \tn! = n (n−1)!\n",
    "\n",
    "Run debug thru the break points-- \t\n",
    "\n",
    "\t\tthe looping is of the recursion is nothing like I thought!"
   ]
  },
  {
   "cell_type": "code",
   "execution_count": null,
   "metadata": {},
   "outputs": [],
   "source": [
    "def factorial(n):\n",
    "    if n == 0:\n",
    "        return 1\n",
    "    else:\n",
    "        recurse = factorial(n-1) # see this recursive call within the definition!\n",
    "        result = n * recurse\n",
    "        return result\n",
    "factorial(4)"
   ]
  },
  {
   "attachments": {},
   "cell_type": "markdown",
   "metadata": {},
   "source": [
    "6.7  One more example\n",
    "\n",
    "After factorial, the most common example of a recursively defined mathematical function is fibonacci, which has the following definition (see http://en.wikipedia.org/wiki/Fibonacci_number):\n",
    "\n",
    " \t \tfibonacci(0) = 0 \n",
    " \t \tfibonacci(1) = 1 \n",
    " \t \tfibonacci(n) = fibonacci(n−1) + fibonacci(n−2)\n",
    "Translated into Python, it looks like this:\n",
    "\n",
    "\t\tinteresting it works in run mode but not in debug,  WTF"
   ]
  },
  {
   "cell_type": "code",
   "execution_count": null,
   "metadata": {},
   "outputs": [],
   "source": [
    "def fibonacci(n):\n",
    "#    print(\"fib\")\n",
    "    if n == 0:\n",
    "#        print(\"0\")\n",
    "        return 0\n",
    "    elif  n == 1:\n",
    "#        print(\"1\")\n",
    "        return 1\n",
    "    else:\n",
    "#        print(\"else\")\n",
    "        return fibonacci(n-1) + fibonacci(n-2)\n",
    "fibonacci(6)"
   ]
  },
  {
   "attachments": {},
   "cell_type": "markdown",
   "metadata": {},
   "source": [
    "here is a method to bullet proof non-integers or negatives.   There is also .isnumberic too"
   ]
  },
  {
   "cell_type": "code",
   "execution_count": null,
   "metadata": {},
   "outputs": [],
   "source": [
    "import math\n",
    "def factorial(n):\n",
    "    if not isinstance(n, int):\n",
    "        print('Factorial is only defined for integers.')\n",
    "        return None\n",
    "    elif n < 0:\n",
    "        print('Factorial is not defined for negative integers.')\n",
    "        return None\n",
    "    elif n == 0:\n",
    "        return 1\n",
    "    else:\n",
    "        return n * factorial(n-1)\n",
    "\n",
    "\n",
    "factorial(3)"
   ]
  },
  {
   "attachments": {},
   "cell_type": "markdown",
   "metadata": {},
   "source": [
    "        Not too pleased with the above code as an error handler.   If you use input for the factorial number, and you using a invalid value (like a alpha) it will crash.\n",
    "\n",
    "So here some error handling code below--"
   ]
  },
  {
   "attachments": {},
   "cell_type": "markdown",
   "metadata": {},
   "source": [
    "This code rejects none integer values"
   ]
  },
  {
   "cell_type": "code",
   "execution_count": null,
   "metadata": {},
   "outputs": [],
   "source": [
    "def int_input():\n",
    "    prompt=0\n",
    "    while True:\n",
    "        try:\n",
    "            age = int(input(prompt))\n",
    "            return age\n",
    "        except ValueError:\n",
    "            print(\"Not a proper integer! Try it again\")\n",
    "a2=int_input()\n",
    "print(a2)"
   ]
  },
  {
   "cell_type": "code",
   "execution_count": 13,
   "metadata": {},
   "outputs": [
    {
     "name": "stdout",
     "output_type": "stream",
     "text": [
      "Not a proper integer! Try it again\n",
      "4 is the input of your dog's age\n",
      "32 is the equivalent Human age\n"
     ]
    }
   ],
   "source": [
    "def dog2human_age(dog_age):\n",
    "    human_age = -1\n",
    "    if dog_age < 0:\n",
    "        human_age = -1\n",
    "    elif dog_age == 0:\n",
    "        human_age = 0\n",
    "    elif dog_age == 1:\n",
    "        human_age = 14\n",
    "    elif dog_age == 2:\n",
    "        human_age = 22\n",
    "    else:\n",
    "        human_age = 22 + (dog_age -2) * 5\n",
    "    return human_age\n",
    "\n",
    "def int_input():\n",
    "    prompt=0\n",
    "    while True:\n",
    "        try:\n",
    "            age = int(input(prompt))\n",
    "            return age\n",
    "        except ValueError:\n",
    "            print(\"Not a proper integer! Try it again\")\n",
    "\n",
    "age=int_input()\n",
    "print(age, \"is the input of your dog's age\")\n",
    "print(dog2human_age(age),\"is the equivalent Human age\")"
   ]
  },
  {
   "attachments": {},
   "cell_type": "markdown",
   "metadata": {},
   "source": [
    "Here is an error handler for non-existent files:"
   ]
  },
  {
   "cell_type": "code",
   "execution_count": 46,
   "metadata": {},
   "outputs": [
    {
     "name": "stdout",
     "output_type": "stream",
     "text": [
      "I/O error(2): No such file or directory\n",
      "[Errno 2] No such file or directory: 'integers.txt'\n"
     ]
    }
   ],
   "source": [
    "import sys\n",
    "# there is no integers.txt file\n",
    "try:\n",
    "    f = open('integers.txt')\n",
    "    s = f.readline()\n",
    "    i = int(s.strip())\n",
    "except IOError as e:\n",
    "    errno, strerror = e.args\n",
    "    print(\"I/O error({0}): {1}\".format(errno,strerror))\n",
    "    # e can be printed directly without using .args:\n",
    "    print(e)\n",
    "except ValueError:\n",
    "    print(ValueError)\n",
    "    print(\"No valid integer in line.\")\n",
    "except:\n",
    "    print(\"Unexpected error:\", sys.exc_info()[0])\n",
    "    raise"
   ]
  },
  {
   "cell_type": "code",
   "execution_count": 47,
   "metadata": {},
   "outputs": [],
   "source": [
    "import sys\n",
    "# there is intergers2,txt file AND it has and integer in it.\n",
    "try:\n",
    "    f = open('integers2.txt')\n",
    "    s = f.readline()\n",
    "    i = int(s.strip())\n",
    "except IOError as e:\n",
    "    errno, strerror = e.args\n",
    "    print(\"I/O error({0}): {1}\".format(errno,strerror))\n",
    "    # e can be printed directly without using .args:\n",
    "    print(e)\n",
    "except ValueError:\n",
    "    print(ValueError)\n",
    "    print(\"No valid integer in line.\")   \n",
    "except:\n",
    "    print(\"Unexpected error:\", sys.exc_info()[0])\n",
    "    raise"
   ]
  },
  {
   "cell_type": "code",
   "execution_count": 48,
   "metadata": {},
   "outputs": [
    {
     "name": "stdout",
     "output_type": "stream",
     "text": [
      "sss\n",
      "<class 'ValueError'>\n",
      "No valid integer in line.\n"
     ]
    }
   ],
   "source": [
    "import sys\n",
    "# there is intergers_none.txt file AND it has no integers\n",
    "try:\n",
    "    f = open('integers_none.txt')\n",
    "    s = f.readline()\n",
    "    print(s)\n",
    "    i = int(s.strip())\n",
    "    print(i)\n",
    "except IOError as e:\n",
    "    errno, strerror = e.args\n",
    "    print(\"I/O error({0}): {1}\".format(errno,strerror))\n",
    "    # e can be printed directly without using .args:\n",
    "    print(e)\n",
    "except ValueError:\n",
    "    print(ValueError)\n",
    "    print(\"No valid integer in line.\")\n",
    "except:\n",
    "    print(\"Unexpected error:\", sys.exc_info()[0])\n",
    "    raise"
   ]
  }
 ],
 "metadata": {
  "kernelspec": {
   "display_name": "Python 3",
   "language": "python",
   "name": "python3"
  },
  "language_info": {
   "codemirror_mode": {
    "name": "ipython",
    "version": 3
   },
   "file_extension": ".py",
   "mimetype": "text/x-python",
   "name": "python",
   "nbconvert_exporter": "python",
   "pygments_lexer": "ipython3",
   "version": "3.10.9"
  },
  "orig_nbformat": 4,
  "vscode": {
   "interpreter": {
    "hash": "631e1f049cd2d2d8180e86c795294feb9c61d2aee0f8a54a46db8f780f364367"
   }
  }
 },
 "nbformat": 4,
 "nbformat_minor": 2
}
