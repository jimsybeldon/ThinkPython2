{
 "cells": [
  {
   "cell_type": "markdown",
   "id": "6c7042e9-fab0-4af4-93bd-4b93b2c6c36c",
   "metadata": {},
   "source": [
    "\"\"\"This module contains a code example related to\n",
    "\n",
    "Think Python, 2nd Edition\n",
    "by Allen Downey\n",
    "http://thinkpython2.com\n",
    "\n",
    "Copyright 2015 Allen Downey\n",
    "\n",
    "License: http://creativecommons.org/licenses/by/4.0/\n",
    "\"\"\"\n",
    "Exercise 2  \n",
    "Write a function called draw_rect that takes a Turtle object and a Rectangle and uses the Turtle to draw the Rectangle. See Chapter 4 for examples using Turtle objects.\n",
    "\n",
    "Write a function called draw_circle that takes a Turtle and a Circle and draws the Circle.\n",
    "\n",
    "Solution: http://thinkpython2.com/code/draw.py."
   ]
  },
  {
   "cell_type": "markdown",
   "id": "21a38e2a-3553-465c-9bc2-bdabb18c4061",
   "metadata": {},
   "source": [
    "I have not set up turtle to run in Jupyter Notebooks.   Here is some potential guidance:\n",
    "https://www.coderdojotc.org/python/jupyter/01-setup/\n",
    "\n",
    "Run this in VSCode as a .py script if you want to skip the confusion."
   ]
  },
  {
   "cell_type": "code",
   "execution_count": 1,
   "id": "e6460f30-8512-4e2a-b719-05d7397dd67a",
   "metadata": {},
   "outputs": [],
   "source": [
    "from __future__ import print_function, division\n",
    "\n",
    "import turtle\n",
    "\n",
    "from Point1 import Point, Rectangle\n",
    "from Circle import Circle\n",
    "\n",
    "import polygon\n",
    "\n",
    "def draw_circle(t, circle):\n",
    "    \"\"\"Draws a circle.\n",
    "\n",
    "    t: Turtle\n",
    "    circle: Circle\n",
    "    \"\"\"\n",
    "    t.pu()\n",
    "    t.goto(circle.center.x, circle.center.y)\n",
    "    t.fd(circle.radius)\n",
    "    t.lt(90)\n",
    "    t.pd()\n",
    "    polygon.circle(t, circle.radius)\n",
    "\n",
    "\n",
    "def draw_rect(t, rect):\n",
    "    \"\"\"Draws a rectangle.\n",
    "\n",
    "    t: Turtle\n",
    "    rect: Rectangle\n",
    "    \"\"\"\n",
    "    t.pu()\n",
    "    t.goto(rect.corner.x, rect.corner.y)\n",
    "    t.setheading(0)\n",
    "    t.pd()\n",
    "\n",
    "    for length in rect.width, rect.height, rect.width, rect.height:\n",
    "        t.fd(length)\n",
    "        t.rt(90)\n",
    "\n",
    "\n",
    "if __name__ == '__main__':\n",
    "    bob = turtle.Turtle()\n",
    "\n",
    "    # draw the axes\n",
    "    length = 400\n",
    "    bob.fd(length)\n",
    "    bob.bk(length)\n",
    "    bob.lt(90)\n",
    "    bob.fd(length)\n",
    "    bob.bk(length)\n",
    "\n",
    "    # draw a rectangle\n",
    "    box = Rectangle()\n",
    "    box.width = 100.0\n",
    "    box.height = 200.0\n",
    "    box.corner = Point()\n",
    "    box.corner.x = 50.0\n",
    "    box.corner.y = 50.0\n",
    "\n",
    "    draw_rect(bob, box)\n",
    "\n",
    "    # draw a circle\n",
    "    circle = Circle\n",
    "    circle.center = Point()\n",
    "    circle.center.x = 150.0\n",
    "    circle.center.y = 100.0\n",
    "    circle.radius = 75.0\n",
    "\n",
    "    draw_circle(bob, circle)\n",
    "\n",
    "    # wait for the user to close the window\n",
    "    turtle.mainloop()"
   ]
  },
  {
   "cell_type": "code",
   "execution_count": null,
   "id": "ffcff18a-8048-46d7-bac0-76b5324efc49",
   "metadata": {},
   "outputs": [],
   "source": []
  },
  {
   "cell_type": "code",
   "execution_count": null,
   "id": "debd8409-eff6-4b77-821c-cd0a70f1963a",
   "metadata": {},
   "outputs": [],
   "source": []
  },
  {
   "cell_type": "code",
   "execution_count": null,
   "id": "7a007232-befd-404f-90d7-e116711b5b0e",
   "metadata": {},
   "outputs": [],
   "source": []
  },
  {
   "cell_type": "code",
   "execution_count": null,
   "id": "5046c948-54ba-4e5b-9102-f0c036d3498b",
   "metadata": {},
   "outputs": [],
   "source": []
  }
 ],
 "metadata": {
  "kernelspec": {
   "display_name": "Python 3",
   "language": "python",
   "name": "python3"
  },
  "language_info": {
   "codemirror_mode": {
    "name": "ipython",
    "version": 3
   },
   "file_extension": ".py",
   "mimetype": "text/x-python",
   "name": "python",
   "nbconvert_exporter": "python",
   "pygments_lexer": "ipython3",
   "version": "3.10.9 (tags/v3.10.9:1dd9be6, Dec  6 2022, 20:01:21) [MSC v.1934 64 bit (AMD64)]"
  },
  "vscode": {
   "interpreter": {
    "hash": "631e1f049cd2d2d8180e86c795294feb9c61d2aee0f8a54a46db8f780f364367"
   }
  }
 },
 "nbformat": 4,
 "nbformat_minor": 5
}
