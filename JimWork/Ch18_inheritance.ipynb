{
 "cells": [
  {
   "cell_type": "markdown",
   "id": "dc19ba86-faa5-40ef-b949-7671359794bc",
   "metadata": {},
   "source": [
    "    Chapter 18  Inheritance\n",
    "\n",
    "__The language feature most often associated with object-oriented programming is inheritance.__ Inheritance is the ability to define a new class that is a modified version of an existing class. In this chapter I demonstrate inheritance using classes that represent playing cards, decks of cards, and poker hands.\n",
    "\n",
    "If you don’t play poker, you can read about it at http://en.wikipedia.org/wiki/Poker, but you don’t have to; I’ll tell you what you need to know for the exercises.\n",
    "\n",
    "Code examples from this chapter are available from http://thinkpython2.com/code/Card.py.\n",
    "\n",
    "18.1  Card objects\n",
    "There are fifty-two cards in a deck, each of which belongs to one of four suits and one of thirteen ranks. The suits are Spades, Hearts, Diamonds, and Clubs (in descending order in bridge). The ranks are Ace, 2, 3, 4, 5, 6, 7, 8, 9, 10, Jack, Queen, and King. Depending on the game that you are playing, an Ace may be higher than King or lower than 2.\n",
    "\n",
    "If we want to define a new object to represent a playing card, it is obvious what the attributes should be: rank and suit. It is not as obvious what type the attributes should be. One possibility is to use strings containing words like 'Spade' for suits and 'Queen' for ranks. One problem with this implementation is that it would not be easy to compare cards to see which had a higher rank or suit.\n",
    "\n",
    "An alternative is to use integers to encode the ranks and suits. In this context, “encode” means that we are going to define a mapping between numbers and suits, or between numbers and ranks. This kind of encoding is not meant to be a secret (that would be “encryption”).\n",
    "\n",
    "For example, this table shows the suits and the corresponding integer codes:"
   ]
  },
  {
   "cell_type": "markdown",
   "id": "69937239-ae25-48e2-b99d-471acd04cf00",
   "metadata": {},
   "source": [
    "__Spades\t↦\t3__\n",
    "\n",
    "__Hearts\t↦\t2__\n",
    "\n",
    "__Diamonds\t↦\t1__\n",
    "\n",
    "\n",
    "__Clubs\t↦\t0__\n",
    "\n",
    "This code makes it easy to compare cards; because higher suits map to higher numbers, we can compare suits by comparing their codes.\n",
    "\n",
    "The mapping for ranks is fairly obvious; each of the numerical ranks maps to the corresponding integer, and for face cards:\n",
    "\n",
    "__Jack\t↦\t11__\n",
    "\n",
    "__Queen\t↦\t12__\n",
    "\n",
    "__King\t↦\t13__\n",
    "\n",
    "I am using the ↦ symbol to make it clear that these mappings are not part of the Python program. They are part of the program design, but they don’t appear explicitly in the code.\n",
    "\n",
    "The class definition for Card looks like this:"
   ]
  },
  {
   "cell_type": "code",
   "execution_count": 1,
   "id": "d4fead50-bc94-40d3-8820-19c21d65c46f",
   "metadata": {},
   "outputs": [],
   "source": [
    "class Card:\n",
    "    \"\"\"Represents a standard playing card.\n",
    "    \n",
    "    Attributes:\n",
    "      suit: integer 0-3\n",
    "      rank: integer 1-13\n",
    "    \"\"\"\n",
    "# class attritubes are defined in class, not methods\n",
    "    suit_names = [\"Clubs\", \"Diamonds\", \"Hearts\", \"Spades\"]\n",
    "    rank_names = [None, \"Ace\", \"2\", \"3\", \"4\", \"5\", \"6\", \"7\", \n",
    "              \"8\", \"9\", \"10\", \"Jack\", \"Queen\", \"King\"]\n",
    "\n",
    "    def __init__(self, suit=0, rank=2):\n",
    "# so does this mean thie initial definition is suit = 0 (\"Clubs\") and rank = 2 (\"2\")?\n",
    "        self.suit = suit\n",
    "        self.rank = rank\n",
    "        print(self)\n",
    "\n",
    "    def __str__(self):\n",
    "        \"\"\"Returns a human-readable string representation.\"\"\"\n",
    "        return '%s of %s' % (Card.rank_names[self.rank],\n",
    "                             Card.suit_names[self.suit])\n",
    "\n",
    "    def __eq__(self, other):\n",
    "        \"\"\"Checks whether self and other have the same rank and suit.\n",
    "\n",
    "        returns: boolean\n",
    "        \"\"\"\n",
    "        return self.suit == other.suit and self.rank == other.rank\n",
    "\n",
    "    def __lt__(self, other):\n",
    "        \"\"\"Compares this card to other, first by suit, then rank.\n",
    "\n",
    "        returns: boolean\n",
    "        \"\"\"\n",
    "        t1 = self.suit, self.rank\n",
    "        t2 = other.suit, other.rank\n",
    "        return t1 < t2"
   ]
  },
  {
   "cell_type": "markdown",
   "id": "2471b1e5-73cd-4242-978d-dc61f4567e7a",
   "metadata": {},
   "source": [
    "As usual, the init method takes an optional parameter for each attribute. The default card is the 2 of Clubs.\n",
    "\n",
    "To create a Card, you call Card with the suit and rank of the card you want."
   ]
  },
  {
   "cell_type": "code",
   "execution_count": 2,
   "id": "0616148f-4951-4df5-83a8-fa170329b7d2",
   "metadata": {},
   "outputs": [
    {
     "name": "stdout",
     "output_type": "stream",
     "text": [
      "Queen of Diamonds\n",
      "Queen of Diamonds\n"
     ]
    },
    {
     "data": {
      "text/plain": [
       "<__main__.Card at 0x205200d4460>"
      ]
     },
     "execution_count": 2,
     "metadata": {},
     "output_type": "execute_result"
    }
   ],
   "source": [
    "queen_of_diamonds = Card(1, 12)\n",
    "print(queen_of_diamonds)\n",
    "queen_of_diamonds"
   ]
  },
  {
   "cell_type": "markdown",
   "id": "e2764c21-5ec4-4cca-80af-1c4da698cbfa",
   "metadata": {},
   "source": [
    "    18.2  Class attributes\n",
    "\n",
    "In order to print Card objects in a way that people can easily read, we need a mapping from the integer codes to the corresponding ranks and suits. A natural way to do that is with lists of strings. We assign these lists to class attributes:"
   ]
  },
  {
   "cell_type": "markdown",
   "id": "9183418f-b7c7-4989-b8e3-efb97fb39c4f",
   "metadata": {},
   "source": [
    "# inside class Card:\n",
    "\n",
    "    suit_names = ['Clubs', 'Diamonds', 'Hearts', 'Spades']\n",
    "    rank_names = [None, 'Ace', '2', '3', '4', '5', '6', '7', \n",
    "              '8', '9', '10', 'Jack', 'Queen', 'King']\n",
    "\n",
    "    def __str__(self):\n",
    "        return '%s of %s' % (Card.rank_names[self.rank],\n",
    "                             Card.suit_names[self.suit])"
   ]
  },
  {
   "cell_type": "markdown",
   "id": "acf40628-9e58-40b0-b541-f6484edbf586",
   "metadata": {},
   "source": [
    "Variables like suit_names and rank_names, which are defined inside a class but outside of any method, are called class attributes because they are associated with the class object Card.\n",
    "\n",
    "This term distinguishes them from variables like suit and rank, which are called instance attributes because they are associated with a particular instance.\n",
    "\n",
    "Both kinds of attribute are accessed using dot notation. For example, in __str__, self is a Card object, and self.rank is its rank. Similarly, Card is a class object, and Card.rank_names is a list of strings associated with the class.\n",
    "\n",
    "Every card has its own suit and rank, but there is only one copy of suit_names and rank_names.\n",
    "\n",
    "Putting it all together, the expression Card.rank_names[self.rank] means “use the attribute rank from the object self as an index into the list rank_names from the class Card, and select the appropriate string.”\n",
    "\n",
    "The first element of rank_names is None because there is no card with rank zero. By including None as a place-keeper, we get a mapping with the nice property that the index 2 maps to the string '2', and so on. To avoid this tweak, we could have used a dictionary instead of a list.\n",
    "\n",
    "With the methods we have so far, we can create and print cards:"
   ]
  },
  {
   "cell_type": "code",
   "execution_count": 3,
   "id": "87dc3f8e-6c5d-4520-aea3-8655599c9d5b",
   "metadata": {},
   "outputs": [
    {
     "name": "stdout",
     "output_type": "stream",
     "text": [
      "Jack of Hearts\n",
      "Jack of Hearts\n"
     ]
    },
    {
     "data": {
      "text/plain": [
       "<__main__.Card at 0x205200d4df0>"
      ]
     },
     "execution_count": 3,
     "metadata": {},
     "output_type": "execute_result"
    }
   ],
   "source": [
    "card1 = Card(2, 11)\n",
    "print(card1)\n",
    "card1"
   ]
  },
  {
   "attachments": {
    "a85a3024-074c-43b6-922a-0996306cbe5c.png": {
     "image/png": "[encoded data removed]"
    }
   },
   "cell_type": "markdown",
   "id": "d7da1a52-e326-48b4-8725-9997cee7b335",
   "metadata": {},
   "source": [
    "![image.png](attachment:a85a3024-074c-43b6-922a-0996306cbe5c.png)"
   ]
  },
  {
   "cell_type": "markdown",
   "id": "83a16fff-fd67-42b9-b6ac-81754cc60d97",
   "metadata": {},
   "source": [
    "Figure 18.1 is a diagram of the Card class object and one Card instance. Card is a class object; its type is type. card1 is an instance of Card, so its type is Card. To save space, I didn’t draw the contents of suit_names and rank_names.\n",
    "\n",
    "18.3  Comparing cards\n",
    "\n",
    "For built-in types, there are relational operators (<, >, ==, etc.) that compare values and determine when one is greater than, less than, or equal to another. For programmer-defined types, we can override the behavior of the built-in operators by providing a method named __lt__, which stands for “less than”.\n",
    "\n",
    "__lt__ takes two parameters, self and other, and returns True if self is strictly less than other.\n",
    "\n",
    "The correct ordering for cards is not obvious. For example, which is better, the 3 of Clubs or the 2 of Diamonds? One has a higher rank, but the other has a higher suit. In order to compare cards, you have to decide whether rank or suit is more important.\n",
    "\n",
    "The answer might depend on what game you are playing, but to keep things simple, we’ll make the arbitrary choice that suit is more important, so all of the Spades outrank all of the Diamonds, and so on.\n",
    "\n",
    "With that decided, we can write __lt__:\n",
    "\n",
    "# inside class Card:"
   ]
  },
  {
   "cell_type": "markdown",
   "id": "9007619d-5039-40f8-8625-ffb1cb1214c2",
   "metadata": {},
   "source": [
    "    def __lt__(self, other):\n",
    "        # check the suits\n",
    "        if self.suit < other.suit: return True\n",
    "        if self.suit > other.suit: return False\n",
    "\n",
    "        # suits are the same... check ranks\n",
    "        return self.rank < other.rank"
   ]
  },
  {
   "cell_type": "markdown",
   "id": "bb5addb7-6fb4-485a-92c8-0a3d6f68df92",
   "metadata": {},
   "source": [
    "You can write this more concisely using tuple comparison:\n",
    "\n",
    "# inside class Card:"
   ]
  },
  {
   "cell_type": "markdown",
   "id": "de448625-6783-4fda-a7fb-bd86361206a3",
   "metadata": {},
   "source": [
    "    def __lt__(self, other):\n",
    "        t1 = self.suit, self.rank\n",
    "        t2 = other.suit, other.rank\n",
    "        return t1 < t2"
   ]
  },
  {
   "cell_type": "markdown",
   "id": "139817a1-3eec-408d-b213-c1271fbc7dbf",
   "metadata": {},
   "source": [
    "As an exercise, write an __lt__ method for Time objects. You can use tuple comparison, but you also might consider comparing integers."
   ]
  },
  {
   "cell_type": "markdown",
   "id": "dd2e73a2-a80d-4e18-88ff-b523408b977d",
   "metadata": {},
   "source": [
    "    18.4  Decks\n",
    "\n",
    "Now that we have Cards, the next step is to define Decks. Since a deck is made up of cards, it is natural for each Deck to contain a list of cards as an attribute.\n",
    "\n",
    "The following is a class definition for Deck. The init method creates the attribute cards and generates the standard set of fifty-two cards:"
   ]
  },
  {
   "cell_type": "code",
   "execution_count": 4,
   "id": "d52102d8-8952-4cd1-bdd1-2bd37899a81d",
   "metadata": {},
   "outputs": [],
   "source": [
    "class Deck:\n",
    "    \"\"\"Represents a deck of cards.\n",
    "\n",
    "    Attributes:\n",
    "      cards: list of Card objects.\n",
    "    \"\"\"\n",
    "    \n",
    "    def __init__(self):\n",
    "        \"\"\"Initializes the Deck with 52 cards.\n",
    "        \"\"\"\n",
    "        self.cards = []\n",
    "        for suit in range(4):\n",
    "            for rank in range(1, 14):\n",
    "                card = Card(suit, rank)\n",
    "                self.cards.append(card)\n",
    "\n",
    "    def __str__(self):\n",
    "        \"\"\"Returns a string representation of the deck.\n",
    "        \"\"\"\n",
    "        res = []\n",
    "        for card in self.cards:\n",
    "            res.append(str(card))\n",
    "        return '\\n'.join(res)\n",
    "\n",
    "    def add_card(self, card):\n",
    "        \"\"\"Adds a card to the deck.\n",
    "\n",
    "        card: Card\n",
    "        \"\"\"\n",
    "        self.cards.append(card)\n",
    "\n",
    "    def remove_card(self, card):\n",
    "        \"\"\"Removes a card from the deck or raises exception if it is not there.\n",
    "        \n",
    "        card: Card\n",
    "        \"\"\"\n",
    "        self.cards.remove(card)\n",
    "\n",
    "    def pop_card(self, i=-1):\n",
    "        \"\"\"Removes and returns a card from the deck.\n",
    "\n",
    "        i: index of the card to pop; by default, pops the last card.\n",
    "        \"\"\"\n",
    "        return self.cards.pop(i)\n",
    "\n",
    "    def shuffle(self):\n",
    "        \"\"\"Shuffles the cards in this deck.\"\"\"\n",
    "        random.shuffle(self.cards)\n",
    "\n",
    "    def sort(self):\n",
    "        \"\"\"Sorts the cards in ascending order.\"\"\"\n",
    "        self.cards.sort()\n",
    "\n",
    "    def move_cards(self, hand, num):\n",
    "        \"\"\"Moves the given number of cards from the deck into the Hand.\n",
    "\n",
    "        hand: destination Hand object\n",
    "        num: integer number of cards to move\n",
    "        \"\"\"\n",
    "        for i in range(num):\n",
    "            hand.add_card(self.pop_card())"
   ]
  },
  {
   "cell_type": "markdown",
   "id": "354cd59f-2c63-4f0c-a51f-54203540a367",
   "metadata": {},
   "source": [
    "The easiest way to populate the deck is with a nested loop. The outer loop enumerates the suits from 0 to 3. The inner loop enumerates the ranks from 1 to 13. Each iteration creates a new Card with the current suit and rank, and appends it to self.cards.\n",
    "\n",
    "18.5  Printing the deck\n",
    "\n",
    "Here is a __str__ method for Deck:\n",
    "\n",
    "# inside class Deck:\n",
    "\n",
    "    def __str__(self):\n",
    "        res = []\n",
    "        for card in self.cards:\n",
    "            res.append(str(card))\n",
    "        return '\\n'.join(res)\n",
    "This method demonstrates an efficient way to accumulate a large string: building a list of strings and then using the string method join. The built-in function str invokes the __str__ method on each card and returns the string representation.\n",
    "\n",
    "Since we invoke join on a newline character, the cards are separated by newlines. Here’s what the result looks like:"
   ]
  },
  {
   "cell_type": "markdown",
   "id": "ba06b34b-7647-40fb-86ed-f300b1eb5dfb",
   "metadata": {},
   "source": [
    ">>> deck = Deck()\n",
    ">>> print(deck)\n",
    "Ace of Clubs\n",
    "2 of Clubs\n",
    "3 of Clubs\n",
    "...\n",
    "10 of Spades\n",
    "Jack of Spades\n",
    "Queen of Spades\n",
    "King of Spades\n",
    "Even though the result appears on 52 lines, it is one long string that contains newlines."
   ]
  },
  {
   "cell_type": "markdown",
   "id": "12443dd5-124f-458c-b506-12941636fbe2",
   "metadata": {},
   "source": [
    "18.6  Add, remove, shuffle and sort\n",
    "To deal cards, we would like a method that removes a card from the deck and returns it. __The list method pop provides a convenient way to do that:__\n",
    "\n",
    "    https://www.programiz.com/python-programming/methods/list/pop\n",
    "__************************************************************************__\n",
    "\n",
    "# inside class Deck:"
   ]
  },
  {
   "cell_type": "markdown",
   "id": "12977676-3b8c-407a-a5a2-34dc6a148b41",
   "metadata": {},
   "source": [
    "    def pop_card(self):\n",
    "        return self.cards.pop()"
   ]
  },
  {
   "cell_type": "markdown",
   "id": "d82124ef-42b4-4035-a537-2f2e6ddb2e1c",
   "metadata": {},
   "source": [
    "Since pop removes the last card in the list, we are dealing from the bottom of the deck.\n",
    "\n",
    "To add a card, we can use the list method append:\n",
    "\n",
    "    https://www.programiz.com/python-programming/methods/list/append\n",
    "__************************************************************************__"
   ]
  },
  {
   "cell_type": "markdown",
   "id": "ef702e62-90d9-4d80-a097-f692b9022d3a",
   "metadata": {},
   "source": [
    "# inside class Deck:\n",
    "\n",
    "    def add_card(self, card):\n",
    "        self.cards.append(card)"
   ]
  },
  {
   "cell_type": "markdown",
   "id": "473c9ee4-862e-41d7-8219-ffd2db2425bf",
   "metadata": {},
   "source": [
    "A method like this that uses another method without doing much work is sometimes called a veneer. The metaphor comes from woodworking, where a veneer is a thin layer of good quality wood glued to the surface of a cheaper piece of wood to improve the appearance.\n",
    "\n",
    "__In this case add_card is a “thin” method that expresses a list operation in terms appropriate for decks. It improves the appearance, or interface, of the implementation.__\n",
    "\n",
    "As another example, we can write a Deck method named shuffle using the function shuffle from the random module:\n",
    "\n",
    "# inside class Deck:"
   ]
  },
  {
   "cell_type": "markdown",
   "id": "9e398639-b6d9-48fd-a1e3-37795e66d523",
   "metadata": {},
   "source": [
    "            \n",
    "    def shuffle(self):\n",
    "        random.shuffle(self.cards)"
   ]
  },
  {
   "cell_type": "markdown",
   "id": "e7cf7597-abc4-4a63-9395-a22643a6391d",
   "metadata": {},
   "source": [
    "__Don’t forget to import random.__\n",
    "\n",
    "As an exercise, write a Deck method named sort that uses the list method sort to sort the cards in a Deck. sort uses the __lt__ method we defined to determine the order."
   ]
  },
  {
   "cell_type": "markdown",
   "id": "3738a74b-1d3f-43fa-bb45-03beb88a88c3",
   "metadata": {},
   "source": [
    "    18.7  Inheritance\n",
    "\n",
    "__Inheritance is the ability to define a new class that is a modified version of an existing class.__ As an example, let’s say we want a class to represent a “hand”, that is, the cards held by one player. A hand is similar to a deck: both are made up of a collection of cards, and both require operations like adding and removing cards.\n",
    "\n",
    "A hand is also different from a deck; there are operations we want for hands that don’t make sense for a deck. For example, in poker we might compare two hands to see which one wins. In bridge, we might compute a score for a hand in order to make a bid.\n",
    "\n",
    "This relationship between classes—similar, but different—lends itself to inheritance. To define a new class that inherits from an existing class, you put the name of the existing class in parentheses:"
   ]
  },
  {
   "cell_type": "code",
   "execution_count": 5,
   "id": "58469edc-823a-4c44-9da3-eaa8643d3bca",
   "metadata": {},
   "outputs": [],
   "source": [
    "class Hand(Deck):\n",
    "    \"\"\"Represents a hand of playing cards.\"\"\"\n",
    "    \n",
    "    def __init__(self, label=''):\n",
    "        self.cards = []\n",
    "        self.label = label\n",
    "\n",
    "\n",
    "def find_defining_class(obj, method_name):\n",
    "    \"\"\"Finds and returns the class object that will provide \n",
    "    the definition of method_name (as a string) if it is\n",
    "    invoked on obj.\n",
    "\n",
    "    obj: any python object\n",
    "    method_name: string method name\n",
    "    \"\"\"\n",
    "    for ty in type(obj).mro():\n",
    "        if method_name in ty.__dict__:\n",
    "            return ty\n",
    "    return None"
   ]
  },
  {
   "cell_type": "markdown",
   "id": "d05ad457-eb18-4340-b871-dd4676d969f5",
   "metadata": {},
   "source": [
    "This definition indicates that Hand inherits from Deck; that means we can use methods like pop_card and add_card for Hands as well as Decks.\n",
    "\n",
    "When a new class inherits from an existing one, the existing one is called the parent and the new class is called the child.\n",
    "\n",
    "In this example, Hand inherits __init__ from Deck, but it doesn’t really do what we want: instead of populating the hand with 52 new cards, the init method for Hands should initialize cards with an empty list.\n",
    "\n",
    "If we provide an init method in the Hand class, it overrides the one in the Deck class:\n",
    "\n",
    "# inside class Hand:"
   ]
  },
  {
   "cell_type": "markdown",
   "id": "31331dab-3bdd-4486-be95-957bd9a9877f",
   "metadata": {},
   "source": [
    "    def __init__(self, label=''):\n",
    "        self.cards = []\n",
    "        self.label = label"
   ]
  },
  {
   "cell_type": "markdown",
   "id": "2ad199be-3db6-4566-8ba3-487422a07127",
   "metadata": {},
   "source": [
    "   __When you create a Hand, Python invokes this init method, not the one in Deck.__"
   ]
  },
  {
   "cell_type": "code",
   "execution_count": 6,
   "id": "2a55fc59-52d1-4262-b88a-aaf6daff663d",
   "metadata": {},
   "outputs": [
    {
     "data": {
      "text/plain": [
       "[]"
      ]
     },
     "execution_count": 6,
     "metadata": {},
     "output_type": "execute_result"
    }
   ],
   "source": [
    "hand = Hand('new hand')\n",
    "hand.cards"
   ]
  },
  {
   "cell_type": "code",
   "execution_count": 7,
   "id": "58c71c9c-36fa-45fd-a703-97da640757ec",
   "metadata": {},
   "outputs": [
    {
     "data": {
      "text/plain": [
       "'new hand'"
      ]
     },
     "execution_count": 7,
     "metadata": {},
     "output_type": "execute_result"
    }
   ],
   "source": [
    "hand.label"
   ]
  },
  {
   "cell_type": "markdown",
   "id": "21104fc5-3ae6-471d-a6e6-3e800da896f5",
   "metadata": {},
   "source": [
    "The other methods are inherited from Deck, so we can use pop_card and add_card to deal a card:"
   ]
  },
  {
   "cell_type": "code",
   "execution_count": 8,
   "id": "22e50691-4a1f-4be2-8c4d-82ea3b67c6a6",
   "metadata": {},
   "outputs": [
    {
     "name": "stdout",
     "output_type": "stream",
     "text": [
      "Ace of Clubs\n",
      "2 of Clubs\n",
      "3 of Clubs\n",
      "4 of Clubs\n",
      "5 of Clubs\n",
      "6 of Clubs\n",
      "7 of Clubs\n",
      "8 of Clubs\n",
      "9 of Clubs\n",
      "10 of Clubs\n",
      "Jack of Clubs\n",
      "Queen of Clubs\n",
      "King of Clubs\n",
      "Ace of Diamonds\n",
      "2 of Diamonds\n",
      "3 of Diamonds\n",
      "4 of Diamonds\n",
      "5 of Diamonds\n",
      "6 of Diamonds\n",
      "7 of Diamonds\n",
      "8 of Diamonds\n",
      "9 of Diamonds\n",
      "10 of Diamonds\n",
      "Jack of Diamonds\n",
      "Queen of Diamonds\n",
      "King of Diamonds\n",
      "Ace of Hearts\n",
      "2 of Hearts\n",
      "3 of Hearts\n",
      "4 of Hearts\n",
      "5 of Hearts\n",
      "6 of Hearts\n",
      "7 of Hearts\n",
      "8 of Hearts\n",
      "9 of Hearts\n",
      "10 of Hearts\n",
      "Jack of Hearts\n",
      "Queen of Hearts\n",
      "King of Hearts\n",
      "Ace of Spades\n",
      "2 of Spades\n",
      "3 of Spades\n",
      "4 of Spades\n",
      "5 of Spades\n",
      "6 of Spades\n",
      "7 of Spades\n",
      "8 of Spades\n",
      "9 of Spades\n",
      "10 of Spades\n",
      "Jack of Spades\n",
      "Queen of Spades\n",
      "King of Spades\n",
      "King of Spades\n"
     ]
    }
   ],
   "source": [
    "deck = Deck()\n",
    "card = deck.pop_card()\n",
    "hand.add_card(card)\n",
    "print(hand)"
   ]
  },
  {
   "cell_type": "markdown",
   "id": "f8f1a78d-e7c6-47e0-a599-e4e1d3e177bb",
   "metadata": {},
   "source": [
    "A natural next step is to encapsulate this code in a method called move_cards:"
   ]
  },
  {
   "cell_type": "markdown",
   "id": "24ee7d49-b05b-4005-9e11-4b35b40bd8c9",
   "metadata": {},
   "source": [
    "# inside class Deck:"
   ]
  },
  {
   "cell_type": "markdown",
   "id": "fa57bb99-e1cb-4a5a-9805-2239540701e0",
   "metadata": {},
   "source": [
    "    def move_cards(self, hand, num):\n",
    "        for i in range(num):\n",
    "            hand.add_card(self.pop_card())"
   ]
  },
  {
   "cell_type": "markdown",
   "id": "0ec81bae-31e0-498f-ae1c-ee9c1d4e8e43",
   "metadata": {},
   "source": [
    "move_cards takes two arguments, a Hand object and the number of cards to deal. It modifies both self and hand, and returns None.\n",
    "\n",
    "In some games, cards are moved from one hand to another, or from a hand back to the deck. You can use move_cards for any of these operations: self can be either a Deck or a Hand, and hand, despite the name, can also be a Deck.\n",
    "\n",
    "Inheritance is a useful feature. Some programs that would be repetitive without inheritance can be written more elegantly with it. Inheritance can facilitate code reuse, since you can customize the behavior of parent classes without having to modify them. In some cases, the inheritance structure reflects the natural structure of the problem, which makes the design easier to understand.\n",
    "\n",
    "On the other hand, inheritance can make programs difficult to read. When a method is invoked, it is sometimes not clear where to find its definition. The relevant code may be spread across several modules. Also, many of the things that can be done using inheritance can be done as well or better without it.\n",
    "\n",
    "18.8  Class diagrams\n",
    "\n",
    "So far we have seen stack diagrams, which show the state of a program, and object diagrams, which show the attributes of an object and their values. These diagrams represent a snapshot in the execution of a program, so they change as the program runs.\n",
    "\n",
    "They are also highly detailed; for some purposes, too detailed. A class diagram is a more abstract representation of the structure of a program. Instead of showing individual objects, it shows classes and the relationships between them.\n",
    "\n",
    "There are several kinds of relationship between classes:\n",
    "\n",
    "Objects in one class might contain references to objects in another class. For example, each Rectangle contains a reference to a Point, and each Deck contains references to many Cards. This kind of relationship is called HAS-A, as in, “a Rectangle has a Point.”\n",
    "One class might inherit from another. This relationship is called IS-A, as in, “a Hand is a kind of a Deck.”\n",
    "One class might depend on another in the sense that objects in one class take objects in the second class as parameters, or use objects in the second class as part of a computation. This kind of relationship is called a dependency.\n",
    "\n",
    "A class diagram is a graphical representation of these relationships. For example, Figure 18.2 shows the relationships between Card, Deck and Hand."
   ]
  },
  {
   "attachments": {
    "907ccb0b-65d1-423b-8c9f-aa1248c016c0.png": {
     "image/png": "[encoded data removed]"
    }
   },
   "cell_type": "markdown",
   "id": "e8204a66-4fec-42b7-8c51-03d490ad2172",
   "metadata": {},
   "source": [
    "![image.png](attachment:907ccb0b-65d1-423b-8c9f-aa1248c016c0.png)"
   ]
  },
  {
   "cell_type": "markdown",
   "id": "347ce4cb-3475-4e03-af26-965e115b5a09",
   "metadata": {},
   "source": [
    "__The arrow with a hollow triangle head represents an IS-A relationship; in this case it indicates that Hand inherits from Deck.__\n",
    "\n",
    "__The standard arrow head represents a HAS-A relationship; in this case a Deck has references to Card objects.__\n",
    "\n",
    "__The star (*) near the arrow head is a multiplicity; it indicates how many Cards a Deck has. A multiplicity can be a simple number, like 52, a range, like 5..7 or a star, which indicates that a Deck can have any number of Cards.__\n",
    "\n",
    "__There are no dependencies in this diagram. They would normally be shown with a dashed arrow. Or if there are a lot of dependencies, they are sometimes omitted.__\n",
    "\n",
    "A more detailed diagram might show that a Deck actually contains a list of Cards, but built-in types like list and dict are usually not included in class diagrams."
   ]
  },
  {
   "cell_type": "markdown",
   "id": "6cf57f1f-2b0f-43a1-989a-9ec580f4e713",
   "metadata": {},
   "source": [
    "    18.9  Debugging\n",
    "\n",
    "Inheritance can make debugging difficult because when you invoke a method on an object, it might be hard to figure out which method will be invoked.\n",
    "\n",
    "Suppose you are writing a function that works with Hand objects. You would like it to work with all kinds of Hands, like PokerHands, BridgeHands, etc. If you invoke a method like shuffle, you might get the one defined in Deck, but if any of the subclasses override this method, you’ll get that version instead. This behavior is usually a good thing, but it can be confusing.\n",
    "\n",
    "Any time you are unsure about the flow of execution through your program, the simplest solution is to add print statements at the beginning of the relevant methods. If Deck.shuffle prints a message that says something like Running Deck.shuffle, then as the program runs it traces the flow of execution.\n",
    "\n",
    "As an alternative, you could use this function, which takes an object and a method name (as a string) and returns the class that provides the definition of the method:"
   ]
  },
  {
   "cell_type": "markdown",
   "id": "21c8fea6-d879-4dd0-b053-88396419abdc",
   "metadata": {},
   "source": [
    "def find_defining_class(obj, meth_name):\n",
    "    for ty in type(obj).mro():\n",
    "        if meth_name in ty.__dict__:\n",
    "            return ty\n",
    "Here’s an example:"
   ]
  },
  {
   "cell_type": "code",
   "execution_count": 9,
   "id": "96447938-4593-4e3e-9efe-bb13aca08522",
   "metadata": {},
   "outputs": [
    {
     "data": {
      "text/plain": [
       "__main__.Deck"
      ]
     },
     "execution_count": 9,
     "metadata": {},
     "output_type": "execute_result"
    }
   ],
   "source": [
    "hand = Hand()\n",
    "find_defining_class(hand, 'shuffle')"
   ]
  },
  {
   "cell_type": "markdown",
   "id": "1352f1d1-cecc-45ec-925b-1f636e5ef552",
   "metadata": {},
   "source": [
    "So the shuffle method for this Hand is the one in Deck.\n",
    "\n",
    "__find_defining_class uses the mro method to get the list of class objects (types) that will be searched for methods. “MRO” stands for “method resolution order”, which is the sequence of classes Python searches to “resolve” a method name.__\n",
    "\n",
    "__Here’s a design suggestion: when you override a method, the interface of the new method should be the same as the old. It should take the same parameters, return the same type, and obey the same preconditions and postconditions. If you follow this rule, you will find that any function designed to work with an instance of a parent class, like a Deck, will also work with instances of child classes like a Hand and PokerHand.__\n",
    "\n",
    "__If you violate this rule, which is called the “Liskov substitution principle”, your code will collapse like (sorry) a house of cards.__"
   ]
  },
  {
   "cell_type": "markdown",
   "id": "466b1e87-4ebd-48b2-93f6-49cf59a15f9f",
   "metadata": {},
   "source": [
    "    18.10  Data encapsulation\n",
    "\n",
    "__The previous chapters demonstrate a development plan we might call “object-oriented design”. We identified objects we needed—like Point, Rectangle and Time—and defined classes to represent them. In each case there is an obvious correspondence between the object and some entity in the real world (or at least a mathematical world).__\n",
    "\n",
    "__But sometimes it is less obvious what objects you need and how they should interact. In that case you need a different development plan. In the same way that we discovered function interfaces by encapsulation and generalization, we can discover class interfaces by data encapsulation.__\n",
    "\n",
    "__Markov analysis, from Section 13.8, provides a good example. If you download my code from http://thinkpython2.com/code/markov.py, you’ll see that it uses two global variables—suffix_map and prefix—that are read and written from several functions.__\n",
    "\n",
    "suffix_map = {}        \n",
    "prefix = ()            \n",
    "__Because these variables are global, we can only run one analysis at a time. If we read two texts, their prefixes and suffixes would be added to the same data structures (which makes for some interesting generated text).__\n",
    "\n",
    "__To run multiple analyses, and keep them separate, we can encapsulate the state of each analysis in an object. Here’s what that looks like:__"
   ]
  },
  {
   "cell_type": "markdown",
   "id": "07de37e1-aa56-42a6-bc91-d8894427fd59",
   "metadata": {},
   "source": [
    "class Markov:\n",
    "\n",
    "    def __init__(self):\n",
    "        self.suffix_map = {}\n",
    "        self.prefix = () "
   ]
  },
  {
   "cell_type": "markdown",
   "id": "d192d990-d73e-4132-ad84-c6b5d15d2ab9",
   "metadata": {},
   "source": [
    "  Next, we transform the functions into methods. For example, here’s process_word:"
   ]
  },
  {
   "cell_type": "markdown",
   "id": "7ec74ae8-a2a8-4c2e-ae55-3c97c2bdf433",
   "metadata": {},
   "source": [
    "    def process_word(self, word, order=2):\n",
    "        if len(self.prefix) < order:\n",
    "            self.prefix += (word,)\n",
    "            return\n",
    "\n",
    "        try:\n",
    "            self.suffix_map[self.prefix].append(word)\n",
    "        except KeyError:\n",
    "            # if there is no entry for this prefix, make one\n",
    "            self.suffix_map[self.prefix] = [word]\n",
    "\n",
    "        self.prefix = shift(self.prefix, word)        \n",
    "Transforming a program like this—changing the design without changing the behavior—is another example of refactoring (see Section 4.7).\n",
    "\n",
    "This example suggests a development plan for designing objects and methods:\n",
    "\n",
    "Start by writing functions that read and write global variables (when necessary).\n",
    "Once you get the program working, look for associations between global variables and the functions that use them.\n",
    "Encapsulate related variables as attributes of an object.\n",
    "Transform the associated functions into methods of the new class.\n",
    "As an exercise, download my Markov code from http://thinkpython2.com/code/markov.py, and follow the steps described above to encapsulate the global variables as attributes of a new class called Markov. Solution: http://thinkpython2.com/code/markov2.py."
   ]
  },
  {
   "cell_type": "markdown",
   "id": "ba49360c-5940-4240-8210-e26b0e8edf69",
   "metadata": {},
   "source": [
    "18.11  Glossary\n",
    "\n",
    "encode:\n",
    "\n",
    "To represent one set of values using another set of values by constructing a mapping between them.\n",
    "\n",
    "class attribute:\n",
    "\n",
    "An attribute associated with a class object. Class attributes are defined inside a class definition but outside any method.\n",
    "\n",
    "instance attribute:\n",
    "\n",
    "An attribute associated with an instance of a class.\n",
    "\n",
    "veneer:\n",
    "\n",
    "A method or function that provides a different interface to another function without doing much computation.\n",
    "\n",
    "inheritance:\n",
    "\n",
    "The ability to define a new class that is a modified version of a previously defined class.\n",
    "\n",
    "parent class:\n",
    "\n",
    "The class from which a child class inherits.\n",
    "\n",
    "child class:\n",
    "\n",
    "A new class created by inheriting from an existing class; also called a “subclass”.\n",
    "\n",
    "IS-A relationship:\n",
    "\n",
    "A relationship between a child class and its parent class.\n",
    "\n",
    "HAS-A relationship:\n",
    "\n",
    "A relationship between two classes where instances of one class contain references to instances of the other.\n",
    "\n",
    "dependency:\n",
    "\n",
    "A relationship between two classes where instances of one class use instances of the other class, but do not store them as attributes.\n",
    "\n",
    "class diagram:\n",
    "\n",
    "A diagram that shows the classes in a program and the relationships between them.\n",
    "\n",
    "multiplicity:\n",
    "\n",
    "A notation in a class diagram that shows, for a HAS-A relationship, how many references there are to instances of another class.\n",
    "\n",
    "data encapsulation:\n",
    "\n",
    "A program development plan that involves a prototype using global variables and a final version that makes the global variables into instance attributes.\n",
    "\n",
    "18.12  Exercises\n",
    "\n",
    "Exercise 1   For the following program, draw a UML class diagram that shows these classes and the relationships among them.\n",
    "class PingPongParent:\n",
    "    pass\n",
    "\n",
    "class Ping(PingPongParent):\n",
    "    def __init__(self, pong):\n",
    "        self.pong = pong\n",
    "\n",
    "\n",
    "class Pong(PingPongParent):\n",
    "    def __init__(self, pings=None):\n",
    "        if pings is None:\n",
    "            self.pings = []\n",
    "        else:\n",
    "            self.pings = pings\n",
    "\n",
    "    def add_ping(self, ping):\n",
    "        self.pings.append(ping)\n",
    "\n",
    "pong = Pong()\n",
    "ping = Ping(pong)\n",
    "pong.add_ping(ping)\n",
    "Exercise 2   Write a Deck method called deal_hands that takes two parameters, the number of hands and the number of cards per hand. It should create the appropriate number of Hand objects, deal the appropriate number of cards per hand, and return a list of Hands.\n",
    "Exercise 3  \n",
    "The following are the possible hands in poker, in increasing order of value and decreasing order of probability:\n",
    "\n",
    "pair:\n",
    "two cards with the same rank\n",
    "two pair:\n",
    "two pairs of cards with the same rank\n",
    "three of a kind:\n",
    "three cards with the same rank\n",
    "straight:\n",
    "five cards with ranks in sequence (aces can be high or low, so Ace-2-3-4-5 is a straight and so is 10-Jack-Queen-King-Ace, but Queen-King-Ace-2-3 is not.)\n",
    "flush:\n",
    "five cards with the same suit\n",
    "full house:\n",
    "three cards with one rank, two cards with another\n",
    "four of a kind:\n",
    "four cards with the same rank\n",
    "straight flush:\n",
    "five cards in sequence (as defined above) and with the same suit\n",
    "The goal of these exercises is to estimate the probability of drawing these various hands.\n",
    "\n",
    "Download the following files from http://thinkpython2.com/code:\n",
    "Card.py\n",
    ": A complete version of the Card, Deck and Hand classes in this chapter.\n",
    "PokerHand.py\n",
    ": An incomplete implementation of a class that represents a poker hand, and some code that tests it.\n",
    "If you run PokerHand.py, it deals seven 7-card poker hands and checks to see if any of them contains a flush. Read this code carefully before you go on.\n",
    "Add methods to PokerHand.py named has_pair, has_twopair, etc. that return True or False according to whether or not the hand meets the relevant criteria. Your code should work correctly for “hands” that contain any number of cards (although 5 and 7 are the most common sizes).\n",
    "Write a method named classify that figures out the highest-value classification for a hand and sets the label attribute accordingly. For example, a 7-card hand might contain a flush and a pair; it should be labeled “flush”.\n",
    "When you are convinced that your classification methods are working, the next step is to estimate the probabilities of the various hands. Write a function in PokerHand.py that shuffles a deck of cards, divides it into hands, classifies the hands, and counts the number of times various classifications appear.\n",
    "Print a table of the classifications and their probabilities. Run your program with larger and larger numbers of hands until the output values converge to a reasonable degree of accuracy. Compare your results to the values at http://en.wikipedia.org/wiki/Hand_rankings.\n",
    "Solution: http://thinkpython2.com/code/PokerHandSoln.py."
   ]
  }
 ],
 "metadata": {
  "kernelspec": {
   "display_name": "Python 3 (ipykernel)",
   "language": "python",
   "name": "python3"
  },
  "language_info": {
   "codemirror_mode": {
    "name": "ipython",
    "version": 3
   },
   "file_extension": ".py",
   "mimetype": "text/x-python",
   "name": "python",
   "nbconvert_exporter": "python",
   "pygments_lexer": "ipython3",
   "version": "3.9.13"
  }
 },
 "nbformat": 4,
 "nbformat_minor": 5
}
