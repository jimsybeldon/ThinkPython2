{
 "cells": [
  {
   "cell_type": "markdown",
   "metadata": {},
   "source": [
    "This is chapter 7 stuff:\n",
    "https://greenteapress.com/thinkpython2/html/thinkpython2008.html"
   ]
  },
  {
   "cell_type": "code",
   "execution_count": 1,
   "metadata": {},
   "outputs": [
    {
     "name": "stdout",
     "output_type": "stream",
     "text": [
      "3\n",
      "2\n",
      "1\n",
      "Blastoff!\n"
     ]
    }
   ],
   "source": [
    "def countdown(n):\n",
    "    while n > 0:\n",
    "        print(n)\n",
    "        n = n - 1\n",
    "    print('Blastoff!')\n",
    "countdown(3)"
   ]
  },
  {
   "cell_type": "code",
   "execution_count": 2,
   "metadata": {},
   "outputs": [
    {
     "name": "stdout",
     "output_type": "stream",
     "text": [
      "4\n",
      "2.0\n"
     ]
    }
   ],
   "source": [
    "def sequence(n):\n",
    "    while n != 1:\n",
    "        print(n)\n",
    "        if n % 2 == 0:        # n is even\n",
    "            n = n / 2\n",
    "        else:                 # n is odd\n",
    "            n = n*3 + 1\n",
    "sequence(4)"
   ]
  },
  {
   "cell_type": "code",
   "execution_count": 7,
   "metadata": {},
   "outputs": [
    {
     "name": "stdout",
     "output_type": "stream",
     "text": [
      "not done\n",
      "stop\n",
      "stop\n",
      "stop\n",
      "Done!\n"
     ]
    }
   ],
   "source": [
    "# enter done at input to end this while loop\n",
    "while True:\n",
    "    line = input('> ')\n",
    "    if line == 'done':\n",
    "        break\n",
    "    print(line)\n",
    "\n",
    "print('Done!')"
   ]
  },
  {
   "attachments": {
    "image.png": {
     "image/png": "[encoded data removed]"
    }
   },
   "cell_type": "markdown",
   "metadata": {},
   "source": [
    "here is an example the uses Newton's Method to converge on a square root function.   The coding is cool, but Newton's method is cooler: https://en.wikipedia.org/wiki/Newton%27s_method\n",
    "\n",
    "![image.png](attachment:image.png)\n",
    "\n",
    "        https://en.wikipedia.org/wiki/Newton%27s_method\n",
    "\n",
    "        ![image.png](attachment:image.png)\n",
    "\n",
    "\n",
    "our function is  is f(x)=x^2\n",
    "a is the constant the f(x) is equal to.    Here were say a=4 meaning x^2=4 is our request.   What newton's method does is solve for x or in the case meaning x = (4)^.5.   NEVER MIND that this is easy for you to see.   It is illustrating that the method yeild was you know is all ready 2.\n",
    "\n",
    "Remember there are multitudes of function the mess up Newton Raphson.  But it is cool.  When nobody had a calculator on planet earth is was useful"
   ]
  },
  {
   "cell_type": "code",
   "execution_count": 1,
   "metadata": {},
   "outputs": [
    {
     "name": "stdout",
     "output_type": "stream",
     "text": [
      "3\n",
      "2.1666666666666665\n",
      "2.0064102564102564\n",
      "2.0000102400262145\n",
      "2.0000000000262146\n",
      "2.0\n"
     ]
    }
   ],
   "source": [
    "a = 4  \n",
    "firstguess = 3\n",
    "while True:\n",
    "    print(firstguess)\n",
    "    nextguess = (firstguess + a/firstguess) / 2\n",
    "    if nextguess == firstguess:\n",
    "        break\n",
    "    firstguess = nextguess"
   ]
  },
  {
   "cell_type": "markdown",
   "metadata": {},
   "source": [
    "here we use abitrary accuracy to terminate the program.  Epsilon"
   ]
  },
  {
   "cell_type": "code",
   "execution_count": 2,
   "metadata": {},
   "outputs": [
    {
     "name": "stdout",
     "output_type": "stream",
     "text": [
      "3\n",
      "2.1666666666666665\n",
      "2.0064102564102564\n",
      "2.0000102400262145\n"
     ]
    }
   ],
   "source": [
    "a = 4\n",
    "x = 3\n",
    "epsilon=.001\n",
    "while True:\n",
    "    print(x)\n",
    "    y = (x + a/x) / 2\n",
    "    if abs(y-x) < epsilon:\n",
    "        break\n",
    "    x = y"
   ]
  },
  {
   "cell_type": "markdown",
   "metadata": {},
   "source": [
    "newton raphson method is obvious for find that square root,  but here is a function that might bust things up:\n",
    "The method is defined as:\n",
    "x1=x0-f(x0)/f'(x0)\n",
    "you choose the solve the function's solution (root/zeros) for a given value \"a\"\n",
    "now using this function-\n",
    "f[x_] := x^1.5 + x*1.4*Sin[x*2*Pi] and solving zeros roots where f[x]=a\n",
    "The derivative of f[x] is:\n",
    "f'[x]=1.5 x^0.5 + 8.79646 x Cos[2 Pi x] + 1.4 Sin[2 Pi x]\n",
    "then:\n",
    "x1=x0 - (x^1.5 + x*1.4*Sin[x*2*Pi] - a)/(1.5 x^0.5 + 8.79646 x Cos[2 Pi x] + 1.4 Sin[2 Pi x])\n",
    "Let's solve for a =4.5\n",
    "make a first guess of x0=3\n",
    "this will bust newton!\n",
    "\n",
    "x0-(x0**1.5+x0*1.4*math.sin(x0*2*math.pi))/((1.5*x0**.5)+8.79646*math.cos(2 * math.pi*x0)+ 1.4 * math.sin (2 * math.pi * x0))"
   ]
  },
  {
   "cell_type": "code",
   "execution_count": 18,
   "metadata": {},
   "outputs": [
    {
     "name": "stdout",
     "output_type": "stream",
     "text": [
      "2.5439785940976454\n"
     ]
    }
   ],
   "source": [
    "import math\n",
    "a=4.5\n",
    "x0=3\n",
    "x1=x0-(x0**1.5+x0*1.4*math.sin(x0*2*math.pi))/((1.5*x0**.5)+8.79646*math.cos(2 * math.pi*x0)+ 1.4 * math.sin (2 * math.pi * x0))\n",
    "print (x1)"
   ]
  },
  {
   "cell_type": "code",
   "execution_count": 19,
   "metadata": {},
   "outputs": [
    {
     "name": "stdout",
     "output_type": "stream",
     "text": [
      "3.022252038140366\n"
     ]
    }
   ],
   "source": [
    "import math\n",
    "a=4.5\n",
    "x0=2.5439785940976454\n",
    "x1=x0-(x0**1.5+x0*1.4*math.sin(x0*2*math.pi))/((1.5*x0**.5)+8.79646*math.cos(2 * math.pi*x0)+ 1.4 * math.sin (2 * math.pi * x0))\n",
    "print (x1)"
   ]
  },
  {
   "cell_type": "code",
   "execution_count": 20,
   "metadata": {},
   "outputs": [
    {
     "name": "stdout",
     "output_type": "stream",
     "text": [
      "2.514694799381228\n"
     ]
    }
   ],
   "source": [
    "import math\n",
    "a=4.5\n",
    "x0=3.022252038140366\n",
    "x1=x0-(x0**1.5+x0*1.4*math.sin(x0*2*math.pi))/((1.5*x0**.5)+8.79646*math.cos(2 * math.pi*x0)+ 1.4 * math.sin (2 * math.pi * x0))\n",
    "print (x1)"
   ]
  },
  {
   "cell_type": "code",
   "execution_count": 21,
   "metadata": {},
   "outputs": [
    {
     "name": "stdout",
     "output_type": "stream",
     "text": [
      "3.077443317490424\n"
     ]
    }
   ],
   "source": [
    "import math\n",
    "a=4.5\n",
    "x0=2.514694799381228\n",
    "x1=x0-(x0**1.5+x0*1.4*math.sin(x0*2*math.pi))/((1.5*x0**.5)+8.79646*math.cos(2 * math.pi*x0)+ 1.4 * math.sin (2 * math.pi * x0))\n",
    "print (x1)"
   ]
  },
  {
   "cell_type": "markdown",
   "metadata": {},
   "source": [
    "See immediated below,  this function blows around 2.5 as an estimate."
   ]
  },
  {
   "cell_type": "code",
   "execution_count": 22,
   "metadata": {},
   "outputs": [
    {
     "name": "stdout",
     "output_type": "stream",
     "text": [
      "2.514694799381228\n",
      "3.077443317490424\n",
      "2.4072530320905208\n",
      "3.723411811774108\n",
      "-36.19775746987842\n",
      "(-13.589120856211832+9.099920665635064j)\n"
     ]
    },
    {
     "ename": "TypeError",
     "evalue": "must be real number, not complex",
     "output_type": "error",
     "traceback": [
      "\u001b[1;31m---------------------------------------------------------------------------\u001b[0m",
      "\u001b[1;31mTypeError\u001b[0m                                 Traceback (most recent call last)",
      "Cell \u001b[1;32mIn[22], line 6\u001b[0m\n\u001b[0;32m      4\u001b[0m \u001b[39mwhile\u001b[39;00m \u001b[39mTrue\u001b[39;00m:\n\u001b[0;32m      5\u001b[0m     \u001b[39mprint\u001b[39m(x0)\n\u001b[1;32m----> 6\u001b[0m     x1\u001b[39m=\u001b[39mx0\u001b[39m-\u001b[39m(x0\u001b[39m*\u001b[39m\u001b[39m*\u001b[39m\u001b[39m1.5\u001b[39m\u001b[39m+\u001b[39mx0\u001b[39m*\u001b[39m\u001b[39m1.4\u001b[39m\u001b[39m*\u001b[39mmath\u001b[39m.\u001b[39;49msin(x0\u001b[39m*\u001b[39;49m\u001b[39m2\u001b[39;49m\u001b[39m*\u001b[39;49mmath\u001b[39m.\u001b[39;49mpi))\u001b[39m/\u001b[39m((\u001b[39m1.5\u001b[39m\u001b[39m*\u001b[39mx0\u001b[39m*\u001b[39m\u001b[39m*\u001b[39m\u001b[39m.5\u001b[39m)\u001b[39m+\u001b[39m\u001b[39m8.79646\u001b[39m\u001b[39m*\u001b[39mmath\u001b[39m.\u001b[39mcos(\u001b[39m2\u001b[39m \u001b[39m*\u001b[39m math\u001b[39m.\u001b[39mpi\u001b[39m*\u001b[39mx0)\u001b[39m+\u001b[39m \u001b[39m1.4\u001b[39m \u001b[39m*\u001b[39m math\u001b[39m.\u001b[39msin (\u001b[39m2\u001b[39m \u001b[39m*\u001b[39m math\u001b[39m.\u001b[39mpi \u001b[39m*\u001b[39m x0))\n\u001b[0;32m      7\u001b[0m     \u001b[39mif\u001b[39;00m \u001b[39mabs\u001b[39m(x0\u001b[39m-\u001b[39mx1) \u001b[39m<\u001b[39m epsilon:\n\u001b[0;32m      8\u001b[0m         \u001b[39mbreak\u001b[39;00m\n",
      "\u001b[1;31mTypeError\u001b[0m: must be real number, not complex"
     ]
    }
   ],
   "source": [
    "a = 4\n",
    "x0 = 2.514694799381228\n",
    "epsilon=.001\n",
    "while True:\n",
    "    print(x0)\n",
    "    x1=x0-(x0**1.5+x0*1.4*math.sin(x0*2*math.pi))/((1.5*x0**.5)+8.79646*math.cos(2 * math.pi*x0)+ 1.4 * math.sin (2 * math.pi * x0))\n",
    "    if abs(x0-x1) < epsilon:\n",
    "        break\n",
    "    x0 = x1"
   ]
  },
  {
   "attachments": {
    "84f48880-546b-4c0a-8217-59b7e31eb8d8.png": {
     "image/png": "[encoded data removed]"
    },
    "f58922f2-7a06-4917-8085-ba29c2554d53.png": {
     "image/png": "[encoded data removed]"
    }
   },
   "cell_type": "markdown",
   "metadata": {},
   "source": [
    "If you are luck you might find a zero but there can be others.   This particular function busts the method because it plots like what you see in print.pdf in the jimwork folder\n",
    "JimWork\\print.pdf\n",
    "![Screenshot 2023-01-18 144646.png](attachment:f58922f2-7a06-4917-8085-ba29c2554d53.png)\n",
    "\n",
    "![image.png](attachment:84f48880-546b-4c0a-8217-59b7e31eb8d8.png)"
   ]
  },
  {
   "cell_type": "code",
   "execution_count": 26,
   "metadata": {},
   "outputs": [
    {
     "name": "stdout",
     "output_type": "stream",
     "text": [
      "1.9\n",
      "1.7737667678130755\n",
      "1.822300755053228\n",
      "1.7860990798767284\n",
      "1.8049866702566177\n",
      "1.792113041985448\n",
      "1.7997342812063224\n",
      "1.7947663446226596\n",
      "1.7978252807164128\n",
      "1.7958704085751385\n",
      "1.7970914313275763\n",
      "1.7963175303001542\n",
      "1.7968035766289656\n",
      "1.7964965428740287\n",
      "1.7966897906050898\n",
      "1.7965678801570806\n",
      "1.7966446762585504\n",
      "1.7965962552559775\n",
      "1.7966267678199903\n",
      "1.7966075333131373\n",
      "1.7966196555902205\n"
     ]
    }
   ],
   "source": [
    "a = 4\n",
    "x0 = 1.9\n",
    "epsilon=.00001\n",
    "while True:\n",
    "    print(x0)\n",
    "    x1=x0-(x0**1.5+x0*1.4*math.sin(x0*2*math.pi))/((1.5*x0**.5)+8.79646*math.cos(2 * math.pi*x0)+ 1.4 * math.sin (2 * math.pi * x0))\n",
    "    if abs(x0-x1) < epsilon:\n",
    "        break\n",
    "    x0 = x1"
   ]
  }
 ],
 "metadata": {
  "kernelspec": {
   "display_name": "Python 3 (ipykernel)",
   "language": "python",
   "name": "python3"
  },
  "language_info": {
   "codemirror_mode": {
    "name": "ipython",
    "version": 3
   },
   "file_extension": ".py",
   "mimetype": "text/x-python",
   "name": "python",
   "nbconvert_exporter": "python",
   "pygments_lexer": "ipython3",
   "version": "3.9.13"
  },
  "vscode": {
   "interpreter": {
    "hash": "631e1f049cd2d2d8180e86c795294feb9c61d2aee0f8a54a46db8f780f364367"
   }
  }
 },
 "nbformat": 4,
 "nbformat_minor": 4
}
