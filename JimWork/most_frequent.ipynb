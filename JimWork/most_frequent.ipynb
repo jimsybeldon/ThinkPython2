{
 "cells": [
  {
   "cell_type": "markdown",
   "metadata": {},
   "source": [
    "\"\"\"This module contains a code example related to\n",
    "\n",
    "Think Python, 2nd Edition\n",
    "by Allen Downey\n",
    "http://thinkpython2.com\n",
    "\n",
    "Copyright 2015 Allen Downey\n",
    "\n",
    "License: http://creativecommons.org/licenses/by/4.0/\n",
    "\"\"\"\n",
    "\n"
   ]
  },
  {
   "cell_type": "code",
   "execution_count": 3,
   "metadata": {},
   "outputs": [],
   "source": [
    "from __future__ import print_function, division\n",
    "\n",
    "\n",
    "def most_frequent(s):\n",
    "    \"\"\"Sorts the letters in s in reverse order of frequency.\n",
    "\n",
    "    s: string\n",
    "\n",
    "    Returns: list of letters\n",
    "    \"\"\"\n",
    "    hist = make_histogram(s)\n",
    "\n",
    "    t = []\n",
    "    for x, freq in hist.items():\n",
    "        t.append((freq, x))\n",
    "\n",
    "    t.sort(reverse=True)\n",
    "\n",
    "    res = []\n",
    "    for freq, x in t:\n",
    "        res.append(x)\n",
    "\n",
    "    return res\n",
    "    \n",
    "\n",
    "def make_histogram(s):\n",
    "    \"\"\"Make a map from letters to number of times they appear in s.\n",
    "\n",
    "    s: string\n",
    "\n",
    "    Returns: map from letter to frequency\n",
    "    \"\"\"\n",
    "    hist = {}\n",
    "    for x in s:\n",
    "        hist[x] = hist.get(x, 0) + 1\n",
    "    return hist\n",
    "\n",
    "\n",
    "def read_file(filename):\n",
    "    \"\"\"Returns the contents of a file as a string.\"\"\"\n",
    "    return open(filename).read()\n"
   ]
  },
  {
   "cell_type": "code",
   "execution_count": 5,
   "metadata": {},
   "outputs": [
    {
     "name": "stdout",
     "output_type": "stream",
     "text": [
      " \n",
      "e\n",
      "t\n",
      "o\n",
      "r\n",
      "i\n",
      "a\n",
      "s\n",
      "n\n",
      "l\n",
      "h\n",
      "u\n",
      "\n",
      "\n",
      "d\n",
      "c\n",
      "w\n",
      "y\n",
      "f\n",
      "g\n",
      "B\n",
      "m\n",
      "k\n",
      "b\n",
      "T\n",
      ".\n",
      "p\n",
      "C\n",
      "v\n",
      ":\n",
      ",\n",
      "j\n",
      "U\n",
      "S\n",
      "P\n",
      "M\n",
      "I\n",
      "G\n",
      "A\n",
      "Y\n",
      "L\n",
      "-\n"
     ]
    }
   ],
   "source": [
    "if __name__ == '__main__':\n",
    "    string = read_file('emma3.txt')\n",
    "    letter_seq = most_frequent(string)\n",
    "    for x in letter_seq:\n",
    "        print(x)"
   ]
  },
  {
   "cell_type": "code",
   "execution_count": null,
   "metadata": {},
   "outputs": [],
   "source": []
  }
 ],
 "metadata": {
  "kernelspec": {
   "display_name": "Python 3 (ipykernel)",
   "language": "python",
   "name": "python3"
  },
  "language_info": {
   "codemirror_mode": {
    "name": "ipython",
    "version": 3
   },
   "file_extension": ".py",
   "mimetype": "text/x-python",
   "name": "python",
   "nbconvert_exporter": "python",
   "pygments_lexer": "ipython3",
   "version": "3.9.13"
  },
  "vscode": {
   "interpreter": {
    "hash": "631e1f049cd2d2d8180e86c795294feb9c61d2aee0f8a54a46db8f780f364367"
   }
  }
 },
 "nbformat": 4,
 "nbformat_minor": 4
}
