{
 "cells": [
  {
   "cell_type": "markdown",
   "id": "b6aff9eb-22d6-4a44-9322-f7ad43f25112",
   "metadata": {},
   "source": [
    "    Chapter 15  Classes and objects\n",
    "\n",
    "At this point you know how to use functions to organize code and built-in types to organize data. The next step is to learn “object-oriented programming”, which uses programmer-defined types to organize both code and data. Object-oriented programming is a big topic; it will take a few chapters to get there.\n",
    "\n",
    "Code examples from this chapter are available from http://thinkpython2.com/code/Point1.py; solutions to the exercises are available from http://thinkpython2.com/code/Point1_soln.py.\n",
    "\n",
    "    15.1  Programmer-defined types\n",
    "\n",
    "We have used many of Python’s built-in types; now we are going to define a new type. As an example, we will create a type called Point that represents a point in two-dimensional space.\n",
    "\n",
    "In mathematical notation, points are often written in parentheses with a comma separating the coordinates. For example, (0,0) represents the origin, and (x,y) represents the point x units to the right and y units up from the origin.\n",
    "\n",
    "There are several ways we might represent points in Python:\n",
    "\n",
    "We could store the coordinates separately in two variables, x and y.\n",
    "We could store the coordinates as elements in a list or tuple.\n",
    "We could create a new type to represent points as objects.\n",
    "\n",
    "    Creating a new type is more complicated than the other options, but it has advantages that will be apparent soon.\n",
    "\n",
    "A programmer-defined type is also called a class. \n",
    "\n",
    "    A class definition looks like this:"
   ]
  },
  {
   "cell_type": "code",
   "execution_count": 1,
   "id": "b014e234-fa83-4818-a0a6-a88602a2ecb9",
   "metadata": {},
   "outputs": [],
   "source": [
    "class Point:\n",
    "    \"\"\"Represents a point in 2-D space.\"\"\""
   ]
  },
  {
   "cell_type": "markdown",
   "id": "308eac77-1c22-44e2-a767-7882a75ed673",
   "metadata": {},
   "source": [
    "The header indicates that the new class is called Point. The body is a docstring that explains what the class is for. You can define variables and methods inside a class definition, but we will get back to that later.\n",
    "\n",
    "Defining a class named Point creates a \n",
    "\n",
    "    class object."
   ]
  },
  {
   "cell_type": "code",
   "execution_count": 2,
   "id": "9f33ce45-7682-46eb-81f5-06ad79026174",
   "metadata": {},
   "outputs": [
    {
     "data": {
      "text/plain": [
       "__main__.Point"
      ]
     },
     "execution_count": 2,
     "metadata": {},
     "output_type": "execute_result"
    }
   ],
   "source": [
    "Point"
   ]
  },
  {
   "cell_type": "markdown",
   "id": "698f7ee8-a56e-43ed-9db8-f87c6332d7f4",
   "metadata": {},
   "source": [
    "<class '__main__.Point'>\n",
    "Because Point is defined at the top level, its “full name” is __main__.Point.\n",
    "\n",
    "The class object is like a factory for creating objects. To create a Point, you call Point as if it were a function."
   ]
  },
  {
   "cell_type": "code",
   "execution_count": 3,
   "id": "ea206439-779c-4373-8ae7-c49ff0a844b9",
   "metadata": {},
   "outputs": [
    {
     "data": {
      "text/plain": [
       "<__main__.Point at 0x26e65210a90>"
      ]
     },
     "execution_count": 3,
     "metadata": {},
     "output_type": "execute_result"
    }
   ],
   "source": [
    "blank = Point()\n",
    "blank"
   ]
  },
  {
   "cell_type": "markdown",
   "id": "24f67138-d7b8-4443-a2ad-ab43cc486b24",
   "metadata": {},
   "source": [
    "<__main__.Point object at 0xb7e9d3ac>\n",
    "The return value is a reference to a Point object, which we assign to blank.\n",
    "\n",
    "Creating a new object is called instantiation, and the object is an \n",
    "\n",
    "    instance of the class.\n",
    "\n",
    "When you print an instance, Python tells you what class it belongs to and where it is stored in memory (the prefix 0x means that the following number is in hexadecimal).\n",
    "\n",
    "Every object is an instance of some class, so “object” and “instance” are interchangeable. But in this chapter I use “instance” to indicate that I am talking about a programmer-defined type.\n",
    "\n",
    "    15.2  Attributes\n",
    "\n",
    "You can assign values to an instance using dot notation:"
   ]
  },
  {
   "cell_type": "code",
   "execution_count": 6,
   "id": "606d274f-ba88-4989-b3a5-031c22d14d32",
   "metadata": {},
   "outputs": [
    {
     "name": "stdout",
     "output_type": "stream",
     "text": [
      "3.0\n",
      "4.0\n"
     ]
    }
   ],
   "source": [
    "blank.x = 3.0\n",
    "blank.y = 4.0\n",
    "print(blank.x)\n",
    "print(blank.y)"
   ]
  },
  {
   "cell_type": "markdown",
   "id": "dc8d1c79-ea33-4e49-b0dd-40e80f4b5dfe",
   "metadata": {},
   "source": [
    "This syntax is similar to the syntax for selecting a variable from a module, such as math.pi or string.whitespace. In this case, though, we are assigning values to named elements of an object. These elements are called attributes.\n",
    "\n",
    "As a noun, “AT-trib-ute” is pronounced with emphasis on the first syllable, as opposed to “a-TRIB-ute”, which is a verb.\n",
    "\n",
    "Figure 15.1 is a state diagram that shows the result of these assignments. A state diagram that shows an object and its attributes is called an object diagram."
   ]
  },
  {
   "cell_type": "code",
   "execution_count": null,
   "id": "2f5f3072-b349-45e2-aa30-aab0875ade33",
   "metadata": {},
   "outputs": [],
   "source": []
  },
  {
   "attachments": {
    "62df4198-fcc4-4248-acd9-8e5938eaf660.png": {
     "image/png": "[encoded data removed]"
    }
   },
   "cell_type": "markdown",
   "id": "c990b6d0-50c9-4fa8-ab23-5a825b570f4b",
   "metadata": {},
   "source": [
    "![image.png](attachment:62df4198-fcc4-4248-acd9-8e5938eaf660.png)"
   ]
  },
  {
   "cell_type": "markdown",
   "id": "5a5804a0-93d9-448d-bb13-a60f7aa2bfa5",
   "metadata": {},
   "source": [
    "The variable blank refers to a Point object, which contains two attributes. Each attribute refers to a floating-point number.\n",
    "\n",
    "You can read the value of an attribute using the same syntax:"
   ]
  },
  {
   "cell_type": "code",
   "execution_count": 7,
   "id": "99cac3e9-837d-42da-94c2-1e0fda28560f",
   "metadata": {},
   "outputs": [
    {
     "data": {
      "text/plain": [
       "4.0"
      ]
     },
     "execution_count": 7,
     "metadata": {},
     "output_type": "execute_result"
    }
   ],
   "source": [
    "blank.y"
   ]
  },
  {
   "cell_type": "code",
   "execution_count": 8,
   "id": "21889cba-7f7d-494d-91df-ef2792791d43",
   "metadata": {},
   "outputs": [
    {
     "data": {
      "text/plain": [
       "3.0"
      ]
     },
     "execution_count": 8,
     "metadata": {},
     "output_type": "execute_result"
    }
   ],
   "source": [
    "x = blank.x\n",
    "x"
   ]
  },
  {
   "cell_type": "markdown",
   "id": "b246cbd7-de42-4e17-9d20-6fc3084d0881",
   "metadata": {},
   "source": [
    "The expression blank.x means, “Go to the object blank refers to and get the value of x.” In the example, we assign that value to a variable named x. There is no conflict between the variable x and the attribute x.\n",
    "\n",
    "You can use dot notation as part of any expression. For example:"
   ]
  },
  {
   "cell_type": "code",
   "execution_count": 9,
   "id": "a7107ad1-6ca0-41a7-a3fd-dc77709fec1b",
   "metadata": {},
   "outputs": [
    {
     "data": {
      "text/plain": [
       "'(3, 4)'"
      ]
     },
     "execution_count": 9,
     "metadata": {},
     "output_type": "execute_result"
    }
   ],
   "source": [
    "'(%g, %g)' % (blank.x, blank.y)"
   ]
  },
  {
   "cell_type": "markdown",
   "id": "cf09d035-5c03-4529-8555-c0a77dee0a07",
   "metadata": {},
   "source": [
    "'(3.0, 4.0)'"
   ]
  },
  {
   "cell_type": "code",
   "execution_count": 11,
   "id": "c8b88abb-ce2d-4144-b36b-5b1383c906c3",
   "metadata": {},
   "outputs": [
    {
     "data": {
      "text/plain": [
       "5.0"
      ]
     },
     "execution_count": 11,
     "metadata": {},
     "output_type": "execute_result"
    }
   ],
   "source": [
    "import math\n",
    "distance = math.sqrt(blank.x**2 + blank.y**2)\n",
    "distance"
   ]
  },
  {
   "cell_type": "markdown",
   "id": "8f853e51-3986-473d-9019-b422e9481c24",
   "metadata": {},
   "source": [
    "You can pass an instance as an argument in the usual way. For example:"
   ]
  },
  {
   "cell_type": "code",
   "execution_count": 12,
   "id": "17a2c58b-4c8d-4a34-bf86-06114ccd67bd",
   "metadata": {},
   "outputs": [],
   "source": [
    "def print_point(p):\n",
    "    print('(%g, %g)' % (p.x, p.y))"
   ]
  },
  {
   "cell_type": "markdown",
   "id": "05a3b45d-68af-4a9c-a3c3-30f38f99fedb",
   "metadata": {},
   "source": [
    "print_point takes a point as an argument and displays it in mathematical notation. To invoke it, you can pass blank as an argument:"
   ]
  },
  {
   "cell_type": "code",
   "execution_count": 13,
   "id": "24f0c7b9-feba-4311-8d3d-3740e8d20130",
   "metadata": {},
   "outputs": [
    {
     "name": "stdout",
     "output_type": "stream",
     "text": [
      "(3, 4)\n"
     ]
    }
   ],
   "source": [
    "print_point(blank)"
   ]
  },
  {
   "cell_type": "markdown",
   "id": "9daa3177-90f1-4ec2-b0c8-39fc87d3a5ca",
   "metadata": {},
   "source": [
    "(3.0, 4.0)\n",
    "Inside the function, p is an alias for blank, so if the function modifies p, blank changes.\n",
    "\n",
    "As an exercise, write a function called distance_between_points that takes two Points as arguments and returns the distance between them.\n",
    "\n",
    "    15.3  Rectangles\n",
    "\n",
    "Sometimes it is obvious what the attributes of an object should be, but other times you have to make decisions. For example, imagine you are designing a class to represent rectangles. What attributes would you use to specify the location and size of a rectangle? You can ignore angle; to keep things simple, assume that the rectangle is either vertical or horizontal.\n",
    "\n",
    "    There are at least two possibilities:\n",
    "\n",
    "You could specify one corner of the rectangle (or the center), the width, and the height.\n",
    "You could specify two opposing corners.\n",
    "At this point it is hard to say whether either is better than the other, so we’ll implement the first one, just as an example.\n",
    "\n",
    "Here is the class definition:"
   ]
  },
  {
   "cell_type": "code",
   "execution_count": 14,
   "id": "d40f090e-c3ed-43a6-acb1-f212a9b399f3",
   "metadata": {},
   "outputs": [],
   "source": [
    "class Rectangle:\n",
    "    \"\"\"Represents a rectangle. \n",
    "    attributes: width, height, corner.\"\"\""
   ]
  },
  {
   "cell_type": "markdown",
   "id": "204a0e30-2dcc-411f-b5a1-8b344e35c167",
   "metadata": {},
   "source": [
    "The docstring lists the attributes: width and height are numbers; corner is a Point object that specifies the lower-left corner.\n",
    "\n",
    "To represent a rectangle, you have to \n",
    "\n",
    "    instantiate a Rectangle object and assign values to the attributes:"
   ]
  },
  {
   "cell_type": "code",
   "execution_count": 15,
   "id": "62633a8e-3de5-4485-8e7d-d4393cf41215",
   "metadata": {},
   "outputs": [],
   "source": [
    "box = Rectangle()\n",
    "box.width = 100.0\n",
    "box.height = 200.0\n",
    "box.corner = Point()\n",
    "box.corner.x = 0.0\n",
    "box.corner.y = 0.0"
   ]
  },
  {
   "cell_type": "markdown",
   "id": "e49891e4-7c01-4100-b0ee-8b5af1bdc6ff",
   "metadata": {},
   "source": [
    "The expression box.corner.x means, “Go to the object box refers to and select the attribute named corner; then go to that object and select the attribute named x.”"
   ]
  },
  {
   "attachments": {
    "abb95c73-d752-4e5a-81a8-141b8a908109.png": {
     "image/png": "[encoded data removed]"
    }
   },
   "cell_type": "markdown",
   "id": "30129421-afde-4d20-a738-93791a648110",
   "metadata": {},
   "source": [
    "![image.png](attachment:abb95c73-d752-4e5a-81a8-141b8a908109.png)"
   ]
  },
  {
   "cell_type": "markdown",
   "id": "a5b7bb29-c68b-4e56-a59c-b53a8fedfd76",
   "metadata": {},
   "source": [
    "Figure 15.2 shows the state of this object. An object that is an attribute of another object is embedded.\n",
    "\n",
    "15.4  Instances as return values\n",
    "\n",
    "Functions can return instances. For example, find_center takes a Rectangle as an argument and returns a Point that contains the coordinates of the center of the Rectangle:"
   ]
  },
  {
   "cell_type": "code",
   "execution_count": 16,
   "id": "382e2562-ecd3-4bca-9f2c-6112c1c92142",
   "metadata": {},
   "outputs": [],
   "source": [
    "def find_center(rect):\n",
    "    p = Point()\n",
    "    p.x = rect.corner.x + rect.width/2\n",
    "    p.y = rect.corner.y + rect.height/2\n",
    "    return p"
   ]
  },
  {
   "cell_type": "markdown",
   "id": "e28d0ba4-4faf-4da7-8066-612d0f16798f",
   "metadata": {},
   "source": [
    "Here is an example that passes box as an argument and assigns the resulting Point to center:"
   ]
  },
  {
   "cell_type": "code",
   "execution_count": 17,
   "id": "c10e9ada-324d-4e34-b557-4e347ccf3e50",
   "metadata": {},
   "outputs": [
    {
     "name": "stdout",
     "output_type": "stream",
     "text": [
      "(50, 100)\n"
     ]
    }
   ],
   "source": [
    "center = find_center(box)\n",
    "print_point(center)"
   ]
  },
  {
   "cell_type": "markdown",
   "id": "bdf7deeb-9fe5-4a9e-9926-1ec88deb05b4",
   "metadata": {},
   "source": [
    "    15.5  Objects are mutable\n",
    "\n",
    "You can change the state of an object by making an assignment to one of its attributes. For example, to change the size of a rectangle without changing its position, you can modify the values of width and height:"
   ]
  },
  {
   "cell_type": "code",
   "execution_count": 18,
   "id": "b65a9893-724e-4baa-9a87-c081499a4272",
   "metadata": {},
   "outputs": [],
   "source": [
    "box.width = box.width + 50\n",
    "box.height = box.height + 100"
   ]
  },
  {
   "cell_type": "markdown",
   "id": "8bd35573-60c0-48fe-ab92-842ce2da383c",
   "metadata": {},
   "source": [
    "You can also write functions that modify objects. For example, grow_rectangle takes a Rectangle object and two numbers, dwidth and dheight, and adds the numbers to the width and height of the rectangle:"
   ]
  },
  {
   "cell_type": "code",
   "execution_count": 19,
   "id": "11d1e2eb-7ebf-4146-942b-ec421b1bb413",
   "metadata": {},
   "outputs": [],
   "source": [
    "def grow_rectangle(rect, dwidth, dheight):\n",
    "    rect.width += dwidth\n",
    "    rect.height += dheight"
   ]
  },
  {
   "cell_type": "markdown",
   "id": "2265e647-c25b-4057-ad46-b121edbdbcd2",
   "metadata": {},
   "source": [
    "Here is an example that demonstrates the effect:"
   ]
  },
  {
   "cell_type": "code",
   "execution_count": 21,
   "id": "744e5b53-6ace-4094-80c3-51e1bc6cfc00",
   "metadata": {},
   "outputs": [
    {
     "data": {
      "text/plain": [
       "(150.0, 300.0)"
      ]
     },
     "execution_count": 21,
     "metadata": {},
     "output_type": "execute_result"
    }
   ],
   "source": [
    "box.width, box.height"
   ]
  },
  {
   "cell_type": "code",
   "execution_count": null,
   "id": "3dc3ea73-eef4-430c-a95c-ce9b969e516f",
   "metadata": {},
   "outputs": [
    {
     "data": {
      "text/plain": [
       "(200.0, 400.0)"
      ]
     },
     "execution_count": 22,
     "metadata": {},
     "output_type": "execute_result"
    }
   ],
   "source": [
    "grow_rectangle(box, 50, 100)\n",
    "box.width, box.height"
   ]
  },
  {
   "cell_type": "markdown",
   "id": "8d9ee812-d616-4295-8b81-0e8b8bb12685",
   "metadata": {},
   "source": [
    "Inside the function, rect is an alias for box, so when the function modifies rect, box changes.\n",
    "\n",
    "As an exercise, write a function named move_rectangle that takes a Rectangle and two numbers named dx and dy. It should change the location of the rectangle by adding dx to the x coordinate of corner and adding dy to the y coordinate of corner.\n",
    "\n",
    "    15.6  Copying\n",
    "\n",
    "Aliasing can make a program difficult to read because changes in one place might have unexpected effects in another place. It is hard to keep track of all the variables that might refer to a given object.\n",
    "\n",
    "    Copying an object is often an alternative to aliasing. The copy module contains a function called copy that can duplicate any object:"
   ]
  },
  {
   "cell_type": "code",
   "execution_count": 30,
   "id": "a7eeac20-6807-4c5c-9109-22d95e601f21",
   "metadata": {},
   "outputs": [
    {
     "name": "stdout",
     "output_type": "stream",
     "text": [
      "3.0 4.0\n"
     ]
    }
   ],
   "source": [
    "p1 = Point()\n",
    "p1.x = 3.0\n",
    "p1.y = 4.0\n",
    "\n",
    "import copy\n",
    "p2 = copy.copy(p1)\n",
    "print(p2.x,p2.y)"
   ]
  },
  {
   "cell_type": "code",
   "execution_count": 31,
   "id": "0680d178-ecdf-4bd0-9681-94b9273b43b4",
   "metadata": {},
   "outputs": [
    {
     "data": {
      "text/plain": [
       "False"
      ]
     },
     "execution_count": 31,
     "metadata": {},
     "output_type": "execute_result"
    }
   ],
   "source": [
    "p1==p2"
   ]
  },
  {
   "cell_type": "code",
   "execution_count": 43,
   "id": "2b2775a0-056e-4940-8e17-bdc5122f309f",
   "metadata": {
    "tags": []
   },
   "outputs": [
    {
     "name": "stdout",
     "output_type": "stream",
     "text": [
      "no\n"
     ]
    }
   ],
   "source": [
    "if p1 == p2:\n",
    "    print(\"yes\")\n",
    "else:\n",
    "    print(\"no\")"
   ]
  },
  {
   "cell_type": "code",
   "execution_count": 44,
   "id": "77398bd0-eaf1-4b58-a93b-048643f014fb",
   "metadata": {},
   "outputs": [
    {
     "name": "stdout",
     "output_type": "stream",
     "text": [
      "yes\n"
     ]
    }
   ],
   "source": [
    "if p1.x == p2.x:\n",
    "    print(\"yes\")\n",
    "else:\n",
    "    print(\"no\")"
   ]
  },
  {
   "cell_type": "code",
   "execution_count": 45,
   "id": "bd904bc4-3536-498e-9fff-cab41252b960",
   "metadata": {},
   "outputs": [
    {
     "name": "stdout",
     "output_type": "stream",
     "text": [
      "yes\n"
     ]
    }
   ],
   "source": [
    "if p1.y == p2.y:\n",
    "    print(\"yes\")\n",
    "else:\n",
    "    print(\"no\")"
   ]
  },
  {
   "cell_type": "markdown",
   "id": "b01d377d-40e7-4e4b-8bb9-3c58a7246a43",
   "metadata": {},
   "source": [
    "p1 and p2 contain the same data, but they are not the same Point."
   ]
  },
  {
   "cell_type": "code",
   "execution_count": 46,
   "id": "615b9b58-831c-468c-b0cd-6712d0db7306",
   "metadata": {},
   "outputs": [
    {
     "name": "stdout",
     "output_type": "stream",
     "text": [
      "(3, 4)\n"
     ]
    }
   ],
   "source": [
    "print_point(p1)"
   ]
  },
  {
   "cell_type": "code",
   "execution_count": 47,
   "id": "b70d5ac0-927d-468d-9756-ccd722d6e6f9",
   "metadata": {},
   "outputs": [
    {
     "name": "stdout",
     "output_type": "stream",
     "text": [
      "(3, 4)\n"
     ]
    }
   ],
   "source": [
    ">>> print_point(p2)"
   ]
  },
  {
   "cell_type": "code",
   "execution_count": 48,
   "id": "8aca55c8-e0bc-4a20-95e2-6bf9c5939ee1",
   "metadata": {},
   "outputs": [
    {
     "data": {
      "text/plain": [
       "False"
      ]
     },
     "execution_count": 48,
     "metadata": {},
     "output_type": "execute_result"
    }
   ],
   "source": [
    ">>> p1 is p2"
   ]
  },
  {
   "cell_type": "code",
   "execution_count": 49,
   "id": "bf250ce6-81c6-4ff8-989e-6944c4ca5700",
   "metadata": {},
   "outputs": [
    {
     "data": {
      "text/plain": [
       "False"
      ]
     },
     "execution_count": 49,
     "metadata": {},
     "output_type": "execute_result"
    }
   ],
   "source": [
    ">>> p1 == p2"
   ]
  },
  {
   "cell_type": "markdown",
   "id": "cbb587f5-2ea2-46df-8028-9e1c07468095",
   "metadata": {},
   "source": [
    "The is operator indicates that p1 and p2 are not the same object, which is what we expected. But you might have expected == to yield True because these points contain the same data. In that case, you will be disappointed to learn that for instances, the default behavior of the == operator is the same as the is operator; it checks object identity, not object equivalence. That’s because for programmer-defined types, Python doesn’t know what should be considered equivalent. At least, not yet.\n",
    "\n",
    "If you use copy.copy to duplicate a Rectangle, you will find that it copies the Rectangle object but not the embedded Point."
   ]
  },
  {
   "cell_type": "code",
   "execution_count": 50,
   "id": "d0c7dd11-6a54-4334-99ac-dbf801b2f9c7",
   "metadata": {},
   "outputs": [
    {
     "data": {
      "text/plain": [
       "False"
      ]
     },
     "execution_count": 50,
     "metadata": {},
     "output_type": "execute_result"
    }
   ],
   "source": [
    "box2 = copy.copy(box)\n",
    "box2 is box"
   ]
  },
  {
   "cell_type": "code",
   "execution_count": 51,
   "id": "08fc9593-c840-40d0-ba1c-4f2bd49c4de9",
   "metadata": {},
   "outputs": [
    {
     "data": {
      "text/plain": [
       "True"
      ]
     },
     "execution_count": 51,
     "metadata": {},
     "output_type": "execute_result"
    }
   ],
   "source": [
    "box2.corner is box.corner"
   ]
  },
  {
   "attachments": {
    "792fa63f-5890-428f-9668-4099d920e5dc.png": {
     "image/png": "[encoded data removed]"
    }
   },
   "cell_type": "markdown",
   "id": "f392b1a2-23c3-4071-92a5-a531b675eed7",
   "metadata": {},
   "source": [
    "\n",
    "![image.png](attachment:792fa63f-5890-428f-9668-4099d920e5dc.png)\n",
    "\n",
    "Figure 15.3: Object diagram.\n"
   ]
  },
  {
   "cell_type": "markdown",
   "id": "f2b517f6-0bbe-4e15-84f4-4fd4def76774",
   "metadata": {},
   "source": [
    "Figure 15.3 shows what the object diagram looks like. \n",
    "\n",
    "    This operation is called a shallow copy because it copies the object and any references it contains, but not the embedded objects.\n",
    "\n",
    "    For most applications, this is not what you want. In this example, invoking grow_rectangle on one of the Rectangles would not affect the other, but invoking move_rectangle on either would affect both! This behavior is confusing and error-prone.\n",
    "\n",
    "    Fortunately, the copy module provides a method named deepcopy that copies not only the object but also the objects it refers to, and the objects they refer to, and so on. You will not be surprised to learn that this operation is called a \n",
    "    \n",
    "                        deep copy."
   ]
  },
  {
   "cell_type": "code",
   "execution_count": 70,
   "id": "3c154c43-a814-4796-a4f1-11992c2805cc",
   "metadata": {},
   "outputs": [
    {
     "data": {
      "text/plain": [
       "False"
      ]
     },
     "execution_count": 70,
     "metadata": {},
     "output_type": "execute_result"
    }
   ],
   "source": [
    "box3 = copy.deepcopy(box)\n",
    "box3 is box"
   ]
  },
  {
   "cell_type": "code",
   "execution_count": 71,
   "id": "93bb4008-2f20-4032-87bb-00130f761b77",
   "metadata": {},
   "outputs": [
    {
     "data": {
      "text/plain": [
       "True"
      ]
     },
     "execution_count": 71,
     "metadata": {},
     "output_type": "execute_result"
    }
   ],
   "source": [
    "box3.width==box.width"
   ]
  },
  {
   "cell_type": "code",
   "execution_count": 75,
   "id": "cb23eec2-8811-46ed-9393-9e3785129cae",
   "metadata": {},
   "outputs": [
    {
     "data": {
      "text/plain": [
       "True"
      ]
     },
     "execution_count": 75,
     "metadata": {},
     "output_type": "execute_result"
    }
   ],
   "source": [
    "box3.corner.x is box.corner.x"
   ]
  },
  {
   "cell_type": "code",
   "execution_count": 76,
   "id": "3eb2adc8-7407-439f-a023-f7f94aa06303",
   "metadata": {},
   "outputs": [
    {
     "data": {
      "text/plain": [
       "False"
      ]
     },
     "execution_count": 76,
     "metadata": {},
     "output_type": "execute_result"
    }
   ],
   "source": [
    "box3.corner is box.corner"
   ]
  },
  {
   "cell_type": "code",
   "execution_count": 74,
   "id": "646339d3-eaf9-43e9-8149-4b3dba33aa39",
   "metadata": {
    "tags": []
   },
   "outputs": [
    {
     "data": {
      "text/plain": [
       "True"
      ]
     },
     "execution_count": 74,
     "metadata": {},
     "output_type": "execute_result"
    }
   ],
   "source": [
    "box3.height == box.height"
   ]
  },
  {
   "cell_type": "markdown",
   "id": "75eb16eb-9404-4cf3-aeaa-f6172ad4d4a6",
   "metadata": {},
   "source": [
    "box3 and box are completely separate objects.\n",
    "\n",
    "As an exercise, write a version of move_rectangle that creates and returns a new Rectangle instead of modifying the old one.\n",
    "\n",
    "    15.7  Debugging\n",
    "\n",
    "When you start working with objects, you are likely to encounter some new exceptions. If you try to access an attribute that doesn’t exist, you get an AttributeError:"
   ]
  },
  {
   "cell_type": "code",
   "execution_count": 55,
   "id": "b3c0f32e-71b1-4625-8a04-db4ba1076f85",
   "metadata": {},
   "outputs": [
    {
     "ename": "AttributeError",
     "evalue": "'Point' object has no attribute 'z'",
     "output_type": "error",
     "traceback": [
      "\u001b[1;31m---------------------------------------------------------------------------\u001b[0m",
      "\u001b[1;31mAttributeError\u001b[0m                            Traceback (most recent call last)",
      "\u001b[1;32m~\\AppData\\Local\\Temp\\ipykernel_201404\\229373536.py\u001b[0m in \u001b[0;36m<module>\u001b[1;34m\u001b[0m\n\u001b[0;32m      2\u001b[0m \u001b[0mp\u001b[0m\u001b[1;33m.\u001b[0m\u001b[0mx\u001b[0m \u001b[1;33m=\u001b[0m \u001b[1;36m3\u001b[0m\u001b[1;33m\u001b[0m\u001b[1;33m\u001b[0m\u001b[0m\n\u001b[0;32m      3\u001b[0m \u001b[0mp\u001b[0m\u001b[1;33m.\u001b[0m\u001b[0my\u001b[0m \u001b[1;33m=\u001b[0m \u001b[1;36m4\u001b[0m\u001b[1;33m\u001b[0m\u001b[1;33m\u001b[0m\u001b[0m\n\u001b[1;32m----> 4\u001b[1;33m \u001b[0mp\u001b[0m\u001b[1;33m.\u001b[0m\u001b[0mz\u001b[0m\u001b[1;33m\u001b[0m\u001b[1;33m\u001b[0m\u001b[0m\n\u001b[0m",
      "\u001b[1;31mAttributeError\u001b[0m: 'Point' object has no attribute 'z'"
     ]
    }
   ],
   "source": [
    "p = Point()\n",
    "p.x = 3\n",
    "p.y = 4\n",
    "p.z"
   ]
  },
  {
   "cell_type": "markdown",
   "id": "ee490d42-1cd6-44de-97e9-a5c97ed5637d",
   "metadata": {},
   "source": [
    "AttributeError: Point instance has no attribute 'z'\n",
    "If you are not sure what type an object is, you can ask:"
   ]
  },
  {
   "cell_type": "code",
   "execution_count": 57,
   "id": "0b448478-ab08-482b-9cc5-207e2d58c101",
   "metadata": {},
   "outputs": [
    {
     "data": {
      "text/plain": [
       "__main__.Point"
      ]
     },
     "execution_count": 57,
     "metadata": {},
     "output_type": "execute_result"
    }
   ],
   "source": [
    "type(p)"
   ]
  },
  {
   "cell_type": "markdown",
   "id": "2cc3c99b-de55-4844-9619-7ae96a8f5be2",
   "metadata": {},
   "source": [
    "You can also use isinstance to check whether an object is an instance of a class:"
   ]
  },
  {
   "cell_type": "code",
   "execution_count": 58,
   "id": "40897a42-5895-4b9d-92bb-8d390d751111",
   "metadata": {},
   "outputs": [
    {
     "data": {
      "text/plain": [
       "True"
      ]
     },
     "execution_count": 58,
     "metadata": {},
     "output_type": "execute_result"
    }
   ],
   "source": [
    "isinstance(p, Point)"
   ]
  },
  {
   "cell_type": "markdown",
   "id": "6569c395-194e-4c7b-96f9-655305f5c93d",
   "metadata": {},
   "source": [
    "If you are not sure whether an object has a particular attribute, you can use the built-in function hasattr:"
   ]
  },
  {
   "cell_type": "code",
   "execution_count": 59,
   "id": "c08ec5e8-a5c7-477c-b31f-8a8a20de0ad2",
   "metadata": {},
   "outputs": [
    {
     "data": {
      "text/plain": [
       "True"
      ]
     },
     "execution_count": 59,
     "metadata": {},
     "output_type": "execute_result"
    }
   ],
   "source": [
    "hasattr(p, 'x')"
   ]
  },
  {
   "cell_type": "code",
   "execution_count": 60,
   "id": "cff6fa7b-5233-4927-8451-72bfe78b673b",
   "metadata": {},
   "outputs": [
    {
     "data": {
      "text/plain": [
       "False"
      ]
     },
     "execution_count": 60,
     "metadata": {},
     "output_type": "execute_result"
    }
   ],
   "source": [
    "hasattr(p, 'z')"
   ]
  },
  {
   "cell_type": "markdown",
   "id": "6c0babab-3be5-4f7f-adee-8b2ccb9ebcbd",
   "metadata": {},
   "source": [
    "The first argument can be any object; the second argument is a string that contains the name of the attribute.\n",
    "\n",
    "You can also use a try statement to see if the object has the attributes you need:"
   ]
  },
  {
   "cell_type": "code",
   "execution_count": 64,
   "id": "8ab3b41f-780d-4f56-aeb2-c09b963fd3f7",
   "metadata": {},
   "outputs": [],
   "source": [
    "try:\n",
    "    x = p.x\n",
    "except AttributeError:\n",
    "    x = 0"
   ]
  },
  {
   "cell_type": "markdown",
   "id": "592d1e05-466e-4a35-9b64-11d685b95cc9",
   "metadata": {},
   "source": [
    "This approach can make it easier to write functions that work with different types; more on that topic is coming up in Section 17.9.\n",
    "\n",
    "    15.8  Glossary\n",
    "\n",
    "    class:\n",
    "\n",
    "A programmer-defined type. A class definition creates a new class object.\n",
    "\n",
    "    class object:\n",
    "\n",
    "An object that contains information about a programmer-defined type. The class object can be used to create instances of the type.\n",
    "\n",
    "    instance:\n",
    "\n",
    "An object that belongs to a class.\n",
    "\n",
    "    instantiate:\n",
    "\n",
    "To create a new object.\n",
    "\n",
    "    attribute:\n",
    "\n",
    "One of the named values associated with an object.\n",
    "\n",
    "    embedded object:\n",
    "\n",
    "An object that is stored as an attribute of another object.\n",
    "\n",
    "    shallow copy:\n",
    "\n",
    "To copy the contents of an object, including any references to embedded objects; implemented by the copy function in the copy module.\n",
    "\n",
    "    deep copy:\n",
    "\n",
    "To copy the contents of an object as well as any embedded objects, and any objects embedded in them, and so on; implemented by the deepcopy function in the copy module.\n",
    "\n",
    "    object diagram:\n",
    "\n",
    "A diagram that shows objects, their attributes, and the values of the attributes.\n",
    "\n",
    "15.9  Exercises\n",
    "Exercise 1  \n",
    "Write a definition for a class named Circle with attributes center and radius, where center is a Point object and radius is a number.\n",
    "\n",
    "Instantiate a Circle object that represents a circle with its center at (150, 100) and radius 75.\n",
    "\n",
    "Write a function named point_in_circle that takes a Circle and a Point and returns True if the Point lies in or on the boundary of the circle.\n",
    "\n",
    "Write a function named rect_in_circle that takes a Circle and a Rectangle and returns True if the Rectangle lies entirely in or on the boundary of the circle.\n",
    "\n",
    "Write a function named rect_circle_overlap that takes a Circle and a Rectangle and returns True if any of the corners of the Rectangle fall inside the Circle. Or as a more challenging version, return True if any part of the Rectangle falls inside the Circle.\n",
    "\n",
    "Solution: http://thinkpython2.com/code/Circle.py.\n",
    "\n",
    "Exercise 2  \n",
    "Write a function called draw_rect that takes a Turtle object and a Rectangle and uses the Turtle to draw the Rectangle. See Chapter 4 for examples using Turtle objects.\n",
    "\n",
    "Write a function called draw_circle that takes a Turtle and a Circle and draws the Circle.\n",
    "\n",
    "Solution: http://thinkpython2.com/code/draw.py.\n",
    "\n",
    "Buy this book at Amazon.com"
   ]
  },
  {
   "cell_type": "code",
   "execution_count": null,
   "id": "d5987e72-a8fb-4430-a47b-bd0ac421d52a",
   "metadata": {},
   "outputs": [],
   "source": []
  },
  {
   "cell_type": "code",
   "execution_count": null,
   "id": "2f26d410-140c-4197-85f7-0902b7d2e8f9",
   "metadata": {},
   "outputs": [],
   "source": []
  }
 ],
 "metadata": {
  "kernelspec": {
   "display_name": "Python 3 (ipykernel)",
   "language": "python",
   "name": "python3"
  },
  "language_info": {
   "codemirror_mode": {
    "name": "ipython",
    "version": 3
   },
   "file_extension": ".py",
   "mimetype": "text/x-python",
   "name": "python",
   "nbconvert_exporter": "python",
   "pygments_lexer": "ipython3",
   "version": "3.9.13"
  }
 },
 "nbformat": 4,
 "nbformat_minor": 5
}
