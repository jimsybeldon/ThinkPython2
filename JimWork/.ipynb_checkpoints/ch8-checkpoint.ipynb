{
 "cells": [
  {
   "attachments": {},
   "cell_type": "markdown",
   "metadata": {},
   "source": [
    "https://greenteapress.com/thinkpython2/html/thinkpython2009.html"
   ]
  },
  {
   "attachments": {},
   "cell_type": "markdown",
   "metadata": {},
   "source": [
    "I guess indices are [],  not () not {}"
   ]
  },
  {
   "cell_type": "code",
   "execution_count": 1,
   "metadata": {},
   "outputs": [
    {
     "name": "stdout",
     "output_type": "stream",
     "text": [
      "a\n"
     ]
    }
   ],
   "source": [
    "fruit = 'banana'\n",
    "letter = fruit[1]\n",
    "print (letter)"
   ]
  },
  {
   "cell_type": "code",
   "execution_count": 2,
   "metadata": {},
   "outputs": [
    {
     "name": "stdout",
     "output_type": "stream",
     "text": [
      "b\n",
      "a\n"
     ]
    }
   ],
   "source": [
    "i=0\n",
    "print(fruit[i])\n",
    "print(fruit[i+1])"
   ]
  },
  {
   "cell_type": "code",
   "execution_count": 3,
   "metadata": {},
   "outputs": [
    {
     "ename": "TypeError",
     "evalue": "string indices must be integers",
     "output_type": "error",
     "traceback": [
      "\u001b[1;31m---------------------------------------------------------------------------\u001b[0m",
      "\u001b[1;31mTypeError\u001b[0m                                 Traceback (most recent call last)",
      "Cell \u001b[1;32mIn[3], line 1\u001b[0m\n\u001b[1;32m----> 1\u001b[0m \u001b[39mprint\u001b[39m(fruit[i\u001b[39m+\u001b[39;49m\u001b[39m.5\u001b[39;49m])\n",
      "\u001b[1;31mTypeError\u001b[0m: string indices must be integers"
     ]
    }
   ],
   "source": [
    "print(fruit[i+.5])"
   ]
  },
  {
   "cell_type": "code",
   "execution_count": null,
   "metadata": {},
   "outputs": [],
   "source": [
    "fruit = 'banana'\n",
    "len(fruit)"
   ]
  },
  {
   "attachments": {},
   "cell_type": "markdown",
   "metadata": {},
   "source": [
    "Here is something you will learn to understand,  the first position is index 0 so the code below is off by one and blows up"
   ]
  },
  {
   "cell_type": "code",
   "execution_count": null,
   "metadata": {},
   "outputs": [],
   "source": [
    "last = len(fruit)\n",
    "print (fruit[last])"
   ]
  },
  {
   "attachments": {},
   "cell_type": "markdown",
   "metadata": {},
   "source": [
    "so reduce the assignment to last by 1 to actually match the indices."
   ]
  },
  {
   "cell_type": "code",
   "execution_count": null,
   "metadata": {},
   "outputs": [],
   "source": [
    "last = len(fruit)-1\n",
    "print (fruit[last])"
   ]
  },
  {
   "cell_type": "code",
   "execution_count": null,
   "metadata": {},
   "outputs": [],
   "source": [
    "index = 0\n",
    "while index < len(fruit):\n",
    "    letter = fruit[index]\n",
    "    print(letter)\n",
    "    index = index + 1"
   ]
  },
  {
   "attachments": {},
   "cell_type": "markdown",
   "metadata": {},
   "source": [
    "This wacky looking way does the same thing,  seems very implicit."
   ]
  },
  {
   "cell_type": "code",
   "execution_count": null,
   "metadata": {},
   "outputs": [],
   "source": [
    "for letter in fruit:\n",
    "    print(letter)"
   ]
  },
  {
   "attachments": {},
   "cell_type": "markdown",
   "metadata": {},
   "source": [
    "Here is an interesting variation"
   ]
  },
  {
   "cell_type": "code",
   "execution_count": null,
   "metadata": {},
   "outputs": [],
   "source": [
    "prefixes = 'JKLMNOPQ'\n",
    "suffix = 'ack'\n",
    "\n",
    "for letter in prefixes:\n",
    "    print(letter + suffix)"
   ]
  },
  {
   "attachments": {},
   "cell_type": "markdown",
   "metadata": {},
   "source": [
    "some slicing-  remember these are just arrays with indices"
   ]
  },
  {
   "cell_type": "code",
   "execution_count": null,
   "metadata": {},
   "outputs": [],
   "source": [
    "s = 'Monty Python'\n",
    "print(s[0:5])\n",
    "print(s[6:12])\n"
   ]
  },
  {
   "attachments": {},
   "cell_type": "markdown",
   "metadata": {},
   "source": [
    "Same thing here but a bit slicker index method"
   ]
  },
  {
   "cell_type": "code",
   "execution_count": null,
   "metadata": {},
   "outputs": [],
   "source": [
    "s = 'Monty Python'\n",
    "print(s[:5])\n",
    "print(s[5:])\n",
    "print(s[:])\n",
    "print(s)"
   ]
  },
  {
   "cell_type": "code",
   "execution_count": null,
   "metadata": {},
   "outputs": [],
   "source": [
    "greeting = 'Hello, world!'\n",
    "new_greeting = 'J' + greeting[1:]\n",
    "new_greeting"
   ]
  },
  {
   "attachments": {},
   "cell_type": "markdown",
   "metadata": {},
   "source": [
    "Seems tempting to think this works but NOPE.   \n",
    "\n",
    "The “object” in this case is the string and the “item” is the character you tried to assign. For now, an object is the same thing as a value, but we will refine that definition later (Section 10.10).\n",
    "\n",
    "The reason for the error is that strings are immutable, which means you can’t change an existing string. The best you can do is create a new string that is a variation on the original:"
   ]
  },
  {
   "cell_type": "code",
   "execution_count": null,
   "metadata": {},
   "outputs": [],
   "source": [
    "greeting = 'Hello, world!'\n",
    "greeting[0] = 'J'"
   ]
  },
  {
   "attachments": {},
   "cell_type": "markdown",
   "metadata": {},
   "source": [
    "Letter searching works as shown.  Does not work for multiple letter occurances"
   ]
  },
  {
   "cell_type": "code",
   "execution_count": null,
   "metadata": {},
   "outputs": [],
   "source": [
    "def find(word, letter):\n",
    "    index = 0\n",
    "    while index < len(word):\n",
    "        if word[index] == letter:\n",
    "            return index\n",
    "        index = index + 1\n",
    "    return -1\n",
    "outerword=\"adismal\"\n",
    "outerletter=\"a\"\n",
    "find(outerword,outerletter)"
   ]
  },
  {
   "attachments": {},
   "cell_type": "markdown",
   "metadata": {},
   "source": [
    "if we wanted to count occurences this is a way:   You could program a blend of the above and below to give positions and total occurences."
   ]
  },
  {
   "cell_type": "code",
   "execution_count": null,
   "metadata": {},
   "outputs": [],
   "source": [
    "word = 'banana'\n",
    "count = 0\n",
    "for letter in word:\n",
    "    if letter == 'a':\n",
    "        count = count + 1\n",
    "print(count)"
   ]
  },
  {
   "cell_type": "code",
   "execution_count": null,
   "metadata": {},
   "outputs": [],
   "source": [
    "word = 'banana'\n",
    "new_word = word.upper()\n",
    "print(new_word)"
   ]
  },
  {
   "attachments": {},
   "cell_type": "markdown",
   "metadata": {},
   "source": [
    "here are some things that strike me a extremely brittle-  you have to know about the work you are searching.  That makes the search a bit silly.  But it does illustrate the concepts.   I keep it in the markdown because I am lazy:\n",
    "\n",
    "                As it turns out, there is a string method named find that is \n",
    "                remarkably similar to the function we wrote:\n",
    "\n",
    ">>> word = 'banana'\n",
    "\n",
    ">>> index = word.find('a')\n",
    "\n",
    ">>> index\n",
    "\n",
    "        1\n",
    "\n",
    "In this example, we invoke find on word and pass the letter we are looking for as a parameter.\n",
    "\n",
    "Actually, the find method is more general than our function; it can find substrings, not just characters:\n",
    "\n",
    ">>> word.find('na')\n",
    "\n",
    "        2\n",
    "\n",
    "By default, find starts at the beginning of the string, but it can take a second argument, the index where it should start:\n",
    "\n",
    ">>> word.find('na', 3)\n",
    "\n",
    "        4\n",
    "\n",
    "This is an example of an optional argument; find can also take a third argument, the index where it should stop:\n",
    "\n",
    ">>> name = 'bob'\n",
    "\n",
    ">>> name.find('b', 1, 2)\n",
    "\n",
    "        -1\n",
    "        \n",
    "This search fails because b does not appear in the index range from 1 to 2, not including 2. Searching up to, but not including, the second index makes find consistent with the slice operator."
   ]
  },
  {
   "attachments": {},
   "cell_type": "markdown",
   "metadata": {},
   "source": [
    ">>> Here is the \"in\" function"
   ]
  },
  {
   "cell_type": "code",
   "execution_count": null,
   "metadata": {},
   "outputs": [],
   "source": [
    "'a' in 'banana'"
   ]
  },
  {
   "cell_type": "code",
   "execution_count": null,
   "metadata": {},
   "outputs": [],
   "source": [
    "'seed' in 'banana'"
   ]
  },
  {
   "attachments": {},
   "cell_type": "markdown",
   "metadata": {},
   "source": [
    "        A here is a function built on the \"in\" function for letter searching in both of two words.  It is not super useful because I consider the examples choosen double list t.  [in_both(\"carrotstik\",\"tikapples\")]"
   ]
  },
  {
   "cell_type": "code",
   "execution_count": null,
   "metadata": {},
   "outputs": [],
   "source": [
    "def in_both(word1, word2):\n",
    "    for letter in word1:\n",
    "        if letter in word2:\n",
    "            print(letter)\n",
    "            \n",
    "in_both(\"carrotstik\",\"tikapples\")\n",
    "print( )\n",
    "in_both(\"ttikcarrots\",\"tikapples\")\n",
    "print( )\n",
    "in_both(\"ttikcarrots\",\"ttikcarrots\")"
   ]
  },
  {
   "attachments": {},
   "cell_type": "markdown",
   "metadata": {},
   "source": [
    "        alphabetizing has a gotcha.  Case matters-  specifically:\n",
    "\n",
    "8.10  String comparison\n",
    "\n",
    "The relational operators work on strings. To see if two strings are equal:\n",
    "\n",
    "if word == 'banana':\n",
    "\n",
    "    print('All right, bananas.')\n",
    "\n",
    "Other relational operations are useful for putting words in alphabetical order:\n",
    "\n",
    "if word < 'banana':\n",
    "\n",
    "    print('Your word, ' + word + ', comes before banana.')\n",
    "\n",
    "elif word > 'banana':\n",
    "\n",
    "    print('Your word, ' + word + ', comes after banana.')\n",
    "\n",
    "else:\n",
    "\n",
    "    print('All right, bananas.')\n",
    "    \n",
    "Python does not handle uppercase and lowercase letters the same way people do. All the uppercase letters come before all the lowercase letters, so:\n",
    "\n",
    "Your word, Pineapple, comes before banana.\n",
    "A common way to address this problem is to convert strings to a standard format, such as all lowercase, before performing the comparison."
   ]
  },
  {
   "cell_type": "code",
   "execution_count": null,
   "metadata": {},
   "outputs": [],
   "source": [
    "word=input(\"enter a word, banana is the match\")\n",
    "Keyword=\"Banana\"\n",
    "lowerKeyword=Keyword.lower()\n",
    "sortingword=word.lower()\n",
    "if sortingword < lowerKeyword:\n",
    "    print('Your word, ' + word + ', comes before',Keyword)\n",
    "elif sortingword > lowerKeyword:\n",
    "    print('Your word, ' + word + ', comes after',Keyword)\n",
    "else:\n",
    "    print('All right, ',Keyword)"
   ]
  },
  {
   "attachments": {},
   "cell_type": "markdown",
   "metadata": {},
   "source": [
    "THe stuff above fixed the case issue related to sorting"
   ]
  },
  {
   "attachments": {},
   "cell_type": "markdown",
   "metadata": {},
   "source": [
    "8.11  Debugging-  have to add this as of 1 20 23 1:15p\n",
    "\n",
    "When you use indices to traverse the values in a sequence, it is tricky to get the beginning and end of the traversal right. Here is a function that is supposed to compare two words and return True if one of the words is the reverse of the other, but it contains two errors:"
   ]
  },
  {
   "cell_type": "code",
   "execution_count": 7,
   "metadata": {},
   "outputs": [
    {
     "name": "stdout",
     "output_type": "stream",
     "text": [
      "input word one of the two:  Jim\n",
      " Input word two of two, can be the reverse of word one:  miJ\n"
     ]
    },
    {
     "ename": "TypeError",
     "evalue": "object of type 'NoneType' has no len()",
     "output_type": "error",
     "traceback": [
      "\u001b[1;31m---------------------------------------------------------------------------\u001b[0m",
      "\u001b[1;31mTypeError\u001b[0m                                 Traceback (most recent call last)",
      "Cell \u001b[1;32mIn[7], line 18\u001b[0m\n\u001b[0;32m     16\u001b[0m WdOne\u001b[39m=\u001b[39m\u001b[39mprint\u001b[39m(\u001b[39m\"\u001b[39m\u001b[39minput word one of the two: \u001b[39m\u001b[39m\"\u001b[39m,\u001b[39minput\u001b[39m())\n\u001b[0;32m     17\u001b[0m WdTwo\u001b[39m=\u001b[39m\u001b[39mprint\u001b[39m(\u001b[39m'\u001b[39m\u001b[39m Input word two of two, can be the reverse of word one: \u001b[39m\u001b[39m'\u001b[39m,\u001b[39minput\u001b[39m())\n\u001b[1;32m---> 18\u001b[0m is_reverse(WdOne,WdTwo)\n",
      "Cell \u001b[1;32mIn[7], line 2\u001b[0m, in \u001b[0;36mis_reverse\u001b[1;34m(word1, word2)\u001b[0m\n\u001b[0;32m      1\u001b[0m \u001b[39mdef\u001b[39;00m \u001b[39mis_reverse\u001b[39m(word1, word2):\n\u001b[1;32m----> 2\u001b[0m     \u001b[39mif\u001b[39;00m \u001b[39mlen\u001b[39;49m(word1) \u001b[39m!=\u001b[39m \u001b[39mlen\u001b[39m(word2):\n\u001b[0;32m      3\u001b[0m         \u001b[39mreturn\u001b[39;00m \u001b[39mFalse\u001b[39;00m\n\u001b[0;32m      5\u001b[0m     i \u001b[39m=\u001b[39m \u001b[39m0\u001b[39m\n",
      "\u001b[1;31mTypeError\u001b[0m: object of type 'NoneType' has no len()"
     ]
    }
   ],
   "source": [
    "def is_reverse(word1, word2):\n",
    "    if len(word1) != len(word2):\n",
    "        return False\n",
    "    \n",
    "    i = 0\n",
    "    j = len(word2)\n",
    "\n",
    "    while j > 0:\n",
    "        if word1[i] != word2[j]:\n",
    "            return False\n",
    "        i = i+1\n",
    "        j = j-1\n",
    "\n",
    "    return True\n",
    "\n",
    "WdOne=print(\"input word one of the two: \",input())\n",
    "WdTwo=print(' Input word two of two, can be the reverse of word one: ',input())\n",
    "is_reverse(WdOne,WdTwo)"
   ]
  },
  {
   "attachments": {},
   "cell_type": "markdown",
   "metadata": {},
   "source": [
    "Fix 1 - indices run from 0 to 2 for a three letter word, not 1 to 3"
   ]
  },
  {
   "cell_type": "code",
   "execution_count": 10,
   "metadata": {},
   "outputs": [
    {
     "name": "stdout",
     "output_type": "stream",
     "text": [
      "0 2\n"
     ]
    },
    {
     "data": {
      "text/plain": [
       "False"
      ]
     },
     "execution_count": 10,
     "metadata": {},
     "output_type": "execute_result"
    }
   ],
   "source": [
    "def is_reverse(word1, word2):\n",
    "    if len(word1) != len(word2):\n",
    "        return False\n",
    "    \n",
    "    i = 0\n",
    "    j = len(word2)-1  # fixed that common index number error\n",
    "\n",
    "    while j > 0:\n",
    "        print(i,j)  #print the indices\n",
    "        if word1[i] != word2[j]:\n",
    "            return False\n",
    "        i = i+1\n",
    "        j = j-1\n",
    "\n",
    "    return True\n",
    "\n",
    "# WdOne=print(\"input word one of the two: \",input())\n",
    "# WdTwo=print(' Input word two of two, can be the reverse of word one: ',input())\n",
    "WdOne=\"jim\" #remember caps and lowercase are not the same.   do a case conversion.\n",
    "WdTwo=\"miJ\"\n",
    "is_reverse(WdOne,WdTwo)"
   ]
  },
  {
   "attachments": {},
   "cell_type": "markdown",
   "metadata": {},
   "source": [
    "Now assuming you did not want to see caps and lowers as different this code below is pretty bullet proof."
   ]
  },
  {
   "cell_type": "code",
   "execution_count": 12,
   "metadata": {},
   "outputs": [
    {
     "name": "stdout",
     "output_type": "stream",
     "text": [
      "0 2\n",
      "1 1\n"
     ]
    },
    {
     "data": {
      "text/plain": [
       "True"
      ]
     },
     "execution_count": 12,
     "metadata": {},
     "output_type": "execute_result"
    }
   ],
   "source": [
    "def is_reverse(word1, word2):\n",
    "    if len(word1) != len(word2):\n",
    "        return False\n",
    "    \n",
    "    i = 0\n",
    "    j = len(word2)-1\n",
    "\n",
    "    while j > 0:\n",
    "        print(i,j)  #print the indices\n",
    "        if word1[i] != word2[j]:\n",
    "            return False\n",
    "        i = i+1\n",
    "        j = j-1\n",
    "\n",
    "    return True\n",
    "\n",
    "# WdOne=print(\"input word one of the two: \",input())\n",
    "# WdTwo=print(' Input word two of two, can be the reverse of word one: ',input())\n",
    "WdOne=\"Jim\"\n",
    "WdTwo=\"miJ\"\n",
    "WdOne2=WdOne.upper()\n",
    "WdTwo2=WdTwo.upper()\n",
    "is_reverse(WdOne2,WdTwo2)"
   ]
  }
 ],
 "metadata": {
  "kernelspec": {
   "display_name": "Python 3",
   "language": "python",
   "name": "python3"
  },
  "language_info": {
   "codemirror_mode": {
    "name": "ipython",
    "version": 3
   },
   "file_extension": ".py",
   "mimetype": "text/x-python",
   "name": "python",
   "nbconvert_exporter": "python",
   "pygments_lexer": "ipython3",
   "version": "3.10.9"
  },
  "orig_nbformat": 4,
  "vscode": {
   "interpreter": {
    "hash": "631e1f049cd2d2d8180e86c795294feb9c61d2aee0f8a54a46db8f780f364367"
   }
  }
 },
 "nbformat": 4,
 "nbformat_minor": 2
}
