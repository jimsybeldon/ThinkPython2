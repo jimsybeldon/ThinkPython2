{
 "cells": [
  {
   "cell_type": "code",
   "execution_count": 16,
   "id": "e05ac79f-b814-411c-81f9-0d1bee0a65ca",
   "metadata": {
    "tags": []
   },
   "outputs": [],
   "source": [
    "from __future__ import print_function, division\n",
    "\n",
    "import random"
   ]
  },
  {
   "cell_type": "markdown",
   "id": "e7ba5592-175b-4726-b63a-6067ea982468",
   "metadata": {},
   "source": [
    "class Card:\n",
    "    \"\"\"Represents a standard playing card.\"\"\"\n",
    "\n",
    "    def __init__(self, suit=0, rank=2):\n",
    "        self.suit = suit\n",
    "        self.rank = rank\n",
    "        \n",
    "    suit_names = ['Clubs', 'Diamonds', 'Hearts', 'Spades']\n",
    "    rank_names = [None, 'Ace', '2', '3', '4', '5', '6', '7', \n",
    "              '8', '9', '10', 'Jack', 'Queen', 'King']\n",
    "\n",
    "    def __str__(self):\n",
    "        return '%s of %s' % (Card.rank_names[self.rank],\n",
    "                             Card.suit_names[self.suit])"
   ]
  },
  {
   "cell_type": "markdown",
   "id": "de355b0c-1dce-41a5-9a76-e66399c48412",
   "metadata": {},
   "source": [
    "card1 = Card(2, 11)\n",
    "print(card1)"
   ]
  },
  {
   "cell_type": "markdown",
   "id": "c8637439-e706-40f4-8999-56e017c6eea5",
   "metadata": {},
   "source": [
    "__Code runs above-  I am sort of restarting code to do the next test.  To do that I will convert the code I am not currently testing into markdown so it can't run by accident.   YOu have to convert sections to and from code/markdown so it takes a bit a thinking__"
   ]
  },
  {
   "cell_type": "code",
   "execution_count": 23,
   "id": "7f687eac-1fdb-4d39-be54-0f565f7de0e3",
   "metadata": {
    "tags": []
   },
   "outputs": [
    {
     "name": "stdout",
     "output_type": "stream",
     "text": [
      "1  print where class Card has just been defined\n"
     ]
    }
   ],
   "source": [
    "class Card:\n",
    "    \"\"\"Represents a standard playing card.\"\"\"\n",
    "    print(\"1\",\" print where class Card has just been defined\")\n",
    "    def __init__(self, suit=0, rank=2):\n",
    "        self.suit = suit\n",
    "        self.rank = rank\n",
    "        print(\"2\",\" initial suit and rank have been called\")\n",
    "        \n",
    "    suit_names = ['Clubs', 'Diamonds', 'Hearts', 'Spades']\n",
    "    rank_names = [None, 'Ace', '2', '3', '4', '5', '6', '7', \n",
    "              '8', '9', '10', 'Jack', 'Queen', 'King']\n",
    "\n",
    "    def __str__(self):\n",
    "        print(\"3\", \"the strings have been coverted to be readable\")\n",
    "        return '%s of %s' % (Card.rank_names[self.rank],\n",
    "                             Card.suit_names[self.suit])\n",
    "   \n",
    "    def __lt__(self, other):\n",
    "        print(\"4\")\n",
    "        t1 = self.suit, self.rank\n",
    "        print(t1)\n",
    "        t2 = other.suit, other.rank\n",
    "        print(t2)\n",
    "        return t1 < t2"
   ]
  },
  {
   "cell_type": "code",
   "execution_count": 24,
   "id": "8e7ac7b4-f3d8-477f-9af6-b9fa1763ac48",
   "metadata": {},
   "outputs": [
    {
     "name": "stdout",
     "output_type": "stream",
     "text": [
      "2  initial suit and rank have been called\n"
     ]
    }
   ],
   "source": [
    "card1=Card()"
   ]
  },
  {
   "cell_type": "code",
   "execution_count": 26,
   "id": "06d4b69e-a7fe-4cbc-b197-e2d020dc68c2",
   "metadata": {},
   "outputs": [
    {
     "name": "stdout",
     "output_type": "stream",
     "text": [
      "2  initial suit and rank have been called\n",
      "3 the strings have been coverted to be readable\n",
      "2 of Clubs  this is the card\n"
     ]
    }
   ],
   "source": [
    "card1 = Card(0, 2) \n",
    "print(card1,\" this is the card\")"
   ]
  },
  {
   "cell_type": "code",
   "execution_count": 29,
   "id": "09d9bf88-3165-4cb7-9817-873f2da59101",
   "metadata": {},
   "outputs": [],
   "source": [
    "class Deck:\n",
    "\n",
    "    def __init__(self):\n",
    "        self.cards = []\n",
    "        for suit in range(4):\n",
    "            for rank in range(1, 14):\n",
    "                card = Card(suit, rank)\n",
    "                self.cards.append(card)\n",
    "                \n",
    "    def __str__(self):\n",
    "        res = []\n",
    "        for card in self.cards:\n",
    "            res.append(str(card))\n",
    "        return '\\n'.join(res)"
   ]
  },
  {
   "cell_type": "code",
   "execution_count": 31,
   "id": "839100f7-d254-46b8-9a79-c21aeb9e3bba",
   "metadata": {},
   "outputs": [
    {
     "name": "stdout",
     "output_type": "stream",
     "text": [
      "2  initial suit and rank have been called\n",
      "2  initial suit and rank have been called\n",
      "2  initial suit and rank have been called\n",
      "2  initial suit and rank have been called\n",
      "2  initial suit and rank have been called\n",
      "2  initial suit and rank have been called\n",
      "2  initial suit and rank have been called\n",
      "2  initial suit and rank have been called\n",
      "2  initial suit and rank have been called\n",
      "2  initial suit and rank have been called\n",
      "2  initial suit and rank have been called\n",
      "2  initial suit and rank have been called\n",
      "2  initial suit and rank have been called\n",
      "2  initial suit and rank have been called\n",
      "2  initial suit and rank have been called\n",
      "2  initial suit and rank have been called\n",
      "2  initial suit and rank have been called\n",
      "2  initial suit and rank have been called\n",
      "2  initial suit and rank have been called\n",
      "2  initial suit and rank have been called\n",
      "2  initial suit and rank have been called\n",
      "2  initial suit and rank have been called\n",
      "2  initial suit and rank have been called\n",
      "2  initial suit and rank have been called\n",
      "2  initial suit and rank have been called\n",
      "2  initial suit and rank have been called\n",
      "2  initial suit and rank have been called\n",
      "2  initial suit and rank have been called\n",
      "2  initial suit and rank have been called\n",
      "2  initial suit and rank have been called\n",
      "2  initial suit and rank have been called\n",
      "2  initial suit and rank have been called\n",
      "2  initial suit and rank have been called\n",
      "2  initial suit and rank have been called\n",
      "2  initial suit and rank have been called\n",
      "2  initial suit and rank have been called\n",
      "2  initial suit and rank have been called\n",
      "2  initial suit and rank have been called\n",
      "2  initial suit and rank have been called\n",
      "2  initial suit and rank have been called\n",
      "2  initial suit and rank have been called\n",
      "2  initial suit and rank have been called\n",
      "2  initial suit and rank have been called\n",
      "2  initial suit and rank have been called\n",
      "2  initial suit and rank have been called\n",
      "2  initial suit and rank have been called\n",
      "2  initial suit and rank have been called\n",
      "2  initial suit and rank have been called\n",
      "2  initial suit and rank have been called\n",
      "2  initial suit and rank have been called\n",
      "2  initial suit and rank have been called\n",
      "2  initial suit and rank have been called\n",
      "3 the strings have been coverted to be readable\n",
      "3 the strings have been coverted to be readable\n",
      "3 the strings have been coverted to be readable\n",
      "3 the strings have been coverted to be readable\n",
      "3 the strings have been coverted to be readable\n",
      "3 the strings have been coverted to be readable\n",
      "3 the strings have been coverted to be readable\n",
      "3 the strings have been coverted to be readable\n",
      "3 the strings have been coverted to be readable\n",
      "3 the strings have been coverted to be readable\n",
      "3 the strings have been coverted to be readable\n",
      "3 the strings have been coverted to be readable\n",
      "3 the strings have been coverted to be readable\n",
      "3 the strings have been coverted to be readable\n",
      "3 the strings have been coverted to be readable\n",
      "3 the strings have been coverted to be readable\n",
      "3 the strings have been coverted to be readable\n",
      "3 the strings have been coverted to be readable\n",
      "3 the strings have been coverted to be readable\n",
      "3 the strings have been coverted to be readable\n",
      "3 the strings have been coverted to be readable\n",
      "3 the strings have been coverted to be readable\n",
      "3 the strings have been coverted to be readable\n",
      "3 the strings have been coverted to be readable\n",
      "3 the strings have been coverted to be readable\n",
      "3 the strings have been coverted to be readable\n",
      "3 the strings have been coverted to be readable\n",
      "3 the strings have been coverted to be readable\n",
      "3 the strings have been coverted to be readable\n",
      "3 the strings have been coverted to be readable\n",
      "3 the strings have been coverted to be readable\n",
      "3 the strings have been coverted to be readable\n",
      "3 the strings have been coverted to be readable\n",
      "3 the strings have been coverted to be readable\n",
      "3 the strings have been coverted to be readable\n",
      "3 the strings have been coverted to be readable\n",
      "3 the strings have been coverted to be readable\n",
      "3 the strings have been coverted to be readable\n",
      "3 the strings have been coverted to be readable\n",
      "3 the strings have been coverted to be readable\n",
      "3 the strings have been coverted to be readable\n",
      "3 the strings have been coverted to be readable\n",
      "3 the strings have been coverted to be readable\n",
      "3 the strings have been coverted to be readable\n",
      "3 the strings have been coverted to be readable\n",
      "3 the strings have been coverted to be readable\n",
      "3 the strings have been coverted to be readable\n",
      "3 the strings have been coverted to be readable\n",
      "3 the strings have been coverted to be readable\n",
      "3 the strings have been coverted to be readable\n",
      "3 the strings have been coverted to be readable\n",
      "3 the strings have been coverted to be readable\n",
      "Ace of Clubs\n",
      "2 of Clubs\n",
      "3 of Clubs\n",
      "4 of Clubs\n",
      "5 of Clubs\n",
      "6 of Clubs\n",
      "7 of Clubs\n",
      "8 of Clubs\n",
      "9 of Clubs\n",
      "10 of Clubs\n",
      "Jack of Clubs\n",
      "Queen of Clubs\n",
      "King of Clubs\n",
      "Ace of Diamonds\n",
      "2 of Diamonds\n",
      "3 of Diamonds\n",
      "4 of Diamonds\n",
      "5 of Diamonds\n",
      "6 of Diamonds\n",
      "7 of Diamonds\n",
      "8 of Diamonds\n",
      "9 of Diamonds\n",
      "10 of Diamonds\n",
      "Jack of Diamonds\n",
      "Queen of Diamonds\n",
      "King of Diamonds\n",
      "Ace of Hearts\n",
      "2 of Hearts\n",
      "3 of Hearts\n",
      "4 of Hearts\n",
      "5 of Hearts\n",
      "6 of Hearts\n",
      "7 of Hearts\n",
      "8 of Hearts\n",
      "9 of Hearts\n",
      "10 of Hearts\n",
      "Jack of Hearts\n",
      "Queen of Hearts\n",
      "King of Hearts\n",
      "Ace of Spades\n",
      "2 of Spades\n",
      "3 of Spades\n",
      "4 of Spades\n",
      "5 of Spades\n",
      "6 of Spades\n",
      "7 of Spades\n",
      "8 of Spades\n",
      "9 of Spades\n",
      "10 of Spades\n",
      "Jack of Spades\n",
      "Queen of Spades\n",
      "King of Spades final\n"
     ]
    }
   ],
   "source": [
    "print(Deck(),\"final\")"
   ]
  },
  {
   "cell_type": "code",
   "execution_count": null,
   "id": "a649df4f-4e9e-4da5-8f1d-ef473bc21e1f",
   "metadata": {},
   "outputs": [],
   "source": []
  }
 ],
 "metadata": {
  "kernelspec": {
   "display_name": "Python 3 (ipykernel)",
   "language": "python",
   "name": "python3"
  },
  "language_info": {
   "codemirror_mode": {
    "name": "ipython",
    "version": 3
   },
   "file_extension": ".py",
   "mimetype": "text/x-python",
   "name": "python",
   "nbconvert_exporter": "python",
   "pygments_lexer": "ipython3",
   "version": "3.9.13"
  }
 },
 "nbformat": 4,
 "nbformat_minor": 5
}
