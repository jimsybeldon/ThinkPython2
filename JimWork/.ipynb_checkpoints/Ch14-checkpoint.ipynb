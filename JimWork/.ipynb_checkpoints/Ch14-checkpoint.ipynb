{
 "cells": [
  {
   "cell_type": "markdown",
   "id": "78524765-dd18-4d2d-86b1-c4f0f9a39d12",
   "metadata": {},
   "source": [
    "    Chapter 14  Files\n",
    "\n",
    "This chapter introduces the idea of “persistent” programs that keep data in permanent storage, and shows how to use different kinds of permanent storage, like files and databases.\n",
    "\n",
    "    14.1  Persistence\n",
    "\n",
    "Most of the programs we have seen so far are transient in the sense that they run for a short time and produce some output, but when they end, their data disappears. If you run the program again, it starts with a clean slate.\n",
    "\n",
    "Other programs are persistent: they run for a long time (or all the time); they keep at least some of their data in permanent storage (a hard drive, for example); and if they shut down and restart, they pick up where they left off.\n",
    "\n",
    "Examples of persistent programs are operating systems, which run pretty much whenever a computer is on, and web servers, which run all the time, waiting for requests to come in on the network.\n",
    "\n",
    "One of the simplest ways for programs to maintain their data is by reading and writing text files. We have already seen programs that read text files; in this chapter we will see programs that write them.\n",
    "\n",
    "An alternative is to store the state of the program in a database. In this chapter I will present a simple database and a module, pickle, that makes it easy to store program data."
   ]
  },
  {
   "cell_type": "markdown",
   "id": "9d7d8574-d002-44be-9aa9-680694baca36",
   "metadata": {},
   "source": [
    "14.2  Reading and writing\n",
    "\n",
    "A text file is a sequence of characters stored on a permanent medium like a hard drive, flash memory, or CD-ROM. We saw how to open and read a file in Section 9.1.\n",
    "\n",
    "To write a file, you have to open it with mode 'w' as a second parameter:"
   ]
  },
  {
   "cell_type": "code",
   "execution_count": 7,
   "id": "972febc2-821c-4384-8478-e0efe906b7d3",
   "metadata": {},
   "outputs": [],
   "source": [
    "fout = open('output.txt', 'w')"
   ]
  },
  {
   "cell_type": "markdown",
   "id": "b6c847cf-1998-4b48-a946-39caaad8e1cb",
   "metadata": {},
   "source": [
    "If the file already exists, opening it in write mode clears out the old data and starts fresh, so be careful! If the file doesn’t exist, a new one is created.\n",
    "\n",
    "open returns a file object that provides methods for working with the file. The write method puts data into the file."
   ]
  },
  {
   "cell_type": "code",
   "execution_count": 8,
   "id": "26a408a5-69e0-430f-baab-82bc72cae9d6",
   "metadata": {
    "tags": []
   },
   "outputs": [
    {
     "data": {
      "text/plain": [
       "24"
      ]
     },
     "execution_count": 8,
     "metadata": {},
     "output_type": "execute_result"
    }
   ],
   "source": [
    "line1 = \"This here's the wattle,\\n\"\n",
    "fout.write(line1)"
   ]
  },
  {
   "cell_type": "markdown",
   "id": "25441e86-1d86-4ecd-9af2-cbc1cd83012a",
   "metadata": {},
   "source": [
    "24\n",
    "The return value is the number of characters that were written. The file object keeps track of where it is, so if you call write again, it adds the new data to the end of the file."
   ]
  },
  {
   "cell_type": "code",
   "execution_count": 9,
   "id": "164dce86-553a-4046-a284-f898e2476213",
   "metadata": {},
   "outputs": [
    {
     "data": {
      "text/plain": [
       "12"
      ]
     },
     "execution_count": 9,
     "metadata": {},
     "output_type": "execute_result"
    }
   ],
   "source": [
    "line2 = \"the emblem of our land.\\n\"\n",
    "fout.write(line2)\n",
    "line3 = \"this works.\\n\"\n",
    "fout.write(line3)"
   ]
  },
  {
   "cell_type": "markdown",
   "id": "0e317dfe-9685-4427-928e-3f082dce1219",
   "metadata": {},
   "source": [
    "24\n",
    "When you are done writing, you should close the file."
   ]
  },
  {
   "cell_type": "code",
   "execution_count": 10,
   "id": "807158df-8749-4301-b589-1d6519d47d30",
   "metadata": {},
   "outputs": [],
   "source": [
    "fout.close()"
   ]
  },
  {
   "cell_type": "markdown",
   "id": "dc12f532-4b9f-46f4-b9c7-a6d001b83735",
   "metadata": {},
   "source": [
    "If you don’t close the file, it gets closed for you when the program ends.\n",
    "\n",
    "    14.3  Format operator\n",
    "\n",
    "The argument of write has to be a string, so if we want to put other values in a file, we have to convert them to strings. The easiest way to do that is with str:"
   ]
  },
  {
   "cell_type": "code",
   "execution_count": 11,
   "id": "85d38a81-4bd5-4328-ab73-2eb1364d4d32",
   "metadata": {},
   "outputs": [
    {
     "ename": "ValueError",
     "evalue": "I/O operation on closed file.",
     "output_type": "error",
     "traceback": [
      "\u001b[1;31m---------------------------------------------------------------------------\u001b[0m",
      "\u001b[1;31mValueError\u001b[0m                                Traceback (most recent call last)",
      "\u001b[1;32m~\\AppData\\Local\\Temp\\ipykernel_187924\\598119071.py\u001b[0m in \u001b[0;36m<module>\u001b[1;34m\u001b[0m\n\u001b[0;32m      1\u001b[0m \u001b[0mx\u001b[0m \u001b[1;33m=\u001b[0m \u001b[1;36m6666667\u001b[0m\u001b[1;33m\u001b[0m\u001b[1;33m\u001b[0m\u001b[0m\n\u001b[1;32m----> 2\u001b[1;33m \u001b[0mfout\u001b[0m\u001b[1;33m.\u001b[0m\u001b[0mwrite\u001b[0m\u001b[1;33m(\u001b[0m\u001b[0mstr\u001b[0m\u001b[1;33m(\u001b[0m\u001b[0mx\u001b[0m\u001b[1;33m)\u001b[0m\u001b[1;33m)\u001b[0m\u001b[1;33m\u001b[0m\u001b[1;33m\u001b[0m\u001b[0m\n\u001b[0m",
      "\u001b[1;31mValueError\u001b[0m: I/O operation on closed file."
     ]
    }
   ],
   "source": [
    "x = 6666667\n",
    "fout.write(str(x))"
   ]
  },
  {
   "cell_type": "markdown",
   "id": "7268528c-91f3-4256-a029-fcd79d4a6d68",
   "metadata": {},
   "source": [
    "An alternative is to use the format operator, %. When applied to integers, % is the modulus operator. But when the first operand is a string, % is the format operator.\n",
    "\n",
    "The first operand is the format string, which contains one or more format sequences, which specify how the second operand is formatted. The result is a string.\n",
    "\n",
    "For example, the format sequence '%d' means that the second operand should be formatted as a decimal integer:"
   ]
  },
  {
   "cell_type": "code",
   "execution_count": 13,
   "id": "0b32cffa-e596-428e-aa81-cb58dc5fd104",
   "metadata": {
    "tags": []
   },
   "outputs": [
    {
     "data": {
      "text/plain": [
       "'42'"
      ]
     },
     "execution_count": 13,
     "metadata": {},
     "output_type": "execute_result"
    }
   ],
   "source": [
    "camels = 42\n",
    "'%d' % camels"
   ]
  },
  {
   "cell_type": "markdown",
   "id": "2d81b16d-7b81-4ac8-aa5e-733190ac23eb",
   "metadata": {},
   "source": [
    "'42'\n",
    "The result is the string '42', which is not to be confused with the integer value 42.\n",
    "\n",
    "A format sequence can appear anywhere in the string, so you can embed a value in a sentence:"
   ]
  },
  {
   "cell_type": "code",
   "execution_count": 14,
   "id": "b775e1da-376a-4ab3-aafc-0510765cf2e3",
   "metadata": {},
   "outputs": [
    {
     "data": {
      "text/plain": [
       "'I have spotted 42 camels.'"
      ]
     },
     "execution_count": 14,
     "metadata": {},
     "output_type": "execute_result"
    }
   ],
   "source": [
    "'I have spotted %d camels.' % camels"
   ]
  },
  {
   "cell_type": "markdown",
   "id": "0ad987ea-d204-4647-beaf-80a74c95faf5",
   "metadata": {},
   "source": [
    "'I have spotted 42 camels.'\n",
    "If there is more than one format sequence in the string, the second argument has to be a tuple. Each format sequence is matched with an element of the tuple, in order.\n",
    "\n",
    "The following example uses '%d' to format an integer, '%g' to format a floating-point number, and '%s' to format a string:"
   ]
  },
  {
   "cell_type": "code",
   "execution_count": 15,
   "id": "b5ca9cd1-e1ad-4f6e-bc90-47577adf89f6",
   "metadata": {},
   "outputs": [
    {
     "data": {
      "text/plain": [
       "'In 3 years I have spotted 0.1 camels.'"
      ]
     },
     "execution_count": 15,
     "metadata": {},
     "output_type": "execute_result"
    }
   ],
   "source": [
    "'In %d years I have spotted %g %s.' % (3, 0.1, 'camels')"
   ]
  },
  {
   "cell_type": "markdown",
   "id": "14f0538b-0111-4a19-91e9-432b2c4f2a1c",
   "metadata": {},
   "source": [
    "'In 3 years I have spotted 0.1 camels.'\n",
    "The number of elements in the tuple has to match the number of format sequences in the string. Also, the types of the elements have to match the format sequences:"
   ]
  },
  {
   "cell_type": "code",
   "execution_count": 16,
   "id": "49af33ef-2bcc-4b1e-a1d9-79faf7b191e1",
   "metadata": {},
   "outputs": [
    {
     "ename": "TypeError",
     "evalue": "not enough arguments for format string",
     "output_type": "error",
     "traceback": [
      "\u001b[1;31m---------------------------------------------------------------------------\u001b[0m",
      "\u001b[1;31mTypeError\u001b[0m                                 Traceback (most recent call last)",
      "\u001b[1;32m~\\AppData\\Local\\Temp\\ipykernel_187924\\745648575.py\u001b[0m in \u001b[0;36m<module>\u001b[1;34m\u001b[0m\n\u001b[1;32m----> 1\u001b[1;33m \u001b[1;34m'%d %d %d'\u001b[0m \u001b[1;33m%\u001b[0m \u001b[1;33m(\u001b[0m\u001b[1;36m1\u001b[0m\u001b[1;33m,\u001b[0m \u001b[1;36m2\u001b[0m\u001b[1;33m)\u001b[0m\u001b[1;33m\u001b[0m\u001b[1;33m\u001b[0m\u001b[0m\n\u001b[0m",
      "\u001b[1;31mTypeError\u001b[0m: not enough arguments for format string"
     ]
    }
   ],
   "source": [
    "'%d %d %d' % (1, 2)"
   ]
  },
  {
   "cell_type": "markdown",
   "id": "da95cd75-9e70-486c-b92d-88bc35f7cc1b",
   "metadata": {},
   "source": [
    "TypeError: not enough arguments for format string\n",
    ">>> '%d' % 'dollars'\n",
    "TypeError: %d format: a number is required, not str\n",
    "In the first example, there aren’t enough elements; in the second, the element is the wrong type.\n",
    "\n",
    "For more information on the format operator, see https://docs.python.org/3/library/stdtypes.html#printf-style-string-formatting. A more powerful alternative is the string format method, which you can read about at https://docs.python.org/3/library/stdtypes.html#str.format.\n",
    "\n",
    "14.4  Filenames and paths\n",
    "\n",
    "Files are organized into directories (also called “folders”). Every running program has a “current directory”, which is the default directory for most operations. For example, when you open a file for reading, Python looks for it in the current directory.\n",
    "\n",
    "The os module provides functions for working with files and directories (“os” stands for “operating system”). os.getcwd returns the name of the current directory:"
   ]
  },
  {
   "cell_type": "code",
   "execution_count": 17,
   "id": "643a994b-7a78-4f68-9e0c-cd68a29f3765",
   "metadata": {
    "tags": []
   },
   "outputs": [
    {
     "data": {
      "text/plain": [
       "'C:\\\\Users\\\\jimsy\\\\Documents in user jimSy\\\\GitHub\\\\ThinkPython2\\\\JimWork'"
      ]
     },
     "execution_count": 17,
     "metadata": {},
     "output_type": "execute_result"
    }
   ],
   "source": [
    "import os\n",
    "cwd = os.getcwd()\n",
    "cwd"
   ]
  },
  {
   "cell_type": "markdown",
   "id": "ed5d24fe-5ec9-4999-8c7c-a8d9bdfd47d2",
   "metadata": {},
   "source": [
    "    'C:\\\\Users\\\\jimsy\\\\Documents in user jimSy\\\\GitHub\\\\ThinkPython2\\\\JimWork'\n",
    "\n",
    "cwd stands for “current working directory”. The result in this example is /home/dinsdale, which is the home directory of a user named dinsdale.\n",
    "\n",
    "A string like '/home/dinsdale' that identifies a file or directory is called a path.\n",
    "\n",
    "A simple filename, like memo.txt is also considered a path, but it is a relative path because it relates to the current directory. If the current directory is /home/dinsdale, the filename memo.txt would refer to /home/dinsdale/memo.txt.\n",
    "\n",
    "A path that begins with / does not depend on the current directory; it is called an absolute path. To find the absolute path to a file, you can use os.path.abspath:"
   ]
  },
  {
   "cell_type": "code",
   "execution_count": 18,
   "id": "2c114e09-7654-4cd0-a8b7-fc743da2fce8",
   "metadata": {
    "tags": []
   },
   "outputs": [
    {
     "data": {
      "text/plain": [
       "'C:\\\\Users\\\\jimsy\\\\Documents in user jimSy\\\\GitHub\\\\ThinkPython2\\\\JimWork\\\\emma.txt'"
      ]
     },
     "execution_count": 18,
     "metadata": {},
     "output_type": "execute_result"
    }
   ],
   "source": [
    "os.path.abspath('emma.txt')"
   ]
  },
  {
   "cell_type": "markdown",
   "id": "728b5b07-8377-4e3c-9eee-d54f59fc7977",
   "metadata": {},
   "source": [
    "    'C:\\\\Users\\\\jimsy\\\\Documents in user jimSy\\\\GitHub\\\\ThinkPython2\\\\JimWork\\\\emma.txt'\n",
    "\n",
    "os.path provides other functions for working with filenames and paths. For example, os.path.exists checks whether a file or directory exists:"
   ]
  },
  {
   "cell_type": "code",
   "execution_count": 19,
   "id": "cdd78c85-9f95-4aeb-987c-d52885f0e980",
   "metadata": {},
   "outputs": [
    {
     "data": {
      "text/plain": [
       "True"
      ]
     },
     "execution_count": 19,
     "metadata": {},
     "output_type": "execute_result"
    }
   ],
   "source": [
    "os.path.exists('emma.txt')"
   ]
  },
  {
   "cell_type": "markdown",
   "id": "96bf2156-06a9-4824-8a85-33a41c766345",
   "metadata": {},
   "source": [
    "If it exists, os.path.isdir checks whether it’s a directory:"
   ]
  },
  {
   "cell_type": "code",
   "execution_count": 20,
   "id": "ef5667ab-ff72-4b32-94fd-e08d44934293",
   "metadata": {},
   "outputs": [
    {
     "data": {
      "text/plain": [
       "False"
      ]
     },
     "execution_count": 20,
     "metadata": {},
     "output_type": "execute_result"
    }
   ],
   "source": [
    "os.path.isdir('memo.txt')"
   ]
  },
  {
   "cell_type": "code",
   "execution_count": null,
   "id": "132c40d9-7089-49ba-96ca-17f4cf51fe91",
   "metadata": {},
   "outputs": [],
   "source": [
    "os.path.isdir('C:\\\\Users\\\\jimsy\\\\Documents in user jimSy\\\\GitHub\\\\ThinkPython2\\\\JimWork')"
   ]
  },
  {
   "cell_type": "code",
   "execution_count": 21,
   "id": "50a85300-03ab-4e19-91ac-033093685f5b",
   "metadata": {
    "tags": []
   },
   "outputs": [
    {
     "data": {
      "text/plain": [
       "True"
      ]
     },
     "execution_count": 21,
     "metadata": {},
     "output_type": "execute_result"
    }
   ],
   "source": [
    "os.path.isfile('emma.txt')"
   ]
  },
  {
   "cell_type": "markdown",
   "id": "085e231a-a527-4a26-9bdd-554417363008",
   "metadata": {},
   "source": [
    "True\n",
    "Similarly, os.path.isfile checks whether it’s a file.\n",
    "\n",
    "os.listdir returns a list of the files (and other directories) in the given directory:"
   ]
  },
  {
   "cell_type": "code",
   "execution_count": 22,
   "id": "0b88efba-fb26-43b8-a600-6bd4c665eac9",
   "metadata": {},
   "outputs": [
    {
     "data": {
      "text/plain": [
       "['.ipynb_checkpoints',\n",
       " 'anagram_sets.ipynb',\n",
       " 'anagram_sets.py',\n",
       " 'captions.bak',\n",
       " 'captions.dat',\n",
       " 'captions.dir',\n",
       " 'Cartalk1JES.ipynb',\n",
       " 'Cartalk2JES.ipynb',\n",
       " 'Ch10.ipynb',\n",
       " 'Ch10JupyterLab.ipynb',\n",
       " 'Ch11Exhomophone.ipynb',\n",
       " 'Ch11Jupyter.ipynb',\n",
       " 'Ch12.ipynb',\n",
       " 'Ch13.ipynb',\n",
       " 'Ch14.ipynb',\n",
       " 'ch15.ipynb',\n",
       " 'Ch5.ipynb',\n",
       " 'Ch6.ipynb',\n",
       " 'Ch6_plus_error_handling_code.ipynb',\n",
       " 'Ch7.ipynb',\n",
       " 'Ch7images.ipynb',\n",
       " 'Ch7imagesv2.ipynb',\n",
       " 'Ch7_example_algorithm_PI_approximation.ipynb',\n",
       " 'Ch7_example_algorithm_PI_approximation_Jupyter_Lab.ipynb',\n",
       " 'ch8.ipynb',\n",
       " 'Ch9.ipynb',\n",
       " 'cleese.png',\n",
       " 'datareadtest.ipynb',\n",
       " 'emma.txt',\n",
       " 'emma2.txt',\n",
       " 'emma3.txt',\n",
       " 'float2.txt',\n",
       " 'integers2.txt',\n",
       " 'integers_none.txt',\n",
       " 'most_frequent.ipynb',\n",
       " 'OOP_tutorial.ipynb',\n",
       " 'output.txt',\n",
       " 'print.pdf',\n",
       " 'pronounce.py',\n",
       " 'structshape.py',\n",
       " 'test.bak',\n",
       " 'test.dat',\n",
       " 'test.dir',\n",
       " 'ThinkPython2.ipynb',\n",
       " 'Untitled.ipynb',\n",
       " 'Untitled1.ipynb',\n",
       " 'wc.py',\n",
       " 'words.txt',\n",
       " 'words_orig.txt',\n",
       " '__pycache__']"
      ]
     },
     "execution_count": 22,
     "metadata": {},
     "output_type": "execute_result"
    }
   ],
   "source": [
    "os.listdir(cwd)"
   ]
  },
  {
   "cell_type": "markdown",
   "id": "dae4231d-ff7c-4cd4-adf4-86f3fd62a524",
   "metadata": {},
   "source": [
    "To demonstrate these functions, the following example “walks” through a directory, prints the names of all the files, and calls itself recursively on all the directories."
   ]
  },
  {
   "cell_type": "code",
   "execution_count": 23,
   "id": "13273215-cafa-4869-b0f8-b38cfc9fdd0f",
   "metadata": {},
   "outputs": [
    {
     "name": "stdout",
     "output_type": "stream",
     "text": [
      "emma.txt\n"
     ]
    }
   ],
   "source": [
    "def walk(dirname):\n",
    "    for name in os.listdir(dirname):\n",
    "        path = os.path.join(dirname, name)\n",
    "        print(path)\n",
    "\n",
    "if os.path.isfile('emma.txt'):\n",
    "            print('emma.txt')\n",
    "else:\n",
    "            walk('emma.txt')"
   ]
  },
  {
   "cell_type": "code",
   "execution_count": 24,
   "id": "68f4d14c-f1e3-4898-b23a-3abdace14f02",
   "metadata": {},
   "outputs": [
    {
     "name": "stdout",
     "output_type": "stream",
     "text": [
      "C:\\Users\\jimsy\\Documents in user jimSy\\GitHub\\ThinkPython2\\JimWork\\.ipynb_checkpoints\n",
      "C:\\Users\\jimsy\\Documents in user jimSy\\GitHub\\ThinkPython2\\JimWork\\anagram_sets.ipynb\n",
      "C:\\Users\\jimsy\\Documents in user jimSy\\GitHub\\ThinkPython2\\JimWork\\anagram_sets.py\n",
      "C:\\Users\\jimsy\\Documents in user jimSy\\GitHub\\ThinkPython2\\JimWork\\captions.bak\n",
      "C:\\Users\\jimsy\\Documents in user jimSy\\GitHub\\ThinkPython2\\JimWork\\captions.dat\n",
      "C:\\Users\\jimsy\\Documents in user jimSy\\GitHub\\ThinkPython2\\JimWork\\captions.dir\n",
      "C:\\Users\\jimsy\\Documents in user jimSy\\GitHub\\ThinkPython2\\JimWork\\Cartalk1JES.ipynb\n",
      "C:\\Users\\jimsy\\Documents in user jimSy\\GitHub\\ThinkPython2\\JimWork\\Cartalk2JES.ipynb\n",
      "C:\\Users\\jimsy\\Documents in user jimSy\\GitHub\\ThinkPython2\\JimWork\\Ch10.ipynb\n",
      "C:\\Users\\jimsy\\Documents in user jimSy\\GitHub\\ThinkPython2\\JimWork\\Ch10JupyterLab.ipynb\n",
      "C:\\Users\\jimsy\\Documents in user jimSy\\GitHub\\ThinkPython2\\JimWork\\Ch11Exhomophone.ipynb\n",
      "C:\\Users\\jimsy\\Documents in user jimSy\\GitHub\\ThinkPython2\\JimWork\\Ch11Jupyter.ipynb\n",
      "C:\\Users\\jimsy\\Documents in user jimSy\\GitHub\\ThinkPython2\\JimWork\\Ch12.ipynb\n",
      "C:\\Users\\jimsy\\Documents in user jimSy\\GitHub\\ThinkPython2\\JimWork\\Ch13.ipynb\n",
      "C:\\Users\\jimsy\\Documents in user jimSy\\GitHub\\ThinkPython2\\JimWork\\Ch14.ipynb\n",
      "C:\\Users\\jimsy\\Documents in user jimSy\\GitHub\\ThinkPython2\\JimWork\\ch15.ipynb\n",
      "C:\\Users\\jimsy\\Documents in user jimSy\\GitHub\\ThinkPython2\\JimWork\\Ch5.ipynb\n",
      "C:\\Users\\jimsy\\Documents in user jimSy\\GitHub\\ThinkPython2\\JimWork\\Ch6.ipynb\n",
      "C:\\Users\\jimsy\\Documents in user jimSy\\GitHub\\ThinkPython2\\JimWork\\Ch6_plus_error_handling_code.ipynb\n",
      "C:\\Users\\jimsy\\Documents in user jimSy\\GitHub\\ThinkPython2\\JimWork\\Ch7.ipynb\n",
      "C:\\Users\\jimsy\\Documents in user jimSy\\GitHub\\ThinkPython2\\JimWork\\Ch7images.ipynb\n",
      "C:\\Users\\jimsy\\Documents in user jimSy\\GitHub\\ThinkPython2\\JimWork\\Ch7imagesv2.ipynb\n",
      "C:\\Users\\jimsy\\Documents in user jimSy\\GitHub\\ThinkPython2\\JimWork\\Ch7_example_algorithm_PI_approximation.ipynb\n",
      "C:\\Users\\jimsy\\Documents in user jimSy\\GitHub\\ThinkPython2\\JimWork\\Ch7_example_algorithm_PI_approximation_Jupyter_Lab.ipynb\n",
      "C:\\Users\\jimsy\\Documents in user jimSy\\GitHub\\ThinkPython2\\JimWork\\ch8.ipynb\n",
      "C:\\Users\\jimsy\\Documents in user jimSy\\GitHub\\ThinkPython2\\JimWork\\Ch9.ipynb\n",
      "C:\\Users\\jimsy\\Documents in user jimSy\\GitHub\\ThinkPython2\\JimWork\\cleese.png\n",
      "C:\\Users\\jimsy\\Documents in user jimSy\\GitHub\\ThinkPython2\\JimWork\\datareadtest.ipynb\n",
      "C:\\Users\\jimsy\\Documents in user jimSy\\GitHub\\ThinkPython2\\JimWork\\emma.txt\n",
      "C:\\Users\\jimsy\\Documents in user jimSy\\GitHub\\ThinkPython2\\JimWork\\emma2.txt\n",
      "C:\\Users\\jimsy\\Documents in user jimSy\\GitHub\\ThinkPython2\\JimWork\\emma3.txt\n",
      "C:\\Users\\jimsy\\Documents in user jimSy\\GitHub\\ThinkPython2\\JimWork\\float2.txt\n",
      "C:\\Users\\jimsy\\Documents in user jimSy\\GitHub\\ThinkPython2\\JimWork\\integers2.txt\n",
      "C:\\Users\\jimsy\\Documents in user jimSy\\GitHub\\ThinkPython2\\JimWork\\integers_none.txt\n",
      "C:\\Users\\jimsy\\Documents in user jimSy\\GitHub\\ThinkPython2\\JimWork\\most_frequent.ipynb\n",
      "C:\\Users\\jimsy\\Documents in user jimSy\\GitHub\\ThinkPython2\\JimWork\\OOP_tutorial.ipynb\n",
      "C:\\Users\\jimsy\\Documents in user jimSy\\GitHub\\ThinkPython2\\JimWork\\output.txt\n",
      "C:\\Users\\jimsy\\Documents in user jimSy\\GitHub\\ThinkPython2\\JimWork\\print.pdf\n",
      "C:\\Users\\jimsy\\Documents in user jimSy\\GitHub\\ThinkPython2\\JimWork\\pronounce.py\n",
      "C:\\Users\\jimsy\\Documents in user jimSy\\GitHub\\ThinkPython2\\JimWork\\structshape.py\n",
      "C:\\Users\\jimsy\\Documents in user jimSy\\GitHub\\ThinkPython2\\JimWork\\test.bak\n",
      "C:\\Users\\jimsy\\Documents in user jimSy\\GitHub\\ThinkPython2\\JimWork\\test.dat\n",
      "C:\\Users\\jimsy\\Documents in user jimSy\\GitHub\\ThinkPython2\\JimWork\\test.dir\n",
      "C:\\Users\\jimsy\\Documents in user jimSy\\GitHub\\ThinkPython2\\JimWork\\ThinkPython2.ipynb\n",
      "C:\\Users\\jimsy\\Documents in user jimSy\\GitHub\\ThinkPython2\\JimWork\\Untitled.ipynb\n",
      "C:\\Users\\jimsy\\Documents in user jimSy\\GitHub\\ThinkPython2\\JimWork\\Untitled1.ipynb\n",
      "C:\\Users\\jimsy\\Documents in user jimSy\\GitHub\\ThinkPython2\\JimWork\\wc.py\n",
      "C:\\Users\\jimsy\\Documents in user jimSy\\GitHub\\ThinkPython2\\JimWork\\words.txt\n",
      "C:\\Users\\jimsy\\Documents in user jimSy\\GitHub\\ThinkPython2\\JimWork\\words_orig.txt\n",
      "C:\\Users\\jimsy\\Documents in user jimSy\\GitHub\\ThinkPython2\\JimWork\\__pycache__\n"
     ]
    }
   ],
   "source": [
    "def walk(dirname):\n",
    "    for name in os.listdir(dirname):\n",
    "        path = os.path.join(dirname, name)\n",
    "        print(path)\n",
    "\n",
    "if os.path.isfile('C:\\\\Users\\\\jimsy\\\\Documents in user jimSy\\\\GitHub\\\\ThinkPython2\\\\JimWork'):\n",
    "    print('C:\\\\Users\\\\jimsy\\\\Documents in user jimSy\\\\GitHub\\\\ThinkPython2\\\\JimWork')\n",
    "else:\n",
    "    walk('C:\\\\Users\\\\jimsy\\\\Documents in user jimSy\\\\GitHub\\\\ThinkPython2\\\\JimWork')"
   ]
  },
  {
   "cell_type": "markdown",
   "id": "63313c14-3c8e-495a-aa45-2d0f857bb168",
   "metadata": {},
   "source": [
    "os.path.join takes a directory and a file name and joins them into a complete path.\n",
    "\n",
    "The os module provides a function called walk that is similar to this one but more versatile. As an exercise, read the documentation and use it to print the names of the files in a given directory and its subdirectories. You can download my solution from http://thinkpython2.com/code/walk.py.\n",
    "\n",
    "14.5  Catching exceptions\n",
    "\n",
    "A lot of things can go wrong when you try to read and write files. If you try to open a file that doesn’t exist, you get an FileNotFoundError:"
   ]
  },
  {
   "cell_type": "code",
   "execution_count": 25,
   "id": "1e40f49c-06dc-4c4c-a803-8790b1f859ca",
   "metadata": {},
   "outputs": [
    {
     "ename": "FileNotFoundError",
     "evalue": "[Errno 2] No such file or directory: 'bad_file'",
     "output_type": "error",
     "traceback": [
      "\u001b[1;31m---------------------------------------------------------------------------\u001b[0m",
      "\u001b[1;31mFileNotFoundError\u001b[0m                         Traceback (most recent call last)",
      "\u001b[1;32m~\\AppData\\Local\\Temp\\ipykernel_187924\\1899840290.py\u001b[0m in \u001b[0;36m<module>\u001b[1;34m\u001b[0m\n\u001b[1;32m----> 1\u001b[1;33m \u001b[0mfin\u001b[0m \u001b[1;33m=\u001b[0m \u001b[0mopen\u001b[0m\u001b[1;33m(\u001b[0m\u001b[1;34m'bad_file'\u001b[0m\u001b[1;33m)\u001b[0m\u001b[1;33m\u001b[0m\u001b[1;33m\u001b[0m\u001b[0m\n\u001b[0m",
      "\u001b[1;31mFileNotFoundError\u001b[0m: [Errno 2] No such file or directory: 'bad_file'"
     ]
    }
   ],
   "source": [
    "fin = open('bad_file')"
   ]
  },
  {
   "cell_type": "markdown",
   "id": "b119a2fa-7c3b-40ca-aa54-d9757db90793",
   "metadata": {},
   "source": [
    "FileNotFoundError: [Errno 2] No such file or directory: 'bad_file'\n",
    "\n",
    "If you don’t have permission to access a file:"
   ]
  },
  {
   "cell_type": "code",
   "execution_count": 26,
   "id": "7abb85e1-a627-4bfa-85ab-785712b1f24a",
   "metadata": {},
   "outputs": [
    {
     "ename": "FileNotFoundError",
     "evalue": "[Errno 2] No such file or directory: '/etc/passwd'",
     "output_type": "error",
     "traceback": [
      "\u001b[1;31m---------------------------------------------------------------------------\u001b[0m",
      "\u001b[1;31mFileNotFoundError\u001b[0m                         Traceback (most recent call last)",
      "\u001b[1;32m~\\AppData\\Local\\Temp\\ipykernel_187924\\1266459208.py\u001b[0m in \u001b[0;36m<module>\u001b[1;34m\u001b[0m\n\u001b[1;32m----> 1\u001b[1;33m \u001b[0mfout\u001b[0m \u001b[1;33m=\u001b[0m \u001b[0mopen\u001b[0m\u001b[1;33m(\u001b[0m\u001b[1;34m'/etc/passwd'\u001b[0m\u001b[1;33m,\u001b[0m \u001b[1;34m'w'\u001b[0m\u001b[1;33m)\u001b[0m\u001b[1;33m\u001b[0m\u001b[1;33m\u001b[0m\u001b[0m\n\u001b[0m",
      "\u001b[1;31mFileNotFoundError\u001b[0m: [Errno 2] No such file or directory: '/etc/passwd'"
     ]
    }
   ],
   "source": [
    "fout = open('/etc/passwd', 'w')"
   ]
  },
  {
   "cell_type": "markdown",
   "id": "1d7ae63b-dc1f-4bed-8509-f559ac484026",
   "metadata": {},
   "source": [
    "PermissionError: [Errno 13] Permission denied: '/etc/passwd'\n",
    "And if you try to open a directory for reading, you get"
   ]
  },
  {
   "cell_type": "code",
   "execution_count": 27,
   "id": "5f3795d7-d50f-4ddb-adf3-4d8747dfe0f4",
   "metadata": {},
   "outputs": [
    {
     "ename": "FileNotFoundError",
     "evalue": "[Errno 2] No such file or directory: '/home'",
     "output_type": "error",
     "traceback": [
      "\u001b[1;31m---------------------------------------------------------------------------\u001b[0m",
      "\u001b[1;31mFileNotFoundError\u001b[0m                         Traceback (most recent call last)",
      "\u001b[1;32m~\\AppData\\Local\\Temp\\ipykernel_187924\\764149553.py\u001b[0m in \u001b[0;36m<module>\u001b[1;34m\u001b[0m\n\u001b[1;32m----> 1\u001b[1;33m \u001b[0mfin\u001b[0m \u001b[1;33m=\u001b[0m \u001b[0mopen\u001b[0m\u001b[1;33m(\u001b[0m\u001b[1;34m'/home'\u001b[0m\u001b[1;33m)\u001b[0m\u001b[1;33m\u001b[0m\u001b[1;33m\u001b[0m\u001b[0m\n\u001b[0m",
      "\u001b[1;31mFileNotFoundError\u001b[0m: [Errno 2] No such file or directory: '/home'"
     ]
    }
   ],
   "source": [
    "fin = open('/home')"
   ]
  },
  {
   "cell_type": "markdown",
   "id": "9924a211-cc2d-4e18-9fde-26176134b46c",
   "metadata": {},
   "source": [
    "IsADirectoryError: [Errno 21] Is a directory: '/home'\n",
    "To avoid these errors, you could use functions like os.path.exists and os.path.isfile, but it would take a lot of time and code to check all the possibilities (if “Errno 21” is any indication, there are at least 21 things that can go wrong).\n",
    "\n",
    "It is better to go ahead and try—and deal with problems if they happen—which is exactly what the try statement does. The syntax is similar to an if...else statement:"
   ]
  },
  {
   "cell_type": "code",
   "execution_count": 28,
   "id": "a02905db-d0cc-4d5b-9158-82935a1f995f",
   "metadata": {},
   "outputs": [
    {
     "name": "stdout",
     "output_type": "stream",
     "text": [
      "Something went wrong.\n"
     ]
    }
   ],
   "source": [
    "try:    \n",
    "    fin = open('bad_file')\n",
    "except:\n",
    "    print('Something went wrong.')"
   ]
  },
  {
   "cell_type": "markdown",
   "id": "876c3060-477a-45f5-920f-2b8a93c58665",
   "metadata": {},
   "source": [
    "Python starts by executing the try clause. If all goes well, it skips the except clause and proceeds. If an exception occurs, it jumps out of the try clause and runs the except clause.\n",
    "\n",
    "Handling an exception with a try statement is called catching an exception. In this example, the except clause prints an error message that is not very helpful. In general, catching an exception gives you a chance to fix the problem, or try again, or at least end the program gracefully.\n",
    "\n",
    "    14.6  Databases\n",
    "\n",
    "A database is a file that is organized for storing data. Many databases are organized like a dictionary in the sense that they map from keys to values. The biggest difference between a database and a dictionary is that the database is on disk (or other permanent storage), so it persists after the program ends.\n",
    "\n",
    "The module dbm provides an interface for creating and updating database files. As an example, I’ll create a database that contains captions for image files.\n",
    "\n",
    "Opening a database is similar to opening other files:"
   ]
  },
  {
   "cell_type": "code",
   "execution_count": 29,
   "id": "9c6906ca-0005-4ab1-ae4c-57c519205504",
   "metadata": {
    "tags": []
   },
   "outputs": [
    {
     "data": {
      "text/plain": [
       "<dbm.dumb._Database at 0x1e0a6659b50>"
      ]
     },
     "execution_count": 29,
     "metadata": {},
     "output_type": "execute_result"
    }
   ],
   "source": [
    "import dbm\n",
    "db = dbm.open('captions', 'c')\n",
    "db"
   ]
  },
  {
   "cell_type": "markdown",
   "id": "9c5588a9-dc6a-45f0-a366-cd60bf2a847e",
   "metadata": {},
   "source": [
    "The mode 'c' means that the database should be created if it doesn’t already exist. The result is a database object that can be used (for most operations) like a dictionary.\n",
    "\n",
    "When you create a new item, dbm updates the database file."
   ]
  },
  {
   "cell_type": "code",
   "execution_count": 30,
   "id": "74046e73-7bec-4a8c-875f-f19d3e6493e9",
   "metadata": {},
   "outputs": [],
   "source": [
    "db['cleese.png'] = 'Photo of John Cleese.'"
   ]
  },
  {
   "cell_type": "markdown",
   "id": "381a704e-6283-4df7-840d-ca0e7bd2142a",
   "metadata": {},
   "source": [
    "When you access one of the items, dbm reads the file:"
   ]
  },
  {
   "cell_type": "code",
   "execution_count": 31,
   "id": "b6ca23fc-a69b-45c1-8511-7bb80919c88d",
   "metadata": {},
   "outputs": [
    {
     "data": {
      "text/plain": [
       "b'Photo of John Cleese.'"
      ]
     },
     "execution_count": 31,
     "metadata": {},
     "output_type": "execute_result"
    }
   ],
   "source": [
    "db['cleese.png']"
   ]
  },
  {
   "cell_type": "markdown",
   "id": "06cd5ff0-fd24-491d-8eb4-33cfae973745",
   "metadata": {},
   "source": [
    "b'Photo of John Cleese.'\n",
    "The result is a bytes object, which is why it begins with b. A bytes object is similar to a string in many ways. When you get farther into Python, the difference becomes important, but for now we can ignore it.\n",
    "\n",
    "If you make another assignment to an existing key, dbm replaces the old value:"
   ]
  },
  {
   "cell_type": "code",
   "execution_count": 34,
   "id": "7f5b3d86-9911-4de8-a243-e55243a3a006",
   "metadata": {},
   "outputs": [
    {
     "name": "stdout",
     "output_type": "stream",
     "text": [
      "b'Photo of John Cleese doing a silly walk.'\n",
      "b'Jim and Timmy'\n"
     ]
    }
   ],
   "source": [
    "db['cleese.png'] = 'Photo of John Cleese doing a silly walk.'\n",
    "db['jim.png'] = 'Jim and Timmy'\n",
    "print(db['cleese.png'])\n",
    "print(db['jim.png'])"
   ]
  },
  {
   "cell_type": "markdown",
   "id": "2571bebb-deb2-4937-863f-a855cfc8c452",
   "metadata": {},
   "source": [
    "b'Photo of John Cleese doing a silly walk.'\n",
    "Some dictionary methods, like keys and items, don’t work with database objects. But iteration with a for loop works:"
   ]
  },
  {
   "cell_type": "code",
   "execution_count": 35,
   "id": "4871c89d-72ed-4ac8-9381-101169b431f9",
   "metadata": {},
   "outputs": [
    {
     "name": "stdout",
     "output_type": "stream",
     "text": [
      "b'cleese.png' b'Photo of John Cleese doing a silly walk.'\n",
      "b'jim.png' b'Jim and Timmy'\n"
     ]
    }
   ],
   "source": [
    "for key in db.keys():\n",
    "    print(key, db[key])"
   ]
  },
  {
   "cell_type": "markdown",
   "id": "1600c2e3-dd79-4512-b488-b2561fab5c1c",
   "metadata": {},
   "source": [
    "As with other files, you should close the database when you are done:"
   ]
  },
  {
   "cell_type": "code",
   "execution_count": 36,
   "id": "dd2cf786-ebae-4c8c-97dc-174eeffa20da",
   "metadata": {},
   "outputs": [],
   "source": [
    "db.close()"
   ]
  },
  {
   "cell_type": "markdown",
   "id": "6332aa2b-00f1-45e7-8fc5-342d3fce006e",
   "metadata": {},
   "source": [
    "    14.7  Pickling\n",
    "A limitation of dbm is that the keys and values have to be strings or bytes. If you try to use any other type, you get an error.\n",
    "\n",
    "    The pickle module can help. \n",
    "It translates almost any type of object into a string suitable for storage in a database, and then translates strings back into objects.\n",
    "\n",
    "pickle.dumps takes an object as a parameter and returns a string representation (dumps is short for “dump string”):"
   ]
  },
  {
   "cell_type": "code",
   "execution_count": 37,
   "id": "02150a9c-c66a-495a-b7e1-fd3fd018d145",
   "metadata": {},
   "outputs": [
    {
     "data": {
      "text/plain": [
       "b'\\x80\\x04\\x95\\x0b\\x00\\x00\\x00\\x00\\x00\\x00\\x00]\\x94(K\\x01K\\x02K\\x03e.'"
      ]
     },
     "execution_count": 37,
     "metadata": {},
     "output_type": "execute_result"
    }
   ],
   "source": [
    "import pickle\n",
    "t = [1, 2, 3]\n",
    "pickle.dumps(t)"
   ]
  },
  {
   "cell_type": "markdown",
   "id": "564ef2b9-56e8-4585-9ad7-8c36fd330c43",
   "metadata": {},
   "source": [
    "b'\\x80\\x03]q\\x00(K\\x01K\\x02K\\x03e.'\n",
    "The format isn’t obvious to human readers; it is meant to be easy for pickle to interpret. pickle.loads (“load string”) reconstitutes the object:"
   ]
  },
  {
   "cell_type": "code",
   "execution_count": 38,
   "id": "61b05d98-c397-41e0-a2ce-7688e4593d17",
   "metadata": {},
   "outputs": [
    {
     "name": "stdout",
     "output_type": "stream",
     "text": [
      "b'\\x80\\x04\\x95\\x0b\\x00\\x00\\x00\\x00\\x00\\x00\\x00]\\x94(K\\x01K\\x02K\\x03e.'\n"
     ]
    },
    {
     "data": {
      "text/plain": [
       "[1, 2, 3]"
      ]
     },
     "execution_count": 38,
     "metadata": {},
     "output_type": "execute_result"
    }
   ],
   "source": [
    "t1 = [1, 2, 3]\n",
    "s = pickle.dumps(t1)\n",
    "print(s)\n",
    "t2 = pickle.loads(s)\n",
    "t2"
   ]
  },
  {
   "cell_type": "markdown",
   "id": "1ff50c80-f161-408c-9ddc-72026e816b7e",
   "metadata": {},
   "source": [
    "[1, 2, 3]\n",
    "Although the new object has the same value as the old, it is not (in general) the same object:"
   ]
  },
  {
   "cell_type": "code",
   "execution_count": 39,
   "id": "9f8735b0-5aa3-496a-a580-1f75b62f537a",
   "metadata": {},
   "outputs": [
    {
     "data": {
      "text/plain": [
       "True"
      ]
     },
     "execution_count": 39,
     "metadata": {},
     "output_type": "execute_result"
    }
   ],
   "source": [
    "t1 == t2"
   ]
  },
  {
   "cell_type": "markdown",
   "id": "11b48694-cb28-43cf-9a39-1cd6af864fc5",
   "metadata": {},
   "source": [
    "True"
   ]
  },
  {
   "cell_type": "code",
   "execution_count": 40,
   "id": "dd5c9a5f-c4cd-49cd-bcf4-6f31d257c245",
   "metadata": {},
   "outputs": [
    {
     "data": {
      "text/plain": [
       "False"
      ]
     },
     "execution_count": 40,
     "metadata": {},
     "output_type": "execute_result"
    }
   ],
   "source": [
    "t1 is t2"
   ]
  },
  {
   "cell_type": "markdown",
   "id": "24aeb18a-8e43-44f3-b99e-80b20589ff4b",
   "metadata": {},
   "source": [
    "False\n",
    "In other words, pickling and then unpickling has the same effect as copying the object.\n",
    "\n",
    "You can use pickle to store non-strings in a database. In fact, this combination is so common that it has been encapsulated in a module called shelve.\n",
    "\n",
    "https://www.tutorialspoint.com/python_data_persistence/python_data_persistence_shelve_module.htm"
   ]
  },
  {
   "cell_type": "code",
   "execution_count": 44,
   "id": "d2c59aba-0aa2-4299-9b68-b3fedb442ea7",
   "metadata": {
    "tags": []
   },
   "outputs": [
    {
     "name": "stdout",
     "output_type": "stream",
     "text": [
      "<shelve.DbfilenameShelf object at 0x000001E0A6540CA0>\n"
     ]
    },
    {
     "ename": "KeyError",
     "evalue": "b'ajay'",
     "output_type": "error",
     "traceback": [
      "\u001b[1;31m---------------------------------------------------------------------------\u001b[0m",
      "\u001b[1;31mKeyError\u001b[0m                                  Traceback (most recent call last)",
      "\u001b[1;32m~\\anaconda3\\lib\\shelve.py\u001b[0m in \u001b[0;36m__getitem__\u001b[1;34m(self, key)\u001b[0m\n\u001b[0;32m    110\u001b[0m         \u001b[1;32mtry\u001b[0m\u001b[1;33m:\u001b[0m\u001b[1;33m\u001b[0m\u001b[1;33m\u001b[0m\u001b[0m\n\u001b[1;32m--> 111\u001b[1;33m             \u001b[0mvalue\u001b[0m \u001b[1;33m=\u001b[0m \u001b[0mself\u001b[0m\u001b[1;33m.\u001b[0m\u001b[0mcache\u001b[0m\u001b[1;33m[\u001b[0m\u001b[0mkey\u001b[0m\u001b[1;33m]\u001b[0m\u001b[1;33m\u001b[0m\u001b[1;33m\u001b[0m\u001b[0m\n\u001b[0m\u001b[0;32m    112\u001b[0m         \u001b[1;32mexcept\u001b[0m \u001b[0mKeyError\u001b[0m\u001b[1;33m:\u001b[0m\u001b[1;33m\u001b[0m\u001b[1;33m\u001b[0m\u001b[0m\n",
      "\u001b[1;31mKeyError\u001b[0m: 'ajay'",
      "\nDuring handling of the above exception, another exception occurred:\n",
      "\u001b[1;31mKeyError\u001b[0m                                  Traceback (most recent call last)",
      "\u001b[1;32m~\\AppData\\Local\\Temp\\ipykernel_187924\\1660627326.py\u001b[0m in \u001b[0;36m<module>\u001b[1;34m\u001b[0m\n\u001b[0;32m      5\u001b[0m \u001b[0ms\u001b[0m\u001b[1;33m[\u001b[0m\u001b[1;34m'marks'\u001b[0m\u001b[1;33m]\u001b[0m\u001b[1;33m=\u001b[0m\u001b[1;36m75\u001b[0m\u001b[1;33m\u001b[0m\u001b[1;33m\u001b[0m\u001b[0m\n\u001b[0;32m      6\u001b[0m \u001b[0mprint\u001b[0m\u001b[1;33m(\u001b[0m\u001b[0ms\u001b[0m\u001b[1;33m)\u001b[0m\u001b[1;33m\u001b[0m\u001b[1;33m\u001b[0m\u001b[0m\n\u001b[1;32m----> 7\u001b[1;33m \u001b[0ms\u001b[0m\u001b[1;33m[\u001b[0m\u001b[1;34m'ajay'\u001b[0m\u001b[1;33m]\u001b[0m\u001b[1;33m\u001b[0m\u001b[1;33m\u001b[0m\u001b[0m\n\u001b[0m\u001b[0;32m      8\u001b[0m \u001b[0ms\u001b[0m\u001b[1;33m.\u001b[0m\u001b[0mclose\u001b[0m\u001b[1;33m(\u001b[0m\u001b[1;33m)\u001b[0m\u001b[1;33m\u001b[0m\u001b[1;33m\u001b[0m\u001b[0m\n",
      "\u001b[1;32m~\\anaconda3\\lib\\shelve.py\u001b[0m in \u001b[0;36m__getitem__\u001b[1;34m(self, key)\u001b[0m\n\u001b[0;32m    111\u001b[0m             \u001b[0mvalue\u001b[0m \u001b[1;33m=\u001b[0m \u001b[0mself\u001b[0m\u001b[1;33m.\u001b[0m\u001b[0mcache\u001b[0m\u001b[1;33m[\u001b[0m\u001b[0mkey\u001b[0m\u001b[1;33m]\u001b[0m\u001b[1;33m\u001b[0m\u001b[1;33m\u001b[0m\u001b[0m\n\u001b[0;32m    112\u001b[0m         \u001b[1;32mexcept\u001b[0m \u001b[0mKeyError\u001b[0m\u001b[1;33m:\u001b[0m\u001b[1;33m\u001b[0m\u001b[1;33m\u001b[0m\u001b[0m\n\u001b[1;32m--> 113\u001b[1;33m             \u001b[0mf\u001b[0m \u001b[1;33m=\u001b[0m \u001b[0mBytesIO\u001b[0m\u001b[1;33m(\u001b[0m\u001b[0mself\u001b[0m\u001b[1;33m.\u001b[0m\u001b[0mdict\u001b[0m\u001b[1;33m[\u001b[0m\u001b[0mkey\u001b[0m\u001b[1;33m.\u001b[0m\u001b[0mencode\u001b[0m\u001b[1;33m(\u001b[0m\u001b[0mself\u001b[0m\u001b[1;33m.\u001b[0m\u001b[0mkeyencoding\u001b[0m\u001b[1;33m)\u001b[0m\u001b[1;33m]\u001b[0m\u001b[1;33m)\u001b[0m\u001b[1;33m\u001b[0m\u001b[1;33m\u001b[0m\u001b[0m\n\u001b[0m\u001b[0;32m    114\u001b[0m             \u001b[0mvalue\u001b[0m \u001b[1;33m=\u001b[0m \u001b[0mUnpickler\u001b[0m\u001b[1;33m(\u001b[0m\u001b[0mf\u001b[0m\u001b[1;33m)\u001b[0m\u001b[1;33m.\u001b[0m\u001b[0mload\u001b[0m\u001b[1;33m(\u001b[0m\u001b[1;33m)\u001b[0m\u001b[1;33m\u001b[0m\u001b[1;33m\u001b[0m\u001b[0m\n\u001b[0;32m    115\u001b[0m             \u001b[1;32mif\u001b[0m \u001b[0mself\u001b[0m\u001b[1;33m.\u001b[0m\u001b[0mwriteback\u001b[0m\u001b[1;33m:\u001b[0m\u001b[1;33m\u001b[0m\u001b[1;33m\u001b[0m\u001b[0m\n",
      "\u001b[1;32m~\\anaconda3\\lib\\dbm\\dumb.py\u001b[0m in \u001b[0;36m__getitem__\u001b[1;34m(self, key)\u001b[0m\n\u001b[0;32m    145\u001b[0m             \u001b[0mkey\u001b[0m \u001b[1;33m=\u001b[0m \u001b[0mkey\u001b[0m\u001b[1;33m.\u001b[0m\u001b[0mencode\u001b[0m\u001b[1;33m(\u001b[0m\u001b[1;34m'utf-8'\u001b[0m\u001b[1;33m)\u001b[0m\u001b[1;33m\u001b[0m\u001b[1;33m\u001b[0m\u001b[0m\n\u001b[0;32m    146\u001b[0m         \u001b[0mself\u001b[0m\u001b[1;33m.\u001b[0m\u001b[0m_verify_open\u001b[0m\u001b[1;33m(\u001b[0m\u001b[1;33m)\u001b[0m\u001b[1;33m\u001b[0m\u001b[1;33m\u001b[0m\u001b[0m\n\u001b[1;32m--> 147\u001b[1;33m         \u001b[0mpos\u001b[0m\u001b[1;33m,\u001b[0m \u001b[0msiz\u001b[0m \u001b[1;33m=\u001b[0m \u001b[0mself\u001b[0m\u001b[1;33m.\u001b[0m\u001b[0m_index\u001b[0m\u001b[1;33m[\u001b[0m\u001b[0mkey\u001b[0m\u001b[1;33m]\u001b[0m     \u001b[1;31m# may raise KeyError\u001b[0m\u001b[1;33m\u001b[0m\u001b[1;33m\u001b[0m\u001b[0m\n\u001b[0m\u001b[0;32m    148\u001b[0m         \u001b[1;32mwith\u001b[0m \u001b[0m_io\u001b[0m\u001b[1;33m.\u001b[0m\u001b[0mopen\u001b[0m\u001b[1;33m(\u001b[0m\u001b[0mself\u001b[0m\u001b[1;33m.\u001b[0m\u001b[0m_datfile\u001b[0m\u001b[1;33m,\u001b[0m \u001b[1;34m'rb'\u001b[0m\u001b[1;33m)\u001b[0m \u001b[1;32mas\u001b[0m \u001b[0mf\u001b[0m\u001b[1;33m:\u001b[0m\u001b[1;33m\u001b[0m\u001b[1;33m\u001b[0m\u001b[0m\n\u001b[0;32m    149\u001b[0m             \u001b[0mf\u001b[0m\u001b[1;33m.\u001b[0m\u001b[0mseek\u001b[0m\u001b[1;33m(\u001b[0m\u001b[0mpos\u001b[0m\u001b[1;33m)\u001b[0m\u001b[1;33m\u001b[0m\u001b[1;33m\u001b[0m\u001b[0m\n",
      "\u001b[1;31mKeyError\u001b[0m: b'ajay'"
     ]
    }
   ],
   "source": [
    "import shelve\n",
    "s=shelve.open(\"test\")\n",
    "s['name']=\"Ajay\"\n",
    "s['age']=23\n",
    "s['marks']=75\n",
    "print(s)\n",
    "s['ajay']\n",
    "s.close()\n"
   ]
  },
  {
   "cell_type": "markdown",
   "id": "7895ad7d-e9e8-42e7-a476-71a7e82d1c51",
   "metadata": {},
   "source": [
    "    14.8  Pipes\n",
    "\n",
    "Most operating systems provide a command-line interface, also known as a shell. Shells usually provide commands to navigate the file system and launch applications. For example, in Unix you can change directories with cd, display the contents of a directory with ls, and launch a web browser by typing (for example) firefox.\n",
    "\n",
    "Any program that you can launch from the shell can also be launched from Python using a pipe object, which represents a running program.\n",
    "\n",
    "For example, the Unix command ls -l normally displays the contents of the current directory in long format. You can launch ls with os.popen1:"
   ]
  },
  {
   "cell_type": "code",
   "execution_count": 45,
   "id": "fde6dfbd-9a83-4ee4-92a6-fee1aaf52b0e",
   "metadata": {},
   "outputs": [],
   "source": [
    "cmd = 'ls -l'\n",
    "fp = os.popen(cmd)"
   ]
  },
  {
   "cell_type": "markdown",
   "id": "19ffa4cd-6cfb-4312-9f0a-30df48bb0d0f",
   "metadata": {},
   "source": [
    "The argument is a string that contains a shell command. The return value is an object that behaves like an open file. You can read the output from the ls process one line at a time with readline or get the whole thing at once with read:"
   ]
  },
  {
   "cell_type": "code",
   "execution_count": 46,
   "id": "a400261f-35b8-498d-af79-3ecb339890df",
   "metadata": {},
   "outputs": [],
   "source": [
    "res = fp.read()"
   ]
  },
  {
   "cell_type": "markdown",
   "id": "86a0756a-65f2-4a2d-ab47-c173689bc9b0",
   "metadata": {},
   "source": [
    "When you are done, you close the pipe like a file:"
   ]
  },
  {
   "cell_type": "code",
   "execution_count": 47,
   "id": "5b416b04-e6d7-4ccb-b20c-b0171fde0b0f",
   "metadata": {},
   "outputs": [
    {
     "name": "stdout",
     "output_type": "stream",
     "text": [
      "1\n"
     ]
    }
   ],
   "source": [
    "stat = fp.close()\n",
    "print(stat)"
   ]
  },
  {
   "cell_type": "markdown",
   "id": "bfafeebd-9163-4ae7-80b7-8286e94fedf9",
   "metadata": {},
   "source": [
    "None\n",
    "The return value is the final status of the ls process; None means that it ended normally (with no errors).\n",
    "\n",
    "For example, most Unix systems provide a command called md5sum that reads the contents of a file and computes a “checksum”. You can read about MD5 at http://en.wikipedia.org/wiki/Md5. This command provides an efficient way to check whether two files have the same contents. The probability that different contents yield the same checksum is very small (that is, unlikely to happen before the universe collapses).\n",
    "\n",
    "You can use a pipe to run md5sum from Python and get the result:\n",
    "\n",
    ">>> filename = 'book.tex'\n",
    ">>> cmd = 'md5sum ' + filename\n",
    ">>> fp = os.popen(cmd)\n",
    ">>> res = fp.read()\n",
    ">>> stat = fp.close()\n",
    ">>> print(res)\n",
    "1e0033f0ed0656636de0d75144ba32e0  book.tex\n",
    ">>> print(stat)\n",
    "None"
   ]
  },
  {
   "cell_type": "markdown",
   "id": "93627258-742c-4d8c-a4a0-400a900c298f",
   "metadata": {},
   "source": [
    "    14.9  Writing modules\n",
    "\n",
    "Any file that contains Python code can be imported as a module. For example, suppose you have a file named wc.py with the following code:\n",
    "\n",
    "def linecount(filename):\n",
    "    count = 0\n",
    "    for line in open(filename):\n",
    "        count += 1\n",
    "    return count\n",
    "\n",
    "print(linecount('wc.py'))"
   ]
  },
  {
   "cell_type": "markdown",
   "id": "4df4975a-e354-417e-9b2a-4119b0111af0",
   "metadata": {},
   "source": [
    "If you run this program, it reads itself and prints the number of lines in the file, which is 7. You can also import it like this:"
   ]
  },
  {
   "cell_type": "code",
   "execution_count": 48,
   "id": "327c9954-4959-49b0-8ad5-154c8d28d033",
   "metadata": {},
   "outputs": [
    {
     "name": "stdout",
     "output_type": "stream",
     "text": [
      "7\n"
     ]
    }
   ],
   "source": [
    "import wc"
   ]
  },
  {
   "cell_type": "markdown",
   "id": "fd164044-5f0f-4df6-89fb-b6c54b666755",
   "metadata": {},
   "source": [
    "7\n",
    "Now you have a module object wc:"
   ]
  },
  {
   "cell_type": "code",
   "execution_count": 49,
   "id": "230a6097-8388-4487-8818-20a1b23e02e8",
   "metadata": {
    "tags": []
   },
   "outputs": [
    {
     "data": {
      "text/plain": [
       "<module 'wc' from 'C:\\\\Users\\\\jimsy\\\\Documents in user jimSy\\\\GitHub\\\\ThinkPython2\\\\JimWork\\\\wc.py'>"
      ]
     },
     "execution_count": 49,
     "metadata": {},
     "output_type": "execute_result"
    }
   ],
   "source": [
    "wc"
   ]
  },
  {
   "cell_type": "markdown",
   "id": "6d255eb6-ae44-4d55-b3a2-3e908fea1297",
   "metadata": {},
   "source": [
    "<module 'wc' from 'wc.py'>\n",
    "The module object provides linecount:"
   ]
  },
  {
   "cell_type": "code",
   "execution_count": 50,
   "id": "6a6a0b84-a548-452f-a689-1d9924bd5148",
   "metadata": {
    "tags": []
   },
   "outputs": [
    {
     "data": {
      "text/plain": [
       "7"
      ]
     },
     "execution_count": 50,
     "metadata": {},
     "output_type": "execute_result"
    }
   ],
   "source": [
    "wc.linecount('wc.py')"
   ]
  },
  {
   "cell_type": "markdown",
   "id": "f8e7d52e-d9d4-4ae9-9d1b-7a2a129d12b1",
   "metadata": {},
   "source": [
    "7\n",
    "So that’s how you write modules in Python.\n",
    "\n",
    "The only problem with this example is that when you import the module it runs the test code at the bottom. Normally when you import a module, it defines new functions but it doesn’t run them.\n",
    "\n",
    "Programs that will be imported as modules often use the following idiom:"
   ]
  },
  {
   "cell_type": "code",
   "execution_count": 51,
   "id": "5044a9b3-3e18-42b4-812e-9b4072ebda1d",
   "metadata": {},
   "outputs": [
    {
     "name": "stdout",
     "output_type": "stream",
     "text": [
      "7\n"
     ]
    }
   ],
   "source": [
    "import wc\n",
    "if __name__ == '__main__':\n",
    "    print(wc.linecount('wc.py'))"
   ]
  },
  {
   "cell_type": "markdown",
   "id": "b524b572-9104-4bb8-9f66-88ca9f3043e4",
   "metadata": {},
   "source": [
    "__name__ is a built-in variable that is set when the program starts. If the program is running as a script, __name__ has the value '__main__'; in that case, the test code runs. Otherwise, if the module is being imported, the test code is skipped.\n",
    "\n",
    "\n",
    "As an exercise, type this example into a file named wc.py and run it as a script. Then run the Python interpreter and import wc. What is the value of __name__ when the module is being imported?\n",
    "\n",
    "Warning: If you import a module that has already been imported, Python does nothing. It does not re-read the file, even if it has changed.\n",
    "\n",
    "If you want to reload a module, you can use the built-in function reload, but it can be tricky, so the safest thing to do is restart the interpreter and then import the module again.\n",
    "\n",
    "14.10  Debugging\n",
    "\n",
    "When you are reading and writing files, you might run into problems with whitespace. These errors can be hard to debug because spaces, tabs and newlines are normally invisible:"
   ]
  },
  {
   "cell_type": "code",
   "execution_count": 52,
   "id": "a52291d3-e584-4ec8-bdbf-5efb2d57d06e",
   "metadata": {},
   "outputs": [
    {
     "name": "stdout",
     "output_type": "stream",
     "text": [
      "1 2\t 3\n",
      " 4\n"
     ]
    }
   ],
   "source": [
    "s = '1 2\\t 3\\n 4'\n",
    "print(s)"
   ]
  },
  {
   "cell_type": "markdown",
   "id": "2c35e8aa-4cf1-41df-95dc-5a286288e3bb",
   "metadata": {},
   "source": [
    "1 2  3\n",
    " 4\n",
    "\n",
    "The built-in function repr can help. It takes any object as an argument and returns a string representation of the object. For strings, it represents whitespace characters with backslash sequences:"
   ]
  },
  {
   "cell_type": "code",
   "execution_count": 53,
   "id": "c0c93328-29a4-483d-84b9-faefcc480efd",
   "metadata": {},
   "outputs": [
    {
     "name": "stdout",
     "output_type": "stream",
     "text": [
      "'1 2\\t 3\\n 4'\n"
     ]
    }
   ],
   "source": [
    "print(repr(s))"
   ]
  },
  {
   "cell_type": "markdown",
   "id": "81e9d426-8d93-4abe-8f39-6a3023556d44",
   "metadata": {},
   "source": [
    "'1 2\\t 3\\n 4'\n",
    "This can be helpful for debugging.\n",
    "\n",
    "One other problem you might run into is that different systems use different characters to indicate the end of a line. Some systems use a newline, represented \\n. Others use a return character, represented \\r. Some use both. If you move files between different systems, these inconsistencies can cause problems.\n",
    "\n",
    "For most systems, there are applications to convert from one format to another. You can find them (and read more about this issue) at http://en.wikipedia.org/wiki/Newline. Or, of course, you could write one yourself.\n",
    "\n",
    "    14.11  Glossary\n",
    "persistent:\n",
    "\n",
    "Pertaining to a program that runs indefinitely and keeps at least some of its data in permanent storage.\n",
    "\n",
    "format operator:\n",
    "\n",
    "An operator, %, that takes a format string and a tuple and generates a string that includes the elements of the tuple formatted as specified by the format string.\n",
    "\n",
    "format string:\n",
    "\n",
    "A string, used with the format operator, that contains format sequences.\n",
    "\n",
    "format sequence:\n",
    "\n",
    "A sequence of characters in a format string, like %d, that specifies how a value should be formatted.\n",
    "\n",
    "text file:\n",
    "\n",
    "A sequence of characters stored in permanent storage like a hard drive.\n",
    "\n",
    "directory:\n",
    "\n",
    "A named collection of files, also called a folder.\n",
    "\n",
    "path:\n",
    "\n",
    "A string that identifies a file.\n",
    "\n",
    "relative path:\n",
    "\n",
    "A path that starts from the current directory.\n",
    "\n",
    "absolute path:\n",
    "\n",
    "A path that starts from the topmost directory in the file system.\n",
    "\n",
    "catch:\n",
    "\n",
    "To prevent an exception from terminating a program using the try and except statements.\n",
    "\n",
    "database:\n",
    "\n",
    "A file whose contents are organized like a dictionary with keys that correspond to values.\n",
    "\n",
    "bytes object:\n",
    "\n",
    "An object similar to a string.\n",
    "\n",
    "shell:\n",
    "\n",
    "A program that allows users to type commands and then executes them by starting other programs.\n",
    "\n",
    "pipe object:\n",
    "\n",
    "An object that represents a running program, allowing a Python program to run commands and read the results.\n",
    "\n",
    "        14.12  Exercises\n",
    "Exercise 1  \n",
    "Write a function called sed that takes as arguments a pattern string, a replacement string, and two filenames; it should read the first file and write the contents into the second file (creating it if necessary). If the pattern string appears anywhere in the file, it should be replaced with the replacement string.\n",
    "\n",
    "If an error occurs while opening, reading, writing or closing files, your program should catch the exception, print an error message, and exit. Solution: http://thinkpython2.com/code/sed.py.\n",
    "\n",
    "Exercise 2  \n",
    "If you download my solution to Exercise 2 from http://thinkpython2.com/code/anagram_sets.py, you’ll see that it creates a dictionary that maps from a sorted string of letters to the list of words that can be spelled with those letters. For example, 'opst' maps to the list ['opts', 'post', 'pots', 'spot', 'stop', 'tops'].\n",
    "\n",
    "Write a module that imports anagram_sets and provides two new functions: store_anagrams should store the anagram dictionary in a “shelf”; read_anagrams should look up a word and return a list of its anagrams. Solution: http://thinkpython2.com/code/anagram_db.py.\n",
    "\n",
    "Exercise 3  \n",
    "In a large collection of MP3 files, there may be more than one copy of the same song, stored in different directories or with different file names. The goal of this exercise is to search for duplicates.\n",
    "\n",
    "Write a program that searches a directory and all of its subdirectories, recursively, and returns a list of complete paths for all files with a given suffix (like .mp3). Hint: os.path provides several useful functions for manipulating file and path names.\n",
    "To recognize duplicates, you can use md5sum to compute a “checksum” for each files. If two files have the same checksum, they probably have the same contents.\n",
    "To double-check, you can use the Unix command diff.\n",
    "Solution: http://thinkpython2.com/code/find_duplicates.py.\n",
    "\n",
    "1\n",
    "popen is deprecated now, which means we are supposed to stop using it and start using the subprocess module. But for simple cases, I find subprocess more complicated than necessary. So I am going to keep using popen until they take it away.\n",
    "Buy this book at Amazon.com"
   ]
  },
  {
   "cell_type": "code",
   "execution_count": null,
   "id": "657b8948-f775-4074-83d5-0e622bb5c3f5",
   "metadata": {},
   "outputs": [],
   "source": []
  }
 ],
 "metadata": {
  "kernelspec": {
   "display_name": "Python 3 (ipykernel)",
   "language": "python",
   "name": "python3"
  },
  "language_info": {
   "codemirror_mode": {
    "name": "ipython",
    "version": 3
   },
   "file_extension": ".py",
   "mimetype": "text/x-python",
   "name": "python",
   "nbconvert_exporter": "python",
   "pygments_lexer": "ipython3",
   "version": "3.9.13"
  }
 },
 "nbformat": 4,
 "nbformat_minor": 5
}
