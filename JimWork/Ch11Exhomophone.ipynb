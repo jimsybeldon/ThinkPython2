{
 "cells": [
  {
   "cell_type": "code",
   "execution_count": 3,
   "metadata": {},
   "outputs": [
    {
     "ename": "FileNotFoundError",
     "evalue": "[Errno 2] No such file or directory: 'c06d'",
     "output_type": "error",
     "traceback": [
      "\u001b[1;31m---------------------------------------------------------------------------\u001b[0m",
      "\u001b[1;31mFileNotFoundError\u001b[0m                         Traceback (most recent call last)",
      "Cell \u001b[1;32mIn[3], line 69\u001b[0m\n\u001b[0;32m     65\u001b[0m     \u001b[39mreturn\u001b[39;00m \u001b[39mTrue\u001b[39;00m\n\u001b[0;32m     68\u001b[0m \u001b[39mif\u001b[39;00m \u001b[39m__name__\u001b[39m \u001b[39m==\u001b[39m \u001b[39m'\u001b[39m\u001b[39m__main__\u001b[39m\u001b[39m'\u001b[39m:\n\u001b[1;32m---> 69\u001b[0m     phonetic \u001b[39m=\u001b[39m read_dictionary()\n\u001b[0;32m     70\u001b[0m     word_dict \u001b[39m=\u001b[39m make_word_dict()\n\u001b[0;32m     72\u001b[0m     \u001b[39mfor\u001b[39;00m word \u001b[39min\u001b[39;00m word_dict:\n",
      "File \u001b[1;32mc:\\Users\\jimsy\\Documents in user jimSy\\GitHub\\ThinkPython2\\JimWork\\pronounce.py:27\u001b[0m, in \u001b[0;36mread_dictionary\u001b[1;34m(filename)\u001b[0m\n\u001b[0;32m     16\u001b[0m \u001b[39m\"\"\"Reads from a file and builds a dictionary that maps from\u001b[39;00m\n\u001b[0;32m     17\u001b[0m \u001b[39meach word to a string that describes its primary pronunciation.\u001b[39;00m\n\u001b[0;32m     18\u001b[0m \n\u001b[1;32m   (...)\u001b[0m\n\u001b[0;32m     24\u001b[0m \u001b[39mreturns: map from string to pronunciation\u001b[39;00m\n\u001b[0;32m     25\u001b[0m \u001b[39m\"\"\"\u001b[39;00m\n\u001b[0;32m     26\u001b[0m d \u001b[39m=\u001b[39m \u001b[39mdict\u001b[39m()\n\u001b[1;32m---> 27\u001b[0m fin \u001b[39m=\u001b[39m \u001b[39mopen\u001b[39;49m(filename)\n\u001b[0;32m     28\u001b[0m \u001b[39mfor\u001b[39;00m line \u001b[39min\u001b[39;00m fin:\n\u001b[0;32m     29\u001b[0m \n\u001b[0;32m     30\u001b[0m     \u001b[39m# skip over the comments\u001b[39;00m\n\u001b[0;32m     31\u001b[0m     \u001b[39mif\u001b[39;00m line[\u001b[39m0\u001b[39m] \u001b[39m==\u001b[39m \u001b[39m'\u001b[39m\u001b[39m#\u001b[39m\u001b[39m'\u001b[39m: \u001b[39mcontinue\u001b[39;00m\n",
      "\u001b[1;31mFileNotFoundError\u001b[0m: [Errno 2] No such file or directory: 'c06d'"
     ]
    }
   ],
   "source": [
    "\"\"\"This module contains a code example related to\n",
    "\n",
    "Think Python, 2nd Edition\n",
    "by Allen Downey\n",
    "http://thinkpython2.com\n",
    "\n",
    "Copyright 2015 Allen Downey\n",
    "\n",
    "License: http://creativecommons.org/licenses/by/4.0/\n",
    "\"\"\"\n",
    "\n",
    "from __future__ import print_function, division\n",
    "\n",
    "from pronounce import read_dictionary\n",
    "\n",
    "\n",
    "def make_word_dict():\n",
    "    \"\"\"Read. the words in words.txt and return a dictionary\n",
    "    that contains the words as keys.\"\"\"\n",
    "    d = dict()\n",
    "    fin = open('words.txt')\n",
    "    for line in fin:\n",
    "        word = line.strip().lower()\n",
    "        d[word] = word\n",
    "\n",
    "    return d\n",
    "\n",
    "\n",
    "def homophones(a, b, phonetic):\n",
    "    \"\"\"Checks if words two can be pronounced the same way.\n",
    "\n",
    "    If either word is not in the pronouncing dictionary, return False\n",
    "\n",
    "    a, b: strings\n",
    "    phonetic: map from words to pronunciation codes\n",
    "    \"\"\"\n",
    "    if a not in phonetic or b not in phonetic:\n",
    "        return False\n",
    "\n",
    "    return phonetic[a] == phonetic[b]\n",
    "\n",
    "\n",
    "def check_word(word, word_dict, phonetic):\n",
    "    \"\"\"Checks to see if the word has the following property:\n",
    "    removing the first letter yields a word with the same\n",
    "    pronunciation, and removing the second letter yields a word\n",
    "    with the same pronunciation.\n",
    "\n",
    "    word: string\n",
    "    word_dict: dictionary with words as keys\n",
    "    phonetic: map from words to pronunciation codes\n",
    "    \"\"\"\n",
    "    word1 = word[1:] \n",
    "    if word1 not in word_dict:\n",
    "        return False\n",
    "    if not homophones(word, word1, phonetic):\n",
    "        return False\n",
    "\n",
    "    word2 = word[0] + word[2:]\n",
    "    if word2 not in word_dict:\n",
    "        return False\n",
    "    if not homophones(word, word2, phonetic):\n",
    "        return False\n",
    "\n",
    "    return True\n",
    "\n",
    "\n",
    "if __name__ == '__main__':\n",
    "    phonetic = read_dictionary()\n",
    "    word_dict = make_word_dict()\n",
    "\n",
    "    for word in word_dict:\n",
    "        if check_word(word, word_dict, phonetic):\n",
    "            print(word, word[1:], word[0] + word[2:])\n"
   ]
  }
 ],
 "metadata": {
  "kernelspec": {
   "display_name": "Python 3",
   "language": "python",
   "name": "python3"
  },
  "language_info": {
   "codemirror_mode": {
    "name": "ipython",
    "version": 3
   },
   "file_extension": ".py",
   "mimetype": "text/x-python",
   "name": "python",
   "nbconvert_exporter": "python",
   "pygments_lexer": "ipython3",
   "version": "3.10.9 (tags/v3.10.9:1dd9be6, Dec  6 2022, 20:01:21) [MSC v.1934 64 bit (AMD64)]"
  },
  "orig_nbformat": 4,
  "vscode": {
   "interpreter": {
    "hash": "631e1f049cd2d2d8180e86c795294feb9c61d2aee0f8a54a46db8f780f364367"
   }
  }
 },
 "nbformat": 4,
 "nbformat_minor": 2
}
