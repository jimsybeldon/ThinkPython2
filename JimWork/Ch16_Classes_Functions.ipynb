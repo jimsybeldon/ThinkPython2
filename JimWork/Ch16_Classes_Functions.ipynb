{
 "cells": [
  {
   "cell_type": "markdown",
   "id": "2d094b1a-7b7b-4056-8f7b-cb6a5fb0fbd8",
   "metadata": {},
   "source": [
    "    Chapter 16  Classes and functions\n",
    "\n",
    "Now that we know how to create new types, the next step is to write functions that take programmer-defined objects as parameters and return them as results. In this chapter I also present “functional programming style” and two new program development plans.\n",
    "\n",
    "Code examples from this chapter are available from http://thinkpython2.com/code/Time1.py. Solutions to the exercises are at http://thinkpython2.com/code/Time1_soln.py.\n",
    "\n",
    "    16.1  Time\n",
    "\n",
    "As another example of a programmer-defined type, we’ll define a class called Time that records the time of day. The class definition looks like this:"
   ]
  },
  {
   "cell_type": "code",
   "execution_count": 2,
   "id": "5b453fc7-bba7-401f-a6ac-e7fe1bc856cc",
   "metadata": {
    "tags": []
   },
   "outputs": [],
   "source": [
    "class Time:\n",
    "    \"\"\"Represents the time of day.\n",
    "       \n",
    "    attributes: hour, minute, second\n",
    "    \"\"\""
   ]
  },
  {
   "cell_type": "markdown",
   "id": "a2a0d23b-7c4e-4e19-8582-6f097a3493b1",
   "metadata": {},
   "source": [
    "We can create a new Time object and assign attributes for hours, minutes, and seconds:"
   ]
  },
  {
   "cell_type": "code",
   "execution_count": 35,
   "id": "bd300585-6d3b-4ef2-8725-fd9b91183cc0",
   "metadata": {},
   "outputs": [
    {
     "name": "stdout",
     "output_type": "stream",
     "text": [
      "1\n",
      "59\n",
      "7\n"
     ]
    },
    {
     "data": {
      "text/plain": [
       "'01:59:07'"
      ]
     },
     "execution_count": 35,
     "metadata": {},
     "output_type": "execute_result"
    }
   ],
   "source": [
    "time = Time()\n",
    "time.hour = 1\n",
    "time.minute = 59\n",
    "time.second = 7\n",
    "print(time.hour)\n",
    "print(time.minute)\n",
    "print(time.second)\n",
    "'%.2d:%.2d:%.2d'% (time.hour,time.minute,time.second)"
   ]
  },
  {
   "cell_type": "markdown",
   "id": "d93a0f4d-9cba-4632-be96-fc061843815c",
   "metadata": {},
   "source": [
    "    The state diagram for the Time object looks like Figure 16.1.\n",
    "\n",
    "As an exercise, write a function called print_time that takes a Time object and prints it in the form hour:minute:second. Hint: the format sequence '%.2d' prints an integer using at least two digits, including a leading zero if necessary.\n",
    "\n",
    "Write a boolean function called is_after that takes two Time objects, t1 and t2, and returns True if t1 follows t2 chronologically and False otherwise. Challenge: don’t use an if statement."
   ]
  },
  {
   "attachments": {
    "ccf02d6f-6e95-4a36-8c6e-4b4e58b9940d.png": {
     "image/png": "[encoded data removed]"
    }
   },
   "cell_type": "markdown",
   "id": "6e3a2816-b32c-4319-8c84-c40c5504e4e1",
   "metadata": {},
   "source": [
    "![image.png](attachment:ccf02d6f-6e95-4a36-8c6e-4b4e58b9940d.png)"
   ]
  },
  {
   "cell_type": "markdown",
   "id": "6a90c131-13cf-4be5-8d3d-4786e1720160",
   "metadata": {},
   "source": [
    "    16.2  Pure functions\n",
    "\n",
    "In the next few sections, we’ll write two functions that add time values. They demonstrate two kinds of functions: pure functions and modifiers. They also demonstrate a development plan I’ll call prototype and patch, which is a way of tackling a complex problem by starting with a simple prototype and incrementally dealing with the complications.\n",
    "\n",
    "Here is a simple prototype of add_time:"
   ]
  },
  {
   "cell_type": "code",
   "execution_count": 42,
   "id": "023bcc31-bc2c-407d-a682-263dac31b8b8",
   "metadata": {},
   "outputs": [],
   "source": [
    "def add_time(t1, t2):\n",
    "    sum = Time()\n",
    "    sum.hour = t1.hour + t2.hour\n",
    "    sum.minute = t1.minute + t2.minute\n",
    "    sum.second = t1.second + t2.second\n",
    "    return sum\n"
   ]
  },
  {
   "cell_type": "markdown",
   "id": "c62d05f0-c751-434a-9033-6d0446ae24c6",
   "metadata": {},
   "source": [
    "The function creates a new Time object, initializes its attributes, and returns a reference to the new object. This is called a pure function because it does not modify any of the objects passed to it as arguments and it has no effect, like displaying a value or getting user input, other than returning a value.\n",
    "\n",
    "To test this function, I’ll create two Time objects: start contains the start time of a movie, like Monty Python and the Holy Grail, and duration contains the run time of the movie, which is one hour 35 minutes.\n",
    "\n",
    "add_time figures out when the movie will be done."
   ]
  },
  {
   "cell_type": "code",
   "execution_count": 45,
   "id": "ec7b1109-4537-41d0-9816-f514601256e5",
   "metadata": {},
   "outputs": [
    {
     "name": "stdout",
     "output_type": "stream",
     "text": [
      "10:80:00\n"
     ]
    }
   ],
   "source": [
    "start = Time()\n",
    "start.hour = 9\n",
    "start.minute = 45\n",
    "start.second =  0\n",
    "\n",
    "duration = Time()\n",
    "duration.hour = 1\n",
    "duration.minute = 35\n",
    "duration.second = 0\n",
    "\n",
    "done = add_time(start, duration)\n",
    "## print_time(done)\n",
    "print('%.2d:%.2d:%.2d'% (done.hour,done.minute,done.second))"
   ]
  },
  {
   "cell_type": "markdown",
   "id": "bdf8dd23-86a9-4739-b246-68b5914152ab",
   "metadata": {},
   "source": [
    "10:80:00\n",
    "The result, 10:80:00 might not be what you were hoping for. The problem is that this function does not deal with cases where the number of seconds or minutes adds up to more than sixty. When that happens, we have to “carry” the extra seconds into the minute column or the extra minutes into the hour column.\n",
    "\n",
    "Here’s an improved version:"
   ]
  },
  {
   "cell_type": "code",
   "execution_count": 46,
   "id": "409c0135-b6a4-4cf4-8adf-77decf434a20",
   "metadata": {},
   "outputs": [],
   "source": [
    "def add_time(t1, t2):\n",
    "    sum = Time()\n",
    "    sum.hour = t1.hour + t2.hour\n",
    "    sum.minute = t1.minute + t2.minute\n",
    "    sum.second = t1.second + t2.second\n",
    "\n",
    "    if sum.second >= 60:\n",
    "        sum.second -= 60\n",
    "        sum.minute += 1\n",
    "\n",
    "    if sum.minute >= 60:\n",
    "        sum.minute -= 60\n",
    "        sum.hour += 1\n",
    "\n",
    "    return sum"
   ]
  },
  {
   "cell_type": "code",
   "execution_count": 47,
   "id": "961c20ad-3bc8-4c80-8755-1050c4ed4571",
   "metadata": {},
   "outputs": [
    {
     "name": "stdout",
     "output_type": "stream",
     "text": [
      "11:20:00\n"
     ]
    }
   ],
   "source": [
    "start = Time()\n",
    "start.hour = 9\n",
    "start.minute = 45\n",
    "start.second =  0\n",
    "\n",
    "duration = Time()\n",
    "duration.hour = 1\n",
    "duration.minute = 35\n",
    "duration.second = 0\n",
    "\n",
    "done = add_time(start, duration)\n",
    "## print_time(done)\n",
    "print('%.2d:%.2d:%.2d'% (done.hour,done.minute,done.second))"
   ]
  },
  {
   "cell_type": "markdown",
   "id": "e0b5c6c6-5298-493d-acbf-6ddf1b82515b",
   "metadata": {},
   "source": [
    "    Although this function is correct, it is starting to get big. We will see a shorter alternative later."
   ]
  },
  {
   "cell_type": "markdown",
   "id": "4f05cbb4-2de9-4134-9289-b7c380e83b8e",
   "metadata": {},
   "source": [
    "    16.3  Modifiers\n",
    "\n",
    "Sometimes it is useful for a function to modify the objects it gets as parameters. In that case, the changes are visible to the caller. Functions that work this way are called modifiers.\n",
    "\n",
    "increment, which adds a given number of seconds to a Time object, can be written naturally as a modifier. Here is a rough draft:"
   ]
  },
  {
   "cell_type": "markdown",
   "id": "26b1a322-b1fb-4363-8e40-589a55aff4d2",
   "metadata": {},
   "source": [
    "def increment(time, seconds):\n",
    "    time.second += seconds\n",
    "\n",
    "    if time.second >= 60:\n",
    "        time.second -= 60\n",
    "        time.minute += 1\n",
    "\n",
    "    if time.minute >= 60:\n",
    "        time.minute -= 60\n",
    "        time.hour += 1\n",
    "The first line performs the basic operation; the remainder deals with the special cases we saw before.\n",
    "\n",
    "Is this function correct? What happens if seconds is much greater than sixty?\n",
    "\n",
    "In that case, it is not enough to carry once; we have to keep doing it until time.second is less than sixty. One solution is to replace the if statements with while statements. That would make the function correct, but not very efficient. As an exercise, write a correct version of increment that doesn’t contain any loops.\n",
    "\n",
    "Anything that can be done with modifiers can also be done with pure functions. In fact, some programming languages only allow pure functions. There is some evidence that programs that use pure functions are faster to develop and less error-prone than programs that use modifiers. But modifiers are convenient at times, and functional programs tend to be less efficient.\n",
    "\n",
    "In general, I recommend that you write pure functions whenever it is reasonable and resort to modifiers only if there is a compelling advantage. This approach might be called a functional programming style.\n",
    "\n",
    "As an exercise, write a “pure” version of increment that creates and returns a new Time object rather than modifying the parameter.\n",
    "\n",
    "16.4  Prototyping versus planning\n",
    "\n",
    "The development plan I am demonstrating is called “prototype and patch”. For each function, I wrote a prototype that performed the basic calculation and then tested it, patching errors along the way.\n",
    "\n",
    "This approach can be effective, especially if you don’t yet have a deep understanding of the problem. But incremental corrections can generate code that is unnecessarily complicated—since it deals with many special cases—and unreliable—since it is hard to know if you have found all the errors.\n",
    "\n",
    "An alternative is designed development, in which high-level insight into the problem can make the programming much easier. In this case, the insight is that a Time object is really a three-digit number in base 60 (see http://en.wikipedia.org/wiki/Sexagesimal). The second attribute is the “ones column”, the minute attribute is the “sixties column”, and the hour attribute is the “thirty-six hundreds column”.\n",
    "\n",
    "When we wrote add_time and increment, we were effectively doing addition in base 60, which is why we had to carry from one column to the next.\n",
    "\n",
    "This observation suggests another approach to the whole problem—we can convert Time objects to integers and take advantage of the fact that the computer knows how to do integer arithmetic.\n",
    "\n",
    "Here is a function that converts Times to integers:\n",
    "\n",
    "def time_to_int(time):\n",
    "    minutes = time.hour * 60 + time.minute\n",
    "    seconds = minutes * 60 + time.second\n",
    "    return seconds\n",
    "And here is a function that converts an integer to a Time (recall that divmod divides the first argument by the second and returns the quotient and remainder as a tuple).\n",
    "\n",
    "def int_to_time(seconds):\n",
    "    time = Time()\n",
    "    minutes, time.second = divmod(seconds, 60)\n",
    "    time.hour, time.minute = divmod(minutes, 60)\n",
    "    return time\n",
    "You might have to think a bit, and run some tests, to convince yourself that these functions are correct. One way to test them is to check that time_to_int(int_to_time(x)) == x for many values of x. This is an example of a consistency check.\n",
    "\n",
    "Once you are convinced they are correct, you can use them to rewrite add_time:\n",
    "\n",
    "def add_time(t1, t2):\n",
    "    seconds = time_to_int(t1) + time_to_int(t2)\n",
    "    return int_to_time(seconds)\n",
    "This version is shorter than the original, and easier to verify. As an exercise, rewrite increment using time_to_int and int_to_time.\n",
    "\n",
    "In some ways, converting from base 60 to base 10 and back is harder than just dealing with times. Base conversion is more abstract; our intuition for dealing with time values is better.\n",
    "\n",
    "But if we have the insight to treat times as base 60 numbers and make the investment of writing the conversion functions (time_to_int and int_to_time), we get a program that is shorter, easier to read and debug, and more reliable.\n",
    "\n",
    "It is also easier to add features later. For example, imagine subtracting two Times to find the duration between them. The naive approach would be to implement subtraction with borrowing. Using the conversion functions would be easier and more likely to be correct.\n",
    "\n",
    "Ironically, sometimes making a problem harder (or more general) makes it easier (because there are fewer special cases and fewer opportunities for error).\n",
    "\n",
    "16.5  Debugging\n",
    "\n",
    "A Time object is well-formed if the values of minute and second are between 0 and 60 (including 0 but not 60) and if hour is positive. hour and minute should be integer values, but we might allow second to have a fraction part.\n",
    "\n",
    "Requirements like these are called invariants because they should always be true. To put it a different way, if they are not true, something has gone wrong.\n",
    "\n",
    "Writing code to check invariants can help detect errors and find their causes. For example, you might have a function like valid_time that takes a Time object and returns False if it violates an invariant:\n",
    "\n",
    "def valid_time(time):\n",
    "    if time.hour < 0 or time.minute < 0 or time.second < 0:\n",
    "        return False\n",
    "    if time.minute >= 60 or time.second >= 60:\n",
    "        return False\n",
    "    return True\n",
    "At the beginning of each function you could check the arguments to make sure they are valid:\n",
    "\n",
    "def add_time(t1, t2):\n",
    "    if not valid_time(t1) or not valid_time(t2):\n",
    "        raise ValueError('invalid Time object in add_time')\n",
    "    seconds = time_to_int(t1) + time_to_int(t2)\n",
    "    return int_to_time(seconds)\n",
    "Or you could use an assert statement, which checks a given invariant and raises an exception if it fails:\n",
    "\n",
    "def add_time(t1, t2):\n",
    "    assert valid_time(t1) and valid_time(t2)\n",
    "    seconds = time_to_int(t1) + time_to_int(t2)\n",
    "    return int_to_time(seconds)\n",
    "assert statements are useful because they distinguish code that deals with normal conditions from code that checks for errors.\n",
    "\n",
    "16.6  Glossary\n",
    "prototype and patch:\n",
    "A development plan that involves writing a rough draft of a program, testing, and correcting errors as they are found.\n",
    "designed development:\n",
    "A development plan that involves high-level insight into the problem and more planning than incremental development or prototype development.\n",
    "pure function:\n",
    "A function that does not modify any of the objects it receives as arguments. Most pure functions are fruitful.\n",
    "modifier:\n",
    "A function that changes one or more of the objects it receives as arguments. Most modifiers are void; that is, they return None.\n",
    "functional programming style:\n",
    "A style of program design in which the majority of functions are pure.\n",
    "invariant:\n",
    "A condition that should always be true during the execution of a program.\n",
    "assert statement:\n",
    "A statement that checks a condition and raises an exception if it fails.\n",
    "16.7  Exercises\n",
    "Code examples from this chapter are available from http://thinkpython2.com/code/Time1.py; solutions to the exercises are available from http://thinkpython2.com/code/Time1_soln.py.\n",
    "\n",
    "Exercise 1  \n",
    "Write a function called mul_time that takes a Time object and a number and returns a new Time object that contains the product of the original Time and the number.\n",
    "\n",
    "Then use mul_time to write a function that takes a Time object that represents the finishing time in a race, and a number that represents the distance, and returns a Time object that represents the average pace (time per mile).\n",
    "\n",
    "Exercise 2  \n",
    "The datetime module provides time objects that are similar to the Time objects in this chapter, but they provide a rich set of methods and operators. Read the documentation at http://docs.python.org/3/library/datetime.html.\n",
    "\n",
    "Use the datetime module to write a program that gets the current date and prints the day of the week.\n",
    "Write a program that takes a birthday as input and prints the user’s age and the number of days, hours, minutes and seconds until their next birthday.\n",
    "For two people born on different days, there is a day when one is twice as old as the other. That’s their Double Day. Write a program that takes two birth dates and computes their Double Day.\n",
    "For a little more challenge, write the more general version that computes the day when one person is n times older than the other.\n",
    "Solution: http://thinkpython2.com/code/double.py\n",
    "\n",
    "Buy this book at Amazon.com"
   ]
  },
  {
   "cell_type": "code",
   "execution_count": null,
   "id": "1749ec3c-6fa9-4b5d-86fa-c62f5fb18341",
   "metadata": {},
   "outputs": [],
   "source": []
  }
 ],
 "metadata": {
  "kernelspec": {
   "display_name": "Python 3 (ipykernel)",
   "language": "python",
   "name": "python3"
  },
  "language_info": {
   "codemirror_mode": {
    "name": "ipython",
    "version": 3
   },
   "file_extension": ".py",
   "mimetype": "text/x-python",
   "name": "python",
   "nbconvert_exporter": "python",
   "pygments_lexer": "ipython3",
   "version": "3.9.13"
  }
 },
 "nbformat": 4,
 "nbformat_minor": 5
}
