{
 "cells": [
  {
   "attachments": {},
   "cell_type": "markdown",
   "metadata": {},
   "source": [
    "Exercise 8   Here’s another Car Talk Puzzler (http://www.cartalk.com/content/puzzlers):\n",
    "“I was driving on the highway the other day and I happened to notice my odometer. Like most odometers, it shows six digits, in whole miles only. So, if my car had 300,000 miles, for example, I’d see 3-0-0-0-0-0.\n",
    "“Now, what I saw that day was very interesting. I noticed that the last 4 digits were palindromic; that is, they read the same forward as backward. For example, 5-4-4-5 is a palindrome, so my odometer could have read 3-1-5-4-4-5.\n",
    "\n",
    "“One mile later, the last 5 numbers were palindromic. For example, it could have read 3-6-5-4-5-6. One mile after that, the middle 4 out of 6 numbers were palindromic. And you ready for this? One mile later, all 6 were palindromic!\n",
    "\n",
    "“The question is, what was on the odometer when I first looked?”\n",
    "\n",
    "Write a Python program that tests all the six-digit numbers and prints any numbers that satisfy these requirements. Solution: http://thinkpython2.com/code/cartalk2.py."
   ]
  },
  {
   "cell_type": "code",
   "execution_count": 1,
   "metadata": {},
   "outputs": [
    {
     "name": "stdout",
     "output_type": "stream",
     "text": [
      "The following are the possible odometer readings:\n",
      "198888\n",
      "199999\n",
      "\n"
     ]
    }
   ],
   "source": [
    "\"\"\"This module contains a code example related to\n",
    "\n",
    "Think Python, 2nd Edition\n",
    "by Allen Downey\n",
    "http://thinkpython2.com\n",
    "\n",
    "Copyright 2015 Allen Downey\n",
    "\n",
    "License: http://creativecommons.org/licenses/by/4.0/\n",
    "\"\"\"\n",
    "\n",
    "from __future__ import print_function, division\n",
    "\n",
    "\n",
    "def has_palindrome(i, start, length):\n",
    "    \"\"\"Checks if the string representation of i has a palindrome.\n",
    "\n",
    "    i: integer\n",
    "    start: where in the string to start\n",
    "    length: length of the palindrome to check for\n",
    "    \"\"\"\n",
    "    s = str(i)[start:start+length]\n",
    "    return s[::-1] == s\n",
    "\n",
    "    \n",
    "def check(i):\n",
    "    \"\"\"Checks if the integer (i) has the desired properties.\n",
    "\n",
    "    i: int\n",
    "    \"\"\"\n",
    "    return (has_palindrome(i, 2, 4) and\n",
    "            has_palindrome(i+1, 1, 5) and\n",
    "            has_palindrome(i+2, 1, 4) and\n",
    "            has_palindrome(i+3, 0, 6))\n",
    "\n",
    "\n",
    "def check_all():\n",
    "    \"\"\"Enumerate the six-digit numbers and print any winners.\n",
    "    \"\"\"\n",
    "    i = 100000\n",
    "    while i <= 999996:\n",
    "        if check(i):\n",
    "            print(i)\n",
    "        i = i + 1\n",
    "\n",
    "\n",
    "print('The following are the possible odometer readings:')\n",
    "check_all()\n",
    "print()\n",
    "\n",
    "\n"
   ]
  }
 ],
 "metadata": {
  "kernelspec": {
   "display_name": "Python 3",
   "language": "python",
   "name": "python3"
  },
  "language_info": {
   "codemirror_mode": {
    "name": "ipython",
    "version": 3
   },
   "file_extension": ".py",
   "mimetype": "text/x-python",
   "name": "python",
   "nbconvert_exporter": "python",
   "pygments_lexer": "ipython3",
   "version": "3.10.9"
  },
  "orig_nbformat": 4,
  "vscode": {
   "interpreter": {
    "hash": "631e1f049cd2d2d8180e86c795294feb9c61d2aee0f8a54a46db8f780f364367"
   }
  }
 },
 "nbformat": 4,
 "nbformat_minor": 2
}
