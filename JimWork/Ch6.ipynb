{
 "cells": [
  {
   "cell_type": "code",
   "execution_count": null,
   "metadata": {},
   "outputs": [],
   "source": [
    "def is_divisible(x, y):\n",
    "    if x % y == 0:\n",
    "        return True\n",
    "    else:\n",
    "        return False\n",
    "\n",
    "state_info=is_divisible(4,8)\n",
    "print(state_info)"
   ]
  },
  {
   "cell_type": "code",
   "execution_count": null,
   "metadata": {},
   "outputs": [],
   "source": [
    "def is_divisible(x, y):\n",
    "    return x % y == 0\n",
    "\n",
    "print(is_divisible(4,4))"
   ]
  },
  {
   "cell_type": "code",
   "execution_count": null,
   "metadata": {},
   "outputs": [],
   "source": [
    "if is_divisible(4, 3):\n",
    "    print('x is divisible by y')\n",
    "else:\n",
    "    print('x is NOT divisible by y')"
   ]
  },
  {
   "cell_type": "code",
   "execution_count": null,
   "metadata": {},
   "outputs": [],
   "source": [
    "def is_between(a,b,c):\n",
    "    if a<=b<=c:\n",
    "        return True\n",
    "    else:\n",
    "        return False\n",
    "\n",
    "print(is_between(1,5,3))\n"
   ]
  },
  {
   "attachments": {},
   "cell_type": "markdown",
   "metadata": {},
   "source": [
    "If you saw that definition in the dictionary, you might be annoyed. On the other hand, if you looked up the definition of the factorial function, denoted with the symbol !, you might get something like this:\n",
    "\n",
    " \t \t0! = 1 \n",
    " \t \tn! = n (n−1)!\n",
    "\n",
    "Run debug thru the break points-- \t\n",
    "\n",
    "\t\tthe looping is of the recursion is nothing like I thought!"
   ]
  },
  {
   "cell_type": "code",
   "execution_count": null,
   "metadata": {},
   "outputs": [],
   "source": [
    "def factorial(n):\n",
    "    if n == 0:\n",
    "        return 1\n",
    "    else:\n",
    "        recurse = factorial(n-1) # see this recursive call within the definition!\n",
    "        result = n * recurse\n",
    "        return result\n",
    "factorial(4)"
   ]
  },
  {
   "attachments": {},
   "cell_type": "markdown",
   "metadata": {},
   "source": [
    "6.7  One more example\n",
    "\n",
    "After factorial, the most common example of a recursively defined mathematical function is fibonacci, which has the following definition (see http://en.wikipedia.org/wiki/Fibonacci_number):\n",
    "\n",
    " \t \tfibonacci(0) = 0 \n",
    " \t \tfibonacci(1) = 1 \n",
    " \t \tfibonacci(n) = fibonacci(n−1) + fibonacci(n−2)\n",
    "Translated into Python, it looks like this:\n",
    "\n",
    "\t\tinteresting it works in run mode but not in debug,  WTF"
   ]
  },
  {
   "cell_type": "code",
   "execution_count": null,
   "metadata": {},
   "outputs": [],
   "source": [
    "def fibonacci(n):\n",
    "#    print(\"fib\")\n",
    "    if n == 0:\n",
    "#        print(\"0\")\n",
    "        return 0\n",
    "    elif  n == 1:\n",
    "#        print(\"1\")\n",
    "        return 1\n",
    "    else:\n",
    "#        print(\"else\")\n",
    "        return fibonacci(n-1) + fibonacci(n-2)\n",
    "fibonacci(6)"
   ]
  },
  {
   "attachments": {},
   "cell_type": "markdown",
   "metadata": {},
   "source": [
    "here is a method to bullet proof non-integers or negatives.   There is also .isnumberic too"
   ]
  },
  {
   "cell_type": "code",
   "execution_count": 97,
   "metadata": {},
   "outputs": [
    {
     "data": {
      "text/plain": [
       "6"
      ]
     },
     "execution_count": 97,
     "metadata": {},
     "output_type": "execute_result"
    }
   ],
   "source": [
    "import math\n",
    "def factorial(n):\n",
    "    if not isinstance(n, int):\n",
    "        print('Factorial is only defined for integers.')\n",
    "        return None\n",
    "    elif n < 0:\n",
    "        print('Factorial is not defined for negative integers.')\n",
    "        return None\n",
    "    elif n == 0:\n",
    "        return 1\n",
    "    else:\n",
    "        return n * factorial(n-1)\n",
    "\n",
    "\n",
    "factorial(3)"
   ]
  },
  {
   "cell_type": "code",
   "execution_count": null,
   "metadata": {},
   "outputs": [],
   "source": [
    "import math\n",
    "a=2\n",
    "print(a.())"
   ]
  }
 ],
 "metadata": {
  "kernelspec": {
   "display_name": "Python 3",
   "language": "python",
   "name": "python3"
  },
  "language_info": {
   "codemirror_mode": {
    "name": "ipython",
    "version": 3
   },
   "file_extension": ".py",
   "mimetype": "text/x-python",
   "name": "python",
   "nbconvert_exporter": "python",
   "pygments_lexer": "ipython3",
   "version": "3.10.9"
  },
  "orig_nbformat": 4,
  "vscode": {
   "interpreter": {
    "hash": "631e1f049cd2d2d8180e86c795294feb9c61d2aee0f8a54a46db8f780f364367"
   }
  }
 },
 "nbformat": 4,
 "nbformat_minor": 2
}
