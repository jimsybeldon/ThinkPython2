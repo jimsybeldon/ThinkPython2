{
 "cells": [
  {
   "attachments": {},
   "cell_type": "markdown",
   "metadata": {},
   "source": [
    "# Chapter 6  Fruitful functions"
   ]
  },
  {
   "cell_type": "markdown",
   "metadata": {},
   "source": [
    "Defining the area function for later use"
   ]
  },
  {
   "cell_type": "code",
   "execution_count": 1,
   "metadata": {},
   "outputs": [
    {
     "ename": "NameError",
     "evalue": "name 'math' is not defined",
     "output_type": "error",
     "traceback": [
      "\u001b[1;31m---------------------------------------------------------------------------\u001b[0m",
      "\u001b[1;31mNameError\u001b[0m                                 Traceback (most recent call last)",
      "Cell \u001b[1;32mIn[1], line 3\u001b[0m\n\u001b[0;32m      1\u001b[0m \u001b[39mdef\u001b[39;00m \u001b[39marea\u001b[39m(radius):\n\u001b[0;32m      2\u001b[0m     \u001b[39mreturn\u001b[39;00m math\u001b[39m.\u001b[39mpi \u001b[39m*\u001b[39m radius\u001b[39m*\u001b[39m\u001b[39m*\u001b[39m\u001b[39m2\u001b[39m\n\u001b[1;32m----> 3\u001b[0m area(\u001b[39m2\u001b[39;49m)\n",
      "Cell \u001b[1;32mIn[1], line 2\u001b[0m, in \u001b[0;36marea\u001b[1;34m(radius)\u001b[0m\n\u001b[0;32m      1\u001b[0m \u001b[39mdef\u001b[39;00m \u001b[39marea\u001b[39m(radius):\n\u001b[1;32m----> 2\u001b[0m     \u001b[39mreturn\u001b[39;00m math\u001b[39m.\u001b[39mpi \u001b[39m*\u001b[39m radius\u001b[39m*\u001b[39m\u001b[39m*\u001b[39m\u001b[39m2\u001b[39m\n",
      "\u001b[1;31mNameError\u001b[0m: name 'math' is not defined"
     ]
    }
   ],
   "source": [
    "def area(radius):\n",
    "    return math.pi * radius**2\n",
    "area(2)"
   ]
  },
  {
   "attachments": {},
   "cell_type": "markdown",
   "metadata": {},
   "source": [
    "# See I forgot to import the math library"
   ]
  },
  {
   "cell_type": "code",
   "execution_count": null,
   "metadata": {},
   "outputs": [
    {
     "data": {
      "text/plain": [
       "3.141592653589793"
      ]
     },
     "execution_count": 10,
     "metadata": {},
     "output_type": "execute_result"
    }
   ],
   "source": [
    "import math\n",
    "def area(radius):\n",
    "    return math.pi * radius**2\n",
    "area(1)"
   ]
  },
  {
   "attachments": {},
   "cell_type": "markdown",
   "metadata": {},
   "source": [
    "Below is an example of code that is not bulletproof since it does nothing for 0.  It has to be fixed if used later."
   ]
  },
  {
   "cell_type": "code",
   "execution_count": null,
   "metadata": {},
   "outputs": [
    {
     "name": "stdout",
     "output_type": "stream",
     "text": [
      "None\n"
     ]
    }
   ],
   "source": [
    "def absolute_value(x):\n",
    "    if x < 0:\n",
    "        return -x\n",
    "    if x > 0:\n",
    "        return x\n",
    "absolute_value(0)\n",
    "print(absolute_value(0)) # running the print function yields the \"None\" in the output window-  I think this is a jupyter thingdef"
   ]
  },
  {
   "attachments": {},
   "cell_type": "markdown",
   "metadata": {},
   "source": [
    "The fuction below does calculate distance in x,y, and z.   The call of the function is first the initial position in x1, y1, z1 followed by\n",
    "the other position in x2, y2, z2.   Not certain but seems that could be better split into two sets of data... it becomes intuitive.\n",
    "Have to figure that out."
   ]
  },
  {
   "cell_type": "code",
   "execution_count": null,
   "metadata": {},
   "outputs": [
    {
     "name": "stdout",
     "output_type": "stream",
     "text": [
      "1.7320508075688772\n"
     ]
    },
    {
     "data": {
      "text/plain": [
       "1.4142135623730951"
      ]
     },
     "execution_count": 12,
     "metadata": {},
     "output_type": "execute_result"
    }
   ],
   "source": [
    "def distance(x1, y1, z1, x2, y2, z2):\n",
    "    dx = x2 - x1\n",
    "    dy = y2 - y1\n",
    "    dz = z2 - z1\n",
    "    dsquared = dx**2 + dy**2 + dz**2\n",
    "    result = math.sqrt(dsquared)\n",
    "    return result\n",
    "print(distance(0,0,0,1,1,1))\n",
    "distance(0,0,0,1,0,1)"
   ]
  },
  {
   "attachments": {},
   "cell_type": "markdown",
   "metadata": {},
   "source": [
    "THe code is my revision that is intuitive, and includes a formatting command for the floating point result.  Use this one"
   ]
  },
  {
   "cell_type": "code",
   "execution_count": null,
   "metadata": {},
   "outputs": [
    {
     "name": "stdout",
     "output_type": "stream",
     "text": [
      "1.7320508075688772  is you result\n",
      "1.732051 limited precision that rounds up or down to best accuracy\n"
     ]
    }
   ],
   "source": [
    "import math\n",
    "def pdistance(pt1,pt2):\n",
    "    dx = pt2[0]-pt1[0]\n",
    "    dy = pt2[1]-pt1[1]\n",
    "    dz = pt2[2]-pt1[2]\n",
    "    dsquared=dx**2+dy**2+dz**2\n",
    "    result =math.sqrt(dsquared)\n",
    "    return result\n",
    "\n",
    "point1=(0,0,0)\n",
    "point2=(1,1,1)\n",
    "ddd = pdistance(point1,point2)\n",
    "print(ddd,\" is you result\")\n",
    "print(\"{:.6f}\".format(ddd), \"limited precision that rounds up or down to best accuracy\")"
   ]
  },
  {
   "attachments": {},
   "cell_type": "markdown",
   "metadata": {},
   "source": [
    "# 6.3  Composition"
   ]
  },
  {
   "cell_type": "code",
   "execution_count": 22,
   "metadata": {},
   "outputs": [
    {
     "name": "stdout",
     "output_type": "stream",
     "text": [
      "11\n",
      "10\n",
      "9\n",
      "8\n",
      "7\n",
      "6\n",
      "5\n",
      "4\n",
      "4\n",
      "4\n"
     ]
    },
    {
     "ename": "NameError",
     "evalue": "name 'point1' is not defined",
     "output_type": "error",
     "traceback": [
      "\u001b[1;31m---------------------------------------------------------------------------\u001b[0m",
      "\u001b[1;31mNameError\u001b[0m                                 Traceback (most recent call last)",
      "Cell \u001b[1;32mIn[22], line 26\u001b[0m\n\u001b[0;32m     24\u001b[0m nformat\u001b[39m=\u001b[39m\u001b[39m4\u001b[39m\n\u001b[0;32m     25\u001b[0m target\u001b[39m=\u001b[39m\u001b[39m12\u001b[39m\n\u001b[1;32m---> 26\u001b[0m printformatted(nformat,target)\n",
      "Cell \u001b[1;32mIn[22], line 22\u001b[0m, in \u001b[0;36mprintformatted\u001b[1;34m(nformat, target)\u001b[0m\n\u001b[0;32m     20\u001b[0m target \u001b[39m=\u001b[39m target\u001b[39m-\u001b[39m\u001b[39m1\u001b[39m\n\u001b[0;32m     21\u001b[0m \u001b[39mprint\u001b[39m(target)\n\u001b[1;32m---> 22\u001b[0m printformatted(nformat,target)\n",
      "Cell \u001b[1;32mIn[22], line 22\u001b[0m, in \u001b[0;36mprintformatted\u001b[1;34m(nformat, target)\u001b[0m\n\u001b[0;32m     20\u001b[0m target \u001b[39m=\u001b[39m target\u001b[39m-\u001b[39m\u001b[39m1\u001b[39m\n\u001b[0;32m     21\u001b[0m \u001b[39mprint\u001b[39m(target)\n\u001b[1;32m---> 22\u001b[0m printformatted(nformat,target)\n",
      "    \u001b[1;31m[... skipping similar frames: printformatted at line 22 (5 times)]\u001b[0m\n",
      "Cell \u001b[1;32mIn[22], line 22\u001b[0m, in \u001b[0;36mprintformatted\u001b[1;34m(nformat, target)\u001b[0m\n\u001b[0;32m     20\u001b[0m target \u001b[39m=\u001b[39m target\u001b[39m-\u001b[39m\u001b[39m1\u001b[39m\n\u001b[0;32m     21\u001b[0m \u001b[39mprint\u001b[39m(target)\n\u001b[1;32m---> 22\u001b[0m printformatted(nformat,target)\n",
      "Cell \u001b[1;32mIn[22], line 17\u001b[0m, in \u001b[0;36mprintformatted\u001b[1;34m(nformat, target)\u001b[0m\n\u001b[0;32m     15\u001b[0m       \u001b[39mprint\u001b[39m(target)\n\u001b[0;32m     16\u001b[0m       \u001b[39mprint\u001b[39m(nformat)\n\u001b[1;32m---> 17\u001b[0m       \u001b[39mprint\u001b[39m((circle_area(point1,point2),nformat), \u001b[39m\"\u001b[39m\u001b[39m using the composed version\u001b[39m\u001b[39m\"\u001b[39m)\n\u001b[0;32m     18\u001b[0m       \u001b[39mreturn\u001b[39;00m\n\u001b[0;32m     20\u001b[0m target \u001b[39m=\u001b[39m target\u001b[39m-\u001b[39m\u001b[39m1\u001b[39m\n",
      "\u001b[1;31mNameError\u001b[0m: name 'point1' is not defined"
     ]
    }
   ],
   "source": [
    "def circle_area(pt1,pt2):\n",
    "    return area(pdistance(pt1, pt2))\n",
    "    \n",
    "def printformatted(nformat,target):\n",
    "      if int(nformat) < 0:\n",
    "        nformat=0\n",
    "        target=0\n",
    "        print(nformat,target)\n",
    "      if nformat > 12:\n",
    "        nformat=12\n",
    "        target=12\n",
    "        print(nformat,target)\n",
    "      if 0 <= nformat <= 12: \n",
    "         if nformat==target:\n",
    "            print(target)\n",
    "            print(nformat)\n",
    "            print((circle_area(point1,point2),nformat), \" using the composed version\")\n",
    "            return\n",
    "      \n",
    "      target = target-1\n",
    "      print(target)\n",
    "      printformatted(nformat,target)\n",
    "\n",
    "nformat=4\n",
    "target=12\n",
    "printformatted(nformat,target)"
   ]
  }
 ],
 "metadata": {
  "kernelspec": {
   "display_name": "Python 3",
   "language": "python",
   "name": "python3"
  },
  "language_info": {
   "codemirror_mode": {
    "name": "ipython",
    "version": 3
   },
   "file_extension": ".py",
   "mimetype": "text/x-python",
   "name": "python",
   "nbconvert_exporter": "python",
   "pygments_lexer": "ipython3",
   "version": "3.10.9"
  },
  "orig_nbformat": 4,
  "vscode": {
   "interpreter": {
    "hash": "631e1f049cd2d2d8180e86c795294feb9c61d2aee0f8a54a46db8f780f364367"
   }
  }
 },
 "nbformat": 4,
 "nbformat_minor": 2
}
