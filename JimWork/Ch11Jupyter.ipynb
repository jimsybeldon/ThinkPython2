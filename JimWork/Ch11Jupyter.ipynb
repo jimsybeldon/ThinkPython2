{
 "cells": [
  {
   "cell_type": "markdown",
   "id": "fc5c046a-7815-4210-adb3-7988b1c770c1",
   "metadata": {},
   "source": [
    "Chapter 11  Dictionaries\n",
    "This chapter presents another built-in type called a dictionary. Dictionaries are one of Python’s best features; they are the building blocks of many efficient and elegant algorithms.\n",
    "\n",
    "11.1  A dictionary is a mapping\n",
    "A dictionary is like a list, but more general. In a list, the indices have to be integers; in a dictionary they can be (almost) any type.\n",
    "\n",
    "A dictionary contains a collection of indices, which are called keys, and a collection of values. Each key is associated with a single value. The association of a key and a value is called a key-value pair or sometimes an item.\n",
    "\n",
    "        In mathematical language, a dictionary represents a mapping from keys to values, so you can also say that each key “maps to” a value. As an example, we’ll build a dictionary that maps from English to Spanish words, so the keys and the values are all strings.\n",
    "\n",
    "The function dict creates a new dictionary with no items. Because dict is the name of a built-in function, you should avoid using it as a variable name.\n"
   ]
  },
  {
   "cell_type": "code",
   "execution_count": 13,
   "id": "c67b9f02",
   "metadata": {},
   "outputs": [
    {
     "data": {
      "text/plain": [
       "{}"
      ]
     },
     "execution_count": 13,
     "metadata": {},
     "output_type": "execute_result"
    }
   ],
   "source": [
    "eng2sp = dict()\n",
    "\n",
    "eng2sp\n"
   ]
  },
  {
   "cell_type": "markdown",
   "id": "23e7501a",
   "metadata": {},
   "source": [
    "\n",
    "{}\n",
    "The squiggly-brackets, {}, represent an empty dictionary. To add items to the dictionary, you can use square brackets:\n"
   ]
  },
  {
   "cell_type": "code",
   "execution_count": 14,
   "id": "92ac206d",
   "metadata": {},
   "outputs": [
    {
     "data": {
      "text/plain": [
       "{'one': 'uno'}"
      ]
     },
     "execution_count": 14,
     "metadata": {},
     "output_type": "execute_result"
    }
   ],
   "source": [
    "\n",
    "eng2sp['one'] = 'uno'\n",
    "\n",
    "# This line creates an item that maps from the key 'one' to the value 'uno'. If we print the dictionary again, we see a key-value pair with a colon between the key and value:\n",
    "\n",
    "eng2sp\n"
   ]
  },
  {
   "cell_type": "markdown",
   "id": "28afd316",
   "metadata": {},
   "source": [
    "\n",
    "{'one': 'uno'}\n",
    "This output format is also an input format. For example, you can create a new dictionary with three items:\n"
   ]
  },
  {
   "cell_type": "code",
   "execution_count": 15,
   "id": "afe23ff2",
   "metadata": {},
   "outputs": [],
   "source": [
    "\n",
    "eng2sp = {'one': 'uno', 'two': 'dos', 'three': 'tres'}\n"
   ]
  },
  {
   "cell_type": "markdown",
   "id": "457602c8",
   "metadata": {},
   "source": [
    "\n",
    "But if you print eng2sp, you might be surprised:\n"
   ]
  },
  {
   "cell_type": "code",
   "execution_count": 16,
   "id": "13ea582e",
   "metadata": {},
   "outputs": [
    {
     "data": {
      "text/plain": [
       "{'one': 'uno', 'two': 'dos', 'three': 'tres'}"
      ]
     },
     "execution_count": 16,
     "metadata": {},
     "output_type": "execute_result"
    }
   ],
   "source": [
    "\n",
    "eng2sp\n"
   ]
  },
  {
   "cell_type": "markdown",
   "id": "05196570",
   "metadata": {},
   "source": [
    "\n",
    "{'one': 'uno', 'three': 'tres', 'two': 'dos'}\n",
    "The order of the key-value pairs might not be the same. If you type the same example on your computer, you might get a different result. In general, the order of items in a dictionary is unpredictable.\n",
    "\n",
    "But that’s not a problem because the elements of a dictionary are never indexed with integer indices. Instead, you use the keys to look up the corresponding values:\n"
   ]
  },
  {
   "cell_type": "code",
   "execution_count": 17,
   "id": "91ce55bd",
   "metadata": {},
   "outputs": [
    {
     "data": {
      "text/plain": [
       "'dos'"
      ]
     },
     "execution_count": 17,
     "metadata": {},
     "output_type": "execute_result"
    }
   ],
   "source": [
    "\n",
    "eng2sp['two']\n"
   ]
  },
  {
   "cell_type": "markdown",
   "id": "90523da6",
   "metadata": {},
   "source": [
    "'dos'\n",
    "The key 'two' always maps to the value 'dos' so the order of the items doesn’t matter.\n",
    "\n",
    "If the key isn’t in the dictionary, you get an exception:\n"
   ]
  },
  {
   "cell_type": "code",
   "execution_count": 18,
   "id": "47bfb9f6",
   "metadata": {},
   "outputs": [
    {
     "ename": "KeyError",
     "evalue": "'four'",
     "output_type": "error",
     "traceback": [
      "\u001b[1;31m---------------------------------------------------------------------------\u001b[0m",
      "\u001b[1;31mKeyError\u001b[0m                                  Traceback (most recent call last)",
      "Cell \u001b[1;32mIn[18], line 1\u001b[0m\n\u001b[1;32m----> 1\u001b[0m eng2sp[\u001b[39m'\u001b[39;49m\u001b[39mfour\u001b[39;49m\u001b[39m'\u001b[39;49m]\n",
      "\u001b[1;31mKeyError\u001b[0m: 'four'"
     ]
    }
   ],
   "source": [
    "eng2sp['four']\n"
   ]
  },
  {
   "cell_type": "markdown",
   "id": "c7d07c5a",
   "metadata": {},
   "source": [
    "\n",
    "KeyError: 'four'\n",
    "The len function works on dictionaries; it returns the number of key-value pairs:\n"
   ]
  },
  {
   "cell_type": "code",
   "execution_count": null,
   "id": "65a6007d",
   "metadata": {},
   "outputs": [
    {
     "data": {
      "text/plain": [
       "3"
      ]
     },
     "execution_count": 8,
     "metadata": {},
     "output_type": "execute_result"
    }
   ],
   "source": [
    "\n",
    "len(eng2sp)\n"
   ]
  },
  {
   "cell_type": "markdown",
   "id": "0da7a15b",
   "metadata": {},
   "source": [
    "\n",
    "The in operator works on dictionaries, too; it tells you whether something appears as a key in the dictionary (appearing as a value is not good enough).\n"
   ]
  },
  {
   "cell_type": "code",
   "execution_count": null,
   "id": "b1d4b689",
   "metadata": {},
   "outputs": [
    {
     "data": {
      "text/plain": [
       "True"
      ]
     },
     "execution_count": 9,
     "metadata": {},
     "output_type": "execute_result"
    }
   ],
   "source": [
    "\n",
    "'one' in eng2sp\n"
   ]
  },
  {
   "cell_type": "code",
   "execution_count": null,
   "id": "b5be1a5a",
   "metadata": {},
   "outputs": [
    {
     "data": {
      "text/plain": [
       "False"
      ]
     },
     "execution_count": 10,
     "metadata": {},
     "output_type": "execute_result"
    }
   ],
   "source": [
    "'uno' in eng2sp\n"
   ]
  },
  {
   "cell_type": "markdown",
   "id": "38571d64",
   "metadata": {},
   "source": [
    "False\n",
    "To see whether something appears as a value in a dictionary, you can use the method values, which returns a collection of values, and then use the in operator:"
   ]
  },
  {
   "cell_type": "code",
   "execution_count": null,
   "id": "b4440679",
   "metadata": {},
   "outputs": [
    {
     "data": {
      "text/plain": [
       "True"
      ]
     },
     "execution_count": 11,
     "metadata": {},
     "output_type": "execute_result"
    }
   ],
   "source": [
    "vals = eng2sp.values()\n",
    "'uno' in vals\n"
   ]
  },
  {
   "cell_type": "markdown",
   "id": "4578e032",
   "metadata": {},
   "source": [
    "True\n",
    "The in operator uses different algorithms for lists and dictionaries. For lists, it searches the elements of the list in order, as in Section 8.6. As the list gets longer, the search time gets longer in direct proportion.\n",
    "\n",
    "Python dictionaries use a data structure called a hashtable that has a remarkable property: the in operator takes about the same amount of time no matter how many items are in the dictionary. I explain how that’s possible in Section B.4, but the explanation might not make sense until you’ve read a few more chapters.\n",
    "\n",
    "11.2  Dictionary as a collection of counters\n",
    "\n",
    "Suppose you are given a string and you want to count how many times each letter appears. There are several ways you could do it:\n",
    "\n",
    "You could create 26 variables, one for each letter of the alphabet. Then you could traverse the string and, for each character, increment the corresponding counter, probably using a chained conditional.\n",
    "You could create a list with 26 elements. Then you could convert each character to a number (using the built-in function ord), use the number as an index into the list, and increment the appropriate counter.\n",
    "You could create a dictionary with characters as keys and counters as the corresponding values. The first time you see a character, you would add an item to the dictionary. After that you would increment the value of an existing item.\n",
    "Each of these options performs the same computation, but each of them implements that computation in a different way.\n",
    "\n",
    "An implementation is a way of performing a computation; some implementations are better than others. For example, an advantage of the dictionary implementation is that we don’t have to know ahead of time which letters appear in the string and we only have to make room for the letters that do appear.\n",
    "\n",
    "Here is what the code might look like:\n"
   ]
  },
  {
   "cell_type": "code",
   "execution_count": null,
   "id": "8d88c64f",
   "metadata": {},
   "outputs": [],
   "source": [
    "\n",
    "def histogram(s):\n",
    "    d = dict()\n",
    "    for c in s:\n",
    "        if c not in d:\n",
    "            d[c] = 1\n",
    "        else:\n",
    "            d[c] += 1\n",
    "    return d\n"
   ]
  },
  {
   "cell_type": "markdown",
   "id": "bb2f9c3b",
   "metadata": {},
   "source": [
    "The name of the function is histogram, which is a statistical term for a collection of counters (or frequencies).\n",
    "\n",
    "The first line of the function creates an empty dictionary. The for loop traverses the string. Each time through the loop, if the character c is not in the dictionary, we create a new item with key c and the initial value 1 (since we have seen this letter once). If c is already in the dictionary we increment d[c].\n",
    "\n",
    "Here’s how it works:\n"
   ]
  },
  {
   "cell_type": "code",
   "execution_count": null,
   "id": "39a8fed0",
   "metadata": {},
   "outputs": [
    {
     "data": {
      "text/plain": [
       "{'b': 1, 'r': 2, 'o': 2, 'n': 1, 't': 1, 's': 2, 'a': 1, 'u': 2}"
      ]
     },
     "execution_count": 13,
     "metadata": {},
     "output_type": "execute_result"
    }
   ],
   "source": [
    "\n",
    "h = histogram('brontosaurus')\n",
    "h\n"
   ]
  },
  {
   "cell_type": "markdown",
   "id": "355e93ff",
   "metadata": {},
   "source": [
    "{'a': 1, 'b': 1, 'o': 2, 'n': 1, 's': 2, 'r': 2, 'u': 2, 't': 1}\n",
    "The histogram indicates that the letters 'a' and 'b' appear once; 'o' appears twice, and so on.\n",
    "\n",
    "Dictionaries have a method called get that takes a key and a default value. If the key appears in the dictionary, get returns the corresponding value; otherwise it returns the default value. For example:\n"
   ]
  },
  {
   "cell_type": "code",
   "execution_count": null,
   "id": "5b639fde",
   "metadata": {},
   "outputs": [
    {
     "data": {
      "text/plain": [
       "{'a': 1}"
      ]
     },
     "execution_count": 31,
     "metadata": {},
     "output_type": "execute_result"
    }
   ],
   "source": [
    "\n",
    "h = histogram('a')\n",
    "h\n"
   ]
  },
  {
   "cell_type": "markdown",
   "id": "0e38c717",
   "metadata": {},
   "source": [
    "Syntax\n",
    "\n",
    "dictionary.get(keyname, value)\n",
    "\n",
    "Parameter Values\n",
    "\n",
    "        Parameter----Description\n",
    "\n",
    "        keyname------Required. The keyname of the item you want to return the value from\n",
    "\n",
    "        value--------Optional. A value to return if the specified key does not exist. (Default value None)"
   ]
  },
  {
   "cell_type": "code",
   "execution_count": null,
   "id": "b9f3f9a4",
   "metadata": {},
   "outputs": [
    {
     "data": {
      "text/plain": [
       "1"
      ]
     },
     "execution_count": 28,
     "metadata": {},
     "output_type": "execute_result"
    }
   ],
   "source": [
    "\n",
    "h.get('a', 0)\n"
   ]
  },
  {
   "cell_type": "code",
   "execution_count": null,
   "id": "cc030235",
   "metadata": {},
   "outputs": [
    {
     "name": "stdout",
     "output_type": "stream",
     "text": [
      "Mustang\n"
     ]
    }
   ],
   "source": [
    "car = {\n",
    "  \"brand\": \"Ford\",\n",
    "  \"model\": \"Mustang\",\n",
    "  \"year\": 1964\n",
    "}\n",
    "\n",
    "x = car.get(\"model\")\n",
    "\n",
    "print(x)"
   ]
  },
  {
   "cell_type": "code",
   "execution_count": null,
   "id": "202afd81",
   "metadata": {},
   "outputs": [
    {
     "data": {
      "text/plain": [
       "0"
      ]
     },
     "execution_count": 22,
     "metadata": {},
     "output_type": "execute_result"
    }
   ],
   "source": [
    "\n",
    "h.get('c', 0)\n"
   ]
  },
  {
   "cell_type": "markdown",
   "id": "fd93a7f0",
   "metadata": {},
   "source": [
    "As an exercise, use get to write histogram more concisely. You should be able to eliminate the if statement.\n",
    "\n",
    "11.3  Looping and dictionaries\n",
    "\n",
    "If you use a dictionary in a for statement, it traverses the keys of the dictionary. For example, print_hist prints each key and the corresponding value:\n"
   ]
  },
  {
   "cell_type": "code",
   "execution_count": null,
   "id": "ba9edd77",
   "metadata": {},
   "outputs": [],
   "source": [
    "\n",
    "def print_hist(h):\n",
    "    for c in h:\n",
    "        print(c, h[c])\n"
   ]
  },
  {
   "cell_type": "markdown",
   "id": "12267676",
   "metadata": {},
   "source": [
    "Here’s what the output looks like:\n"
   ]
  },
  {
   "cell_type": "code",
   "execution_count": null,
   "id": "93b291be",
   "metadata": {},
   "outputs": [
    {
     "name": "stdout",
     "output_type": "stream",
     "text": [
      "p 1\n",
      "a 1\n",
      "r 2\n",
      "o 1\n",
      "t 1\n"
     ]
    }
   ],
   "source": [
    "\n",
    "h = histogram('parrot')\n",
    "print_hist(h)"
   ]
  },
  {
   "cell_type": "markdown",
   "id": "e2f7566a",
   "metadata": {},
   "source": [
    "Again, the keys are in no particular order. To traverse the keys in sorted order, you can use the built-in function sorted:\n"
   ]
  },
  {
   "cell_type": "code",
   "execution_count": null,
   "id": "78522934",
   "metadata": {},
   "outputs": [
    {
     "name": "stdout",
     "output_type": "stream",
     "text": [
      "a 1\n",
      "o 1\n",
      "p 1\n",
      "r 2\n",
      "t 1\n"
     ]
    }
   ],
   "source": [
    "\n",
    "for key in sorted(h):\n",
    "    print(key, h[key])\n"
   ]
  },
  {
   "cell_type": "markdown",
   "id": "b5ca392a",
   "metadata": {},
   "source": [
    "11.4  Reverse lookup\n",
    "\n",
    "Given a dictionary d and a key k, it is easy to find the corresponding value v = d[k]. This operation is called a lookup.\n",
    "\n",
    "But what if you have v and you want to find k? You have two problems: first, there might be more than one key that maps to the value v. Depending on the application, you might be able to pick one, or you might have to make a list that contains all of them. Second, there is no simple syntax to do a reverse lookup; you have to search.\n",
    "\n",
    "Here is a function that takes a value and returns the first key that maps to that value:\n"
   ]
  },
  {
   "cell_type": "code",
   "execution_count": null,
   "id": "08b4a475",
   "metadata": {},
   "outputs": [],
   "source": [
    "def reverse_lookup(d, v):\n",
    "    for k in d:\n",
    "        if d[k] == v:\n",
    "            return k\n",
    "    raise LookupError()"
   ]
  },
  {
   "cell_type": "markdown",
   "id": "dd64da3b",
   "metadata": {},
   "source": [
    "\n",
    "This function is yet another example of the search pattern, but it uses a feature we haven’t seen before, raise. The raise statement causes an exception; in this case it causes a LookupError, which is a built-in exception used to indicate that a lookup operation failed.\n",
    "\n",
    "If we get to the end of the loop, that means v doesn’t appear in the dictionary as a value, so we raise an exception.\n",
    "\n",
    "Here is an example of a successful reverse lookup:\n"
   ]
  },
  {
   "cell_type": "code",
   "execution_count": null,
   "id": "b0f22885",
   "metadata": {},
   "outputs": [
    {
     "data": {
      "text/plain": [
       "'r'"
      ]
     },
     "execution_count": 39,
     "metadata": {},
     "output_type": "execute_result"
    }
   ],
   "source": [
    "\n",
    "h = histogram('parrot')\n",
    "key = reverse_lookup(h, 2)\n",
    "key\n"
   ]
  },
  {
   "cell_type": "markdown",
   "id": "618b041b",
   "metadata": {},
   "source": [
    "And an unsuccessful one:\n"
   ]
  },
  {
   "cell_type": "markdown",
   "id": "3fd76c0c",
   "metadata": {},
   "source": [
    "THe following is very interesting and a bit weird"
   ]
  },
  {
   "cell_type": "code",
   "execution_count": null,
   "id": "6cd5e115",
   "metadata": {},
   "outputs": [
    {
     "ename": "LookupError",
     "evalue": "",
     "output_type": "error",
     "traceback": [
      "\u001b[1;31m---------------------------------------------------------------------------\u001b[0m",
      "\u001b[1;31mLookupError\u001b[0m                               Traceback (most recent call last)",
      "Cell \u001b[1;32mIn[40], line 1\u001b[0m\n\u001b[1;32m----> 1\u001b[0m key \u001b[39m=\u001b[39m reverse_lookup(h, \u001b[39m3\u001b[39;49m)\n",
      "Cell \u001b[1;32mIn[38], line 5\u001b[0m, in \u001b[0;36mreverse_lookup\u001b[1;34m(d, v)\u001b[0m\n\u001b[0;32m      3\u001b[0m     \u001b[39mif\u001b[39;00m d[k] \u001b[39m==\u001b[39m v:\n\u001b[0;32m      4\u001b[0m         \u001b[39mreturn\u001b[39;00m k\n\u001b[1;32m----> 5\u001b[0m \u001b[39mraise\u001b[39;00m \u001b[39mLookupError\u001b[39;00m()\n",
      "\u001b[1;31mLookupError\u001b[0m: "
     ]
    }
   ],
   "source": [
    "\n",
    "key = reverse_lookup(h, 3)\n"
   ]
  },
  {
   "cell_type": "markdown",
   "id": "40b088aa",
   "metadata": {},
   "source": [
    "Traceback (most recent call last):\n",
    "  File \"<stdin>\", line 1, in <module>\n",
    "  File \"<stdin>\", line 5, in reverse_lookup\n",
    "LookupError\n",
    "The effect when you raise an exception is the same as when Python raises one: it prints a traceback and an error message.\n",
    "\n",
    "When you raise an exception, you can provide a detailed error message as an optional argument. For example:\n"
   ]
  },
  {
   "cell_type": "code",
   "execution_count": null,
   "id": "95501cfd",
   "metadata": {},
   "outputs": [
    {
     "ename": "LookupError",
     "evalue": "value does not appear in the dictionary",
     "output_type": "error",
     "traceback": [
      "\u001b[1;31m---------------------------------------------------------------------------\u001b[0m",
      "\u001b[1;31mLookupError\u001b[0m                               Traceback (most recent call last)",
      "Cell \u001b[1;32mIn[41], line 1\u001b[0m\n\u001b[1;32m----> 1\u001b[0m \u001b[39mraise\u001b[39;00m \u001b[39mLookupError\u001b[39;00m(\u001b[39m'\u001b[39m\u001b[39mvalue does not appear in the dictionary\u001b[39m\u001b[39m'\u001b[39m)\n",
      "\u001b[1;31mLookupError\u001b[0m: value does not appear in the dictionary"
     ]
    }
   ],
   "source": [
    "\n",
    "raise LookupError('value does not appear in the dictionary')\n"
   ]
  },
  {
   "cell_type": "markdown",
   "id": "0fb040b3",
   "metadata": {},
   "source": [
    "Traceback (most recent call last):\n",
    "  File \"<stdin>\", line 1, in ?\n",
    "LookupError: value does not appear in the dictionary\n",
    "A reverse lookup is much slower than a forward lookup; if you have to do it often, or if the dictionary gets big, the performance of your program will suffer.\n",
    "\n",
    "11.5  Dictionaries and lists\n",
    "\n",
    "Lists can appear as values in a dictionary. For example, if you are given a dictionary that maps from letters to frequencies, you might want to invert it; that is, create a dictionary that maps from frequencies to letters. Since there might be several letters with the same frequency, each value in the inverted dictionary should be a list of letters.\n",
    "\n",
    "Here is a function that inverts a dictionary:\n"
   ]
  },
  {
   "cell_type": "code",
   "execution_count": null,
   "id": "074c58c1",
   "metadata": {},
   "outputs": [],
   "source": [
    "def invert_dict(d):\n",
    "    inverse = dict()\n",
    "    for key in d:\n",
    "        val = d[key]\n",
    "        if val not in inverse:\n",
    "            inverse[val] = [key]\n",
    "        else:\n",
    "            inverse[val].append(key)\n",
    "    return inverse\n"
   ]
  },
  {
   "cell_type": "markdown",
   "id": "cd201c2d",
   "metadata": {},
   "source": [
    "Each time through the loop, key gets a key from d and val gets the corresponding value. If val is not in inverse, that means we haven’t seen it before, so we create a new item and initialize it with a singleton (a list that contains a single element). Otherwise we have seen this value before, so we append the corresponding key to the list.\n",
    "\n",
    "Here is an example:\n"
   ]
  },
  {
   "cell_type": "code",
   "execution_count": null,
   "id": "1dcb1e99",
   "metadata": {},
   "outputs": [
    {
     "data": {
      "text/plain": [
       "{'p': 1, 'a': 1, 'r': 2, 'o': 1, 't': 1}"
      ]
     },
     "execution_count": 43,
     "metadata": {},
     "output_type": "execute_result"
    }
   ],
   "source": [
    "\n",
    "hist = histogram('parrot')\n",
    "hist\n"
   ]
  },
  {
   "cell_type": "code",
   "execution_count": null,
   "id": "122a6b1c",
   "metadata": {},
   "outputs": [
    {
     "data": {
      "text/plain": [
       "{1: ['p', 'a', 'o', 't'], 2: ['r']}"
      ]
     },
     "execution_count": 44,
     "metadata": {},
     "output_type": "execute_result"
    }
   ],
   "source": [
    "\n",
    "inverse = invert_dict(hist)\n",
    "inverse\n",
    "\n"
   ]
  },
  {
   "attachments": {
    "0ac3b304-37c3-4835-9cef-a079f7e464ed.png": {
     "image/png": "[encoded data removed]"
    },
    "image.png": {
     "image/png": "[encoded data removed]"
    }
   },
   "cell_type": "markdown",
   "id": "b5f7a7d4",
   "metadata": {},
   "source": [
    "    \n",
    "![image.png](attachment:0ac3b304-37c3-4835-9cef-a079f7e464ed.png)\n",
    "    \n",
    "Figure 11.1 is a state diagram showing hist and inverse. A dictionary is represented as a box with the type dict above it and the key-value pairs inside. If the values are integers, floats or strings, I draw them inside the box, but I usually draw lists outside the box, just to keep the diagram simple.\n",
    "\n",
    "Lists can be values in a dictionary, as this example shows, but they cannot be keys. Here’s what happens if you try:\n",
    "\n",
    ">>> t = [1, 2, 3]\n",
    ">>> d = dict()\n",
    ">>> d[t] = 'oops'\n",
    "Traceback (most recent call last):\n",
    "  File \"<stdin>\", line 1, in ?\n",
    "TypeError: list objects are unhashable\n",
    "I mentioned earlier that a dictionary is implemented using a hashtable and that means that the keys have to be hashable.\n",
    "\n",
    "A hash is a function that takes a value (of any kind) and returns an integer. Dictionaries use these integers, called hash values, to store and look up key-value pairs.\n",
    "\n",
    "This system works fine if the keys are immutable. But if the keys are mutable, like lists, bad things happen. For example, when you create a key-value pair, Python hashes the key and stores it in the corresponding location. If you modify the key and then hash it again, it would go to a different location. In that case you might have two entries for the same key, or you might not be able to find a key. Either way, the dictionary wouldn’t work correctly.\n",
    "\n",
    "That’s why keys have to be hashable, and why mutable types like lists aren’t. The simplest way to get around this limitation is to use tuples, which we will see in the next chapter.\n",
    "\n",
    "Since dictionaries are mutable, they can’t be used as keys, but they can be used as values.\n",
    "\n",
    "11.6  Memos\n",
    "        https://greenteapress.com/thinkpython2/html/thinkpython2012.html\n",
    "![image.png](attachment:image.png)\n",
    "If you played with the fibonacci function from Section 6.7, you might have noticed that the bigger the argument you provide, the longer the function takes to run. Furthermore, the run time increases quickly.\n",
    "\n",
    "To understand why, consider Figure 11.2, which shows the call graph for fibonacci with n=4:\n",
    "    \n",
    "![image.png](attachment:fc33d7c9-6031-443f-a36b-a66363dd4666.png)\n",
    "    \n",
    "A call graph shows a set of function frames, with lines connecting each frame to the frames of the functions it calls. At the top of the graph, fibonacci with n=4 calls fibonacci with n=3 and n=2. In turn, fibonacci with n=3 calls fibonacci with n=2 and n=1. And so on.\n",
    "\n",
    "Count how many times fibonacci(0) and fibonacci(1) are called. This is an inefficient solution to the problem, and it gets worse as the argument gets bigger.\n",
    "\n",
    "One solution is to keep track of values that have already been computed by storing them in a dictionary. A previously computed value that is stored for later use is called a memo. Here is a “memoized” version of fibonacci:\n",
    "\n",
    "known = {0:0, 1:1}\n",
    "\n",
    "def fibonacci(n):\n",
    "    if n in known:\n",
    "        return known[n]\n",
    "\n",
    "    res = fibonacci(n-1) + fibonacci(n-2)\n",
    "    known[n] = res\n",
    "    return res\n",
    "known is a dictionary that keeps track of the Fibonacci numbers we already know. It starts with two items: 0 maps to 0 and 1 maps to 1.\n",
    "\n",
    "Whenever fibonacci is called, it checks known. If the result is already there, it can return immediately. Otherwise it has to compute the new value, add it to the dictionary, and return it.\n",
    "\n",
    "If you run this version of fibonacci and compare it with the original, you will find that it is much faster.\n",
    "\n",
    "11.7  Global variables\n",
    "\n",
    "In the previous example, known is created outside the function, so it belongs to the special frame called __main__. Variables in __main__ are sometimes called global because they can be accessed from any function. Unlike local variables, which disappear when their function ends, global variables persist from one function call to the next.\n",
    "\n",
    "It is common to use global variables for flags; that is, boolean variables that indicate (“flag”) whether a condition is true. For example, some programs use a flag named verbose to control the level of detail in the output:\n",
    "\n",
    "verbose = True\n",
    "\n",
    "def example1():\n",
    "    if verbose:\n",
    "        print('Running example1')\n",
    "If you try to reassign a global variable, you might be surprised. The following example is supposed to keep track of whether the function has been called:\n",
    "\n",
    "been_called = False\n",
    "\n",
    "def example2():\n",
    "    been_called = True         # WRONG\n",
    "But if you run it you will see that the value of been_called doesn’t change. The problem is that example2 creates a new local variable named been_called. The local variable goes away when the function ends, and has no effect on the global variable.\n",
    "\n",
    "To reassign a global variable inside a function you have to declare the global variable before you use it:\n",
    "\n",
    "been_called = False\n",
    "\n",
    "def example2():\n",
    "    global been_called \n",
    "    been_called = True\n",
    "The global statement tells the interpreter something like, “In this function, when I say been_called, I mean the global variable; don’t create a local one.”\n",
    "\n",
    "Here’s an example that tries to update a global variable:\n",
    "\n",
    "count = 0\n",
    "\n",
    "def example3():\n",
    "    count = count + 1          # WRONG\n",
    "If you run it you get:\n",
    "\n",
    "UnboundLocalError: local variable 'count' referenced before assignment\n",
    "Python assumes that count is local, and under that assumption you are reading it before writing it. The solution, again, is to declare count global.\n",
    "\n",
    "def example3():\n",
    "    global count\n",
    "    count += 1\n",
    "If a global variable refers to a mutable value, you can modify the value without declaring the variable:\n",
    "\n",
    "known = {0:0, 1:1}\n",
    "\n",
    "def example4():\n",
    "    known[2] = 1\n",
    "So you can add, remove and replace elements of a global list or dictionary, but if you want to reassign the variable, you have to declare it:\n",
    "\n",
    "def example5():\n",
    "    global known\n",
    "    known = dict()\n",
    "Global variables can be useful, but if you have a lot of them, and you modify them frequently, they can make programs hard to debug.\n",
    "\n",
    "11.8  Debugging\n",
    "\n",
    "As you work with bigger datasets it can become unwieldy to debug by printing and checking the output by hand. Here are some suggestions for debugging large datasets:\n",
    "\n",
    "Scale down the input:\n",
    "If possible, reduce the size of the dataset. For example if the program reads a text file, start with just the first 10 lines, or with the smallest example you can find. You can either edit the files themselves, or (better) modify the program so it reads only the first n lines.\n",
    "If there is an error, you can reduce n to the smallest value that manifests the error, and then increase it gradually as you find and correct errors.\n",
    "\n",
    "Check summaries and types:\n",
    "Instead of printing and checking the entire dataset, consider printing summaries of the data: for example, the number of items in a dictionary or the total of a list of numbers.\n",
    "A common cause of runtime errors is a value that is not the right type. For debugging this kind of error, it is often enough to print the type of a value.\n",
    "\n",
    "Write self-checks:\n",
    "Sometimes you can write code to check for errors automatically. For example, if you are computing the average of a list of numbers, you could check that the result is not greater than the largest element in the list or less than the smallest. This is called a “sanity check” because it detects results that are “insane”.\n",
    "Another kind of check compares the results of two different computations to see if they are consistent. This is called a “consistency check”.\n",
    "\n",
    "Format the output:\n",
    "Formatting debugging output can make it easier to spot an error. We saw an example in Section 6.9. Another tool you might find useful is the pprint module, which provides a pprint function that displays built-in types in a more human-readable format (pprint stands for “pretty print”).\n",
    "Again, time you spend building scaffolding can reduce the time you spend debugging.\n",
    "\n",
    "11.9  Glossary\n",
    "mapping:\n",
    "A relationship in which each element of one set corresponds to an element of another set.\n",
    "dictionary:\n",
    "A mapping from keys to their corresponding values.\n",
    "key-value pair:\n",
    "The representation of the mapping from a key to a value.\n",
    "item:\n",
    "In a dictionary, another name for a key-value pair.\n",
    "key:\n",
    "An object that appears in a dictionary as the first part of a key-value pair.\n",
    "value:\n",
    "An object that appears in a dictionary as the second part of a key-value pair. This is more specific than our previous use of the word “value”.\n",
    "implementation:\n",
    "A way of performing a computation.\n",
    "hashtable:\n",
    "The algorithm used to implement Python dictionaries.\n",
    "hash function:\n",
    "A function used by a hashtable to compute the location for a key.\n",
    "hashable:\n",
    "A type that has a hash function. Immutable types like integers, floats and strings are hashable; mutable types like lists and dictionaries are not.\n",
    "lookup:\n",
    "A dictionary operation that takes a key and finds the corresponding value.\n",
    "reverse lookup:\n",
    "A dictionary operation that takes a value and finds one or more keys that map to it.\n",
    "raise statement:\n",
    "A statement that (deliberately) raises an exception.\n",
    "singleton:\n",
    "A list (or other sequence) with a single element.\n",
    "call graph:\n",
    "A diagram that shows every frame created during the execution of a program, with an arrow from each caller to each callee.\n",
    "memo:\n",
    "A computed value stored to avoid unnecessary future computation.\n",
    "global variable:\n",
    "A variable defined outside a function. Global variables can be accessed from any function.\n",
    "global statement:\n",
    "A statement that declares a variable name global.\n",
    "flag:\n",
    "A boolean variable used to indicate whether a condition is true.\n",
    "declaration:\n",
    "A statement like global that tells the interpreter something about a variable.\n",
    "11.10  Exercises\n",
    "Exercise 1  \n",
    "Write a function that reads the words in words.txt and stores them as keys in a dictionary. It doesn’t matter what the values are. Then you can use the in operator as a fast way to check whether a string is in the dictionary.\n",
    "\n",
    "If you did Exercise 10, you can compare the speed of this implementation with the list in operator and the bisection search.\n",
    "\n",
    "Exercise 2  \n",
    "Read the documentation of the dictionary method setdefault and use it to write a more concise version of invert_dict. Solution: http://thinkpython2.com/code/invert_dict.py.\n",
    "\n",
    "Exercise 3   Memoize the Ackermann function from Exercise 2 and see if memoization makes it possible to evaluate the function with bigger arguments. Hint: no. Solution: http://thinkpython2.com/code/ackermann_memo.py.\n",
    "Exercise 4  \n",
    "If you did Exercise 7, you already have a function named has_duplicates that takes a list as a parameter and returns True if there is any object that appears more than once in the list.\n",
    "\n",
    "Use a dictionary to write a faster, simpler version of has_duplicates. Solution: http://thinkpython2.com/code/has_duplicates.py.\n",
    "\n",
    "Exercise 5  \n",
    "Two words are “rotate pairs” if you can rotate one of them and get the other (see rotate_word in Exercise 5).\n",
    "\n",
    "Write a program that reads a wordlist and finds all the rotate pairs. Solution: http://thinkpython2.com/code/rotate_pairs.py.\n",
    "\n",
    "Exercise 6  \n",
    "Here’s another Puzzler from Car Talk (http://www.cartalk.com/content/puzzlers):\n",
    "\n",
    "This was sent in by a fellow named Dan O’Leary. He came upon a common one-syllable, five-letter word recently that has the following unique property. When you remove the first letter, the remaining letters form a homophone of the original word, that is a word that sounds exactly the same. Replace the first letter, that is, put it back and remove the second letter and the result is yet another homophone of the original word. And the question is, what’s the word?\n",
    "Now I’m going to give you an example that doesn’t work. Let’s look at the five-letter word, ‘wrack.’ W-R-A-C-K, you know like to ‘wrack with pain.’ If I remove the first letter, I am left with a four-letter word, ’R-A-C-K.’ As in, ‘Holy cow, did you see the rack on that buck! It must have been a nine-pointer!’ It’s a perfect homophone. If you put the ‘w’ back, and remove the ‘r,’ instead, you’re left with the word, ‘wack,’ which is a real word, it’s just not a homophone of the other two words.\n",
    "\n",
    "But there is, however, at least one word that Dan and we know of, which will yield two homophones if you remove either of the first two letters to make two, new four-letter words. The question is, what’s the word?\n",
    "\n",
    "\n",
    "You can use the dictionary from Exercise 1 to check whether a string is in the word list.\n",
    "\n",
    "To check whether two words are homophones, you can use the CMU Pronouncing Dictionary. You can download it from http://www.speech.cs.cmu.edu/cgi-bin/cmudict or from http://thinkpython2.com/code/c06d and you can also download http://thinkpython2.com/code/pronounce.py, which provides a function named read_dictionary that reads the pronouncing dictionary and returns a Python dictionary that maps from each word to a string that describes its primary pronunciation.\n",
    "\n",
    "Write a program that lists all the words that solve the Puzzler. Solution: http://thinkpython2.com/code/homophone.py.\n",
    "\n",
    "Buy this book at Amazon.com"
   ]
  },
  {
   "cell_type": "code",
   "execution_count": null,
   "id": "a33faba0-9517-46f6-a86a-47c7650b5794",
   "metadata": {},
   "outputs": [],
   "source": []
  }
 ],
 "metadata": {
  "kernelspec": {
   "display_name": "Python 3 (ipykernel)",
   "language": "python",
   "name": "python3"
  },
  "language_info": {
   "codemirror_mode": {
    "name": "ipython",
    "version": 3
   },
   "file_extension": ".py",
   "mimetype": "text/x-python",
   "name": "python",
   "nbconvert_exporter": "python",
   "pygments_lexer": "ipython3",
   "version": "3.10.9"
  },
  "vscode": {
   "interpreter": {
    "hash": "631e1f049cd2d2d8180e86c795294feb9c61d2aee0f8a54a46db8f780f364367"
   }
  }
 },
 "nbformat": 4,
 "nbformat_minor": 5
}
